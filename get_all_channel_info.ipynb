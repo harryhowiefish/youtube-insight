{
 "cells": [
  {
   "cell_type": "code",
   "execution_count": 5,
   "metadata": {},
   "outputs": [
    {
     "data": {
      "text/plain": [
       "100"
      ]
     },
     "execution_count": 5,
     "metadata": {},
     "output_type": "execute_result"
    }
   ],
   "source": [
    "import src.get_data as get_data\n",
    "import time\n",
    "\n",
    "with open('channel_ids.txt','r') as f:\n",
    "    names = f.read().replace('\\n', '').split(',')\n",
    "\n",
    "\n",
    "youtube = get_data.start_youtube_connection('config/secrets.json')\n",
    "len(names)"
   ]
  },
  {
   "cell_type": "code",
   "execution_count": 7,
   "metadata": {},
   "outputs": [
    {
     "data": {
      "text/plain": [
       "{'channel_id': 'UCtcaZ5FUqaNXGX6xhpiGPQA',\n",
       " 'view_count': '537796853',\n",
       " 'sub_count': '1600000',\n",
       " 'video_count': '749'}"
      ]
     },
     "execution_count": 7,
     "metadata": {},
     "output_type": "execute_result"
    }
   ],
   "source": [
    "get_data.get_channel_stat(youtube,'UCtcaZ5FUqaNXGX6xhpiGPQA')"
   ]
  },
  {
   "cell_type": "code",
   "execution_count": 3,
   "metadata": {},
   "outputs": [
    {
     "name": "stdout",
     "output_type": "stream",
     "text": [
      "UCnhQvCDyFLRTyhHwqI2pAAA\n",
      "UCDHCCiZigoUdf5rmYHw2y4A\n",
      "\n"
     ]
    }
   ],
   "source": [
    "results = []\n",
    "completed = []\n",
    "for name in names:\n",
    "    try:\n",
    "        result = get_data.get_channel_info(youtube,name)\n",
    "        results.append(result)\n",
    "        completed.append(name)\n",
    "    except:\n",
    "        print(name)\n",
    "    \n"
   ]
  },
  {
   "cell_type": "code",
   "execution_count": 4,
   "metadata": {},
   "outputs": [
    {
     "data": {
      "text/plain": [
       "97"
      ]
     },
     "execution_count": 4,
     "metadata": {},
     "output_type": "execute_result"
    }
   ],
   "source": [
    "len(results)"
   ]
  },
  {
   "cell_type": "code",
   "execution_count": 6,
   "metadata": {},
   "outputs": [
    {
     "data": {
      "text/plain": [
       "{'', 'UCDHCCiZigoUdf5rmYHw2y4A', 'UCnhQvCDyFLRTyhHwqI2pAAA'}"
      ]
     },
     "execution_count": 6,
     "metadata": {},
     "output_type": "execute_result"
    }
   ],
   "source": [
    "set(names).difference(completed)"
   ]
  },
  {
   "cell_type": "code",
   "execution_count": 5,
   "metadata": {},
   "outputs": [
    {
     "data": {
      "text/plain": [
       "97"
      ]
     },
     "execution_count": 5,
     "metadata": {},
     "output_type": "execute_result"
    }
   ],
   "source": [
    "len(completed)"
   ]
  },
  {
   "cell_type": "code",
   "execution_count": 7,
   "metadata": {},
   "outputs": [],
   "source": [
    "import pandas as pd"
   ]
  },
  {
   "cell_type": "code",
   "execution_count": 10,
   "metadata": {},
   "outputs": [],
   "source": [
    "df = pd.DataFrame(results)"
   ]
  },
  {
   "cell_type": "code",
   "execution_count": 17,
   "metadata": {},
   "outputs": [],
   "source": [
    "df.to_json('top_97_channels.json',orient='records',force_ascii=False)"
   ]
  },
  {
   "cell_type": "code",
   "execution_count": 14,
   "metadata": {},
   "outputs": [
    {
     "name": "stdout",
     "output_type": "stream",
     "text": [
      "['奇軒Tricking', 'Muse Asia', 'Cdrama BOX', 'Jay Lee Painting', 'Songsong and Ermao', 'Roman and Sharon', '葉式特工Yes Ranger', 'Vidol TV', '【由你玩四年】官方频道', 'Omeleto', 'Namewee', '這群人TGOP', 'Pan Piano', '滾石唱片 ROCK RECORDS', '瑪莎與熊 Masha and The Bear CH', '中天電視', '碰碰狐 鯊魚寶寶 (兒童兒歌・故事)', '阿神', '關鍵時刻', 'NewShowBiz完全娛樂', '寶寶巴士 - 中文兒歌童謠 - 卡通動畫', 'Real Ultraman Short video', '周杰倫 Jay Chou', 'Ahong & Life Experiment', '阿滴英文', '相信音樂BinMusic', 'TVBS NEWS', 'Joeman', \"Ru's Piano Ru味春捲\", '三立新聞網SETN', '蔡阿嘎', '中天新聞', 'Lucas and Kibo', '木曜4超玩', 'YoYo Arabic Channel', '東森新聞 CH51', '捷成华视—偶像剧场 Idol & Romance', 'Experimental power Mu Mu', '眾量級CROWD', '黃氏兄弟', 'Terry Films', '华策影视青春剧场 HUACE GLOBAL FUN', '暖暖Furbaby', 'Muse木棉花-TW', 'DE JuN', '台灣達人秀', '千千進食中', 'MASA', '华策影视官方频道 China Huace TV Official Channel', '福茂唱片', 'STR Network', '三立LIVE新聞', \"Ku's dream酷的夢-\", '宇哥侃故事', '民視戲劇館 Formosa TV Dramas', 'WACKYBOYS 反骨男孩', '健康2.0', 'Wetube Group', '蔡阿嘎Life', '風傳媒 The Storm Media', '人生肥宅x尊', '白癡公主', 'YOYOTV', '啾啾鞋', '華納音樂 Warner Music Taiwan', '周杰倫 Jay Chou', '黃阿瑪的後宮生活', '綜藝玩很大 Mr.Player', '中時新聞網', '華研國際', '77老大', '三原JAPAN Sanyuan_JAPAN', '老高夫妇', 'HowFun', '亮生活 / Bright Side', '阙佩琪', 'Hot Emma', 'HOOK', \"Rosalina's Kitchen 蘿潔塔的廚房\", 'Allen Tsai', '滴妹', '少康戰情室 TVBS Situation Room', 'cheap', 'PAPAYA 電腦教室', '喪屍老爸', '角落動物TV Top animal world', '天天看一廈', 'Cate Food Travel 凱特食旅', 'Andy & Popo', '安啾咪', '志祺七七 X 圖文不符', '我的世界小救星', '鲸', 'GQ Taiwan', 'Howwork X 六指淵', '墨鏡哥SG', '好棒Bump']\n"
     ]
    }
   ],
   "source": [
    "print(df.name.to_list())"
   ]
  },
  {
   "cell_type": "code",
   "execution_count": 11,
   "metadata": {},
   "outputs": [],
   "source": [
    "df.to_csv('top_97_channels.csv',index=False)"
   ]
  },
  {
   "cell_type": "code",
   "execution_count": 27,
   "metadata": {},
   "outputs": [],
   "source": [
    "df = pd.read_json('filtered.json',orient='records')"
   ]
  },
  {
   "cell_type": "code",
   "execution_count": 1,
   "metadata": {},
   "outputs": [],
   "source": [
    "import psycopg2\n",
    "\n",
    "# Update connection string information\n",
    "host = \"localhost\"\n",
    "dbname = \"demodb\"\n",
    "user = \"postgres\"\n",
    "password = \"postgres\"\n",
    "sslmode = \"allow\"\n",
    "\n",
    "# Construct connection string\n",
    "conn_string = \"host={0} user={1} dbname={2} password={3} sslmode={4}\".format(host, user, dbname, password, sslmode)\n"
   ]
  },
  {
   "cell_type": "code",
   "execution_count": 2,
   "metadata": {},
   "outputs": [
    {
     "name": "stdout",
     "output_type": "stream",
     "text": [
      "Connection established\n"
     ]
    }
   ],
   "source": [
    "conn = psycopg2.connect(conn_string)\n",
    "print(\"Connection established\")"
   ]
  },
  {
   "cell_type": "code",
   "execution_count": 30,
   "metadata": {},
   "outputs": [
    {
     "name": "stdout",
     "output_type": "stream",
     "text": [
      "Connection established\n",
      "complete\n"
     ]
    }
   ],
   "source": [
    "conn = psycopg2.connect(conn_string)\n",
    "print(\"Connection established\")\n",
    "insert_stmt = \"\"\"\n",
    "INSERT INTO channel (channel_id, name, customUrl, published_date, thumbnail_url, description, country, topic, keywords) \n",
    "VALUES (%s, %s, %s, %s, %s, %s, %s, %s, %s)\n",
    "\"\"\"\n",
    "from psycopg2.extras import execute_batch\n",
    "\n",
    "cur = conn.cursor()\n",
    "\n",
    "try:\n",
    "    # Execute the INSERT statement for each row in the DataFrame\n",
    "    execute_batch(cur, insert_stmt, df.values)\n",
    "\n",
    "    # Commit the transaction\n",
    "    print('complete')\n",
    "    conn.commit()\n",
    "\n",
    "except Exception as e:\n",
    "    # Rollback the transaction on error\n",
    "    conn.rollback()\n",
    "    print(f\"An error occurred: {e}\")\n",
    "\n",
    "finally:\n",
    "    # Close the cursor and the connection\n",
    "    cur.close()\n",
    "    conn.close()"
   ]
  },
  {
   "cell_type": "code",
   "execution_count": 6,
   "metadata": {},
   "outputs": [
    {
     "name": "stdout",
     "output_type": "stream",
     "text": [
      "Connection established\n"
     ]
    }
   ],
   "source": [
    "conn = psycopg2.connect(conn_string)\n",
    "print(\"Connection established\")\n",
    "\n",
    "cur = conn.cursor()\n",
    "try:\n",
    "    cur.execute(\"SELECT channel_id FROM channel;\")\n",
    "    channel_ids = cur.fetchall()\n",
    "except Exception as e:\n",
    "    # Rollback the transaction on error\n",
    "    conn.rollback()\n",
    "    print(f\"An error occurred: {e}\")\n",
    "\n",
    "finally:\n",
    "    # Close the cursor and the connection\n",
    "    cur.close()\n",
    "    conn.close()"
   ]
  },
  {
   "cell_type": "code",
   "execution_count": 7,
   "metadata": {},
   "outputs": [],
   "source": [
    "channel_ids = [item[0] for item in channel_ids]"
   ]
  },
  {
   "cell_type": "code",
   "execution_count": 12,
   "metadata": {},
   "outputs": [
    {
     "name": "stdout",
     "output_type": "stream",
     "text": [
      "UCGbshtvS9t-8CW11W7TooQg\n",
      "UCvw1LiGdyulhnGksJlGWB6g\n",
      "UCHm9SiOLG8UoBT8STWY5mVA\n",
      "UCnWCj9UofS6OxSK34xWvKCg\n",
      "UCXpxKdZAiyUEaTkoCPpEZzg\n",
      "UCFUtqTcgJgRnmZ3tMU6P74Q\n",
      "UC6FcYHEm7SO1jpu5TKjNXEA\n",
      "UCI7ktPB6toqucpkkCiolwLg\n",
      "UCPcF3KTqhD67ADkukx_OeDg\n",
      "UCFsXFlbI8FpNAVQ_RL3I4bw\n",
      "UC5l1Yto5oOIgRXlI4p4VKbw\n",
      "UCdEpz2A4DzV__4C1x2quKLw\n",
      "UCrLO-yoAu4ZTzRSdmWqS53A\n",
      "UCnJEWsS5agXCkqIpyHC9Grg\n",
      "UCKQVSNdzGBJSXaUmS4TOWww\n",
      "UCX9VHpN62jkqCCntHxymPOA\n",
      "UCttafJi4SCirZhlxsxISbyA\n",
      "UC8CU5nVhCQIdAGrFFp4loOQ\n",
      "UCeo3JwE3HezUWFdVcehQk9Q\n",
      "UC7ovu6a8ydIbDy0fAKmoZ9A\n",
      "UC5nwNW4KdC0SzrhF9BXEYOQ\n",
      "UCPRWWKG0VkBA0Pqa4Jr5j0Q\n",
      "UCAYrMNl92jw6cpjdpBP8JyA\n",
      "UCIU8ha-NHmLjtUwU7dFiXUA\n",
      "UCPwxSX0DYDMQxCvgfeVDv_g\n",
      "UCpu3bemTQwAU8PqM4kJdoEQ\n",
      "UCLW_SzI9txZvtOFTPDswxqg\n",
      "UCcb9uxCoIgw7RQjQnlgd0Xw\n",
      "UCR3asjvr_WAaxwJYEDV_Bfw\n",
      "UC3LBFXbWtEBdOOUb8-qJm9Q\n",
      "UCV_S2S-Zs8LeuJxK-T3RQQg\n",
      "UCH3aos_uf4pGHbkANSbceEg\n",
      "UCgdwtyqBunlRb-i-7PnCssQ\n",
      "UC4Aclpo5YyXbKPeiZNO_uiw\n",
      "UCIECJyQ6meDyN-UnVHgXAMA\n",
      "UC9i2Qgd5lizhVgJrdnxunKw\n",
      "UCGpNjY0Xq2GJLXh4OOX1LOA\n",
      "UCr90FXGOO8nAE9B6FAUeTNA\n",
      "UCEsinqZjZ11w0T9ZvyKIr6A\n",
      "UCDrswN-SqWh7Kii62h9aXGA\n",
      "UC2TuODJhC03pLgd6MpWP0iw\n",
      "UCV1OpUwWJCMiv6gJCRR6yAg\n",
      "UCiMiEL1XRXANaypB2wEdr5w\n",
      "UCEfetJrzg6OcXWWuX8uhdhw\n",
      "UCAqzHNzLTC6Vm5UYE7xw_2A\n",
      "UCtcaZ5FUqaNXGX6xhpiGPQA\n",
      "UCLZBXiS9ZrIXgKBs_SMfGBQ\n",
      "UCwWXGnvVmi-6Sfx2wf8S8tQ\n",
      "UC6VKHP606ee6ffKwKmBHSig\n",
      "UCJWXJTaLqI5KBnJuaXbCaTg\n",
      "UCiWRSesvSYmY7YOyz0tv_zQ\n",
      "UCIF_gt4BfsWyM_2GOcKXyEQ\n",
      "UCStpPtoeQUYII1Jsbl0qf8A\n",
      "UCw2W7GIqJNB-UMUxncnMuiw\n",
      "UCQU5uVTG8h9LToACKrm1LMA\n",
      "UCmdVfsLHu18lCkKYXSOGUxg\n",
      "UCCsUQXwhDj4iVlhG4VCq6Kg\n",
      "UC8zkK0-g8S8Z_t8ZjUmpAlA\n",
      "UCCBq7s8VOCyek275uvq5lYQ\n",
      "UCxUzQ3wu0oJP_8YLWt71WgQ\n",
      "UCCtTgzGzQSWVzCG0xR7U-MQ\n",
      "UC8wI85SlecrsLdPm-I73PzA\n",
      "UCbIJeyl_va8MG2xx0q4Uobg\n",
      "UCGGrblndNzi86WY5lJkQJiA\n",
      "UCFsNxYnUEs4tcqyddJhW43g\n",
      "UCgDbdS9sm90CG771uznT8wg\n",
      "UCdxoeijd8BEuQlARHDcz4EA\n",
      "UCsyxqzJGL20zRlnmD2bkPqg\n",
      "UCjhwHd3mgmqm0ONm0bXKmng\n",
      "UCiWXd0nmBjlKROwzMyPV-Nw\n",
      "UCI1zO6-A3h7DHg-R_x34vLg\n",
      "UC7ia-A8gma8qcdC6GDcjwsQ\n",
      "UCpSB70OL7IO7RnZCj_7MQDw\n",
      "UC7XxnhjdYjiQJ3m80K_N_4g\n"
     ]
    }
   ],
   "source": [
    "results = []\n",
    "for id in channel_ids:\n",
    "    try:\n",
    "        result = get_data.get_channel_stat(youtube,id)\n",
    "        results.append(result)\n",
    "    except:\n",
    "        print(id)\n",
    "    \n"
   ]
  },
  {
   "cell_type": "code",
   "execution_count": 16,
   "metadata": {},
   "outputs": [],
   "source": [
    "for id, item in zip(channel_ids,results):\n",
    "    item['channel_id'] = id"
   ]
  },
  {
   "cell_type": "code",
   "execution_count": 19,
   "metadata": {},
   "outputs": [],
   "source": [
    "import pandas as pd"
   ]
  },
  {
   "cell_type": "code",
   "execution_count": 43,
   "metadata": {},
   "outputs": [],
   "source": [
    "stat_df = pd.DataFrame(results)"
   ]
  },
  {
   "cell_type": "code",
   "execution_count": 50,
   "metadata": {},
   "outputs": [],
   "source": [
    "stat_df = stat_df.astype({'view_count':'int','video_count':'int','sub_count':'int'})"
   ]
  },
  {
   "cell_type": "code",
   "execution_count": 54,
   "metadata": {},
   "outputs": [
    {
     "data": {
      "text/plain": [
       "view_count                   5760386591\n",
       "sub_count                       9550000\n",
       "video_count                      431021\n",
       "channel_id     UCxUzQ3wu0oJP_8YLWt71WgQ\n",
       "dtype: object"
      ]
     },
     "execution_count": 54,
     "metadata": {},
     "output_type": "execute_result"
    }
   ],
   "source": [
    "stat_df.max()"
   ]
  },
  {
   "cell_type": "code",
   "execution_count": 55,
   "metadata": {},
   "outputs": [
    {
     "name": "stdout",
     "output_type": "stream",
     "text": [
      "Connection established\n",
      "complete\n"
     ]
    }
   ],
   "source": [
    "conn = psycopg2.connect(conn_string)\n",
    "print(\"Connection established\")\n",
    "insert_stmt = f\"\"\"\n",
    "INSERT INTO channel_log ({','.join(stat_df.columns)})\n",
    "VALUES (%s, %s, %s, %s)\n",
    "\"\"\"\n",
    "from psycopg2.extras import execute_batch\n",
    "\n",
    "cur = conn.cursor()\n",
    "\n",
    "try:\n",
    "    # Execute the INSERT statement for each row in the DataFrame\n",
    "    execute_batch(cur, insert_stmt, stat_df.values)\n",
    "\n",
    "    # Commit the transaction\n",
    "    print('complete')\n",
    "    conn.commit()\n",
    "\n",
    "except Exception as e:\n",
    "    # Rollback the transaction on error\n",
    "    conn.rollback()\n",
    "    print(f\"An error occurred: {e}\")\n",
    "\n",
    "finally:\n",
    "    # Close the cursor and the connection\n",
    "    cur.close()\n",
    "    conn.close()"
   ]
  },
  {
   "cell_type": "code",
   "execution_count": null,
   "metadata": {},
   "outputs": [],
   "source": []
  }
 ],
 "metadata": {
  "kernelspec": {
   "display_name": ".venv",
   "language": "python",
   "name": "python3"
  },
  "language_info": {
   "codemirror_mode": {
    "name": "ipython",
    "version": 3
   },
   "file_extension": ".py",
   "mimetype": "text/x-python",
   "name": "python",
   "nbconvert_exporter": "python",
   "pygments_lexer": "ipython3",
   "version": "3.11.7"
  }
 },
 "nbformat": 4,
 "nbformat_minor": 2
}
