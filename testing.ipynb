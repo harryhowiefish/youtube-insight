{
 "cells": [
  {
   "cell_type": "code",
   "execution_count": 1,
   "metadata": {},
   "outputs": [],
   "source": [
    "import src.get_data as get_data\n",
    "import src.db_connection as db_connection\n",
    "\n",
    "youtube = get_data.start_youtube_connection('config/secrets.json')\n",
    "db = db_connection.DB_Connection()\n",
    "db.conn_string_from_path('config/secrets.json')"
   ]
  },
  {
   "cell_type": "code",
   "execution_count": 2,
   "metadata": {},
   "outputs": [
    {
     "data": {
      "text/plain": [
       "{'video_id': 'pP5j-f99mFA',\n",
       " 'title': '木船2.0！挑戰雙人木船帶兄弟去日月潭開心泛舟！【胡思亂搞】',\n",
       " 'published_date': '2024-02-03T10:30:15Z',\n",
       " 'description': '浪再大，我艇你！快去兄弟相「艇」～\\n下載：https://mothmpre.onelink.me/3BgG/z1xeu6mk\\n禮包碼：HUZI2024\\n\\n有跟我一樣超愛這種海盜題材遊戲的嗎！\\n動力火車代言全新海盜策略手遊《征服之海：海盜榮耀》 \\n主城就是一艘海盜船，想到哪就到哪！\\n還有很多豐富小遊戲等你來探險\\n\\n♫ 快來加入頻道會員吧 ☞ https://lihi1.cc/pAwEu/yt\\n♫ 也記得要去生活頻道看一下喔 ☞ https://lihi1.cc/ZOYVm/yt\\n♫ 想看我玩遊戲的話可以點這邊 ☞ https://lihi1.cc/i06Aa/yt\\n────────────────────\\n♫ 追蹤我的Facebook ☞ https://lihi1.cc/7IM8Q/yt\\n♫ 追蹤我的Instagram ☞ https://lihi1.cc/FGEcR/yt\\n♫ 寄信或禮物給我 ☞ 42899台中市大雅郵局第387號信箱\\n♫ 商務合作邀約 ☞ huzi@huzi-universe.com.tw\\n────────────────────\\n♫ 想看更多「有趣的實驗」 → https://lihi1.cc/T9ipU/yt\\n♫ 想看更多「奇怪的開箱」 → https://lihi1.cc/E5Irv/yt\\n♫ 想看更多「特別的體驗」 → https://lihi1.cc/b93Uq/yt\\n♫ 想看更多「觀眾的心意」 → https://lihi1.cc/1zSz8/yt\\n────────────────────\\n♫ Music by https://www.epidemicsound.com/\\n────────────────────\\n#胡思亂搞 #木船 #日月潭 #浪再大我艇你 #征服之海',\n",
       " 'thumbnail_url': 'https://i.ytimg.com/vi/pP5j-f99mFA/hqdefault.jpg',\n",
       " 'duration': 'PT20M19S',\n",
       " 'categoryId': '24'}"
      ]
     },
     "execution_count": 2,
     "metadata": {},
     "output_type": "execute_result"
    }
   ],
   "source": [
    "get_data.get_video_info(youtube,'pP5j-f99mFA')\n"
   ]
  },
  {
   "cell_type": "code",
   "execution_count": 2,
   "metadata": {},
   "outputs": [
    {
     "data": {
      "text/plain": [
       "{'video_id': 'dMObcjEI50w',\n",
       " 'title': 'In case you’re having a bad day',\n",
       " 'published_date': '2024-02-04T20:02:06Z',\n",
       " 'description': \"You'll never be less valued than this...\",\n",
       " 'thumbnail_url': 'https://i.ytimg.com/vi/dMObcjEI50w/hqdefault.jpg',\n",
       " 'duration': 'PT1M',\n",
       " 'dimension': '2d',\n",
       " 'categoryId': '28'}"
      ]
     },
     "execution_count": 2,
     "metadata": {},
     "output_type": "execute_result"
    }
   ],
   "source": [
    "get_data.get_video_info(youtube,'dMObcjEI50w')"
   ]
  },
  {
   "cell_type": "code",
   "execution_count": 3,
   "metadata": {},
   "outputs": [
    {
     "data": {
      "text/plain": [
       "{'channel_id': 'UCSKNqZgZwPlKrKobdfcPGPg',\n",
       " 'name': '凱文羊',\n",
       " 'customUrl': '@mythekevin',\n",
       " 'published_date': '2012-05-16T13:33:08Z',\n",
       " 'thumbnail_url': 'https://yt3.ggpht.com/gLZNm5TMQhxLn3VhrTZ1djCyjXU8duiWhUgE7cHkapFANHYCyqwsF5PFI8fnYa2yaJ1ZIuIUKQ=s800-c-k-c0x00ffffff-no-rj',\n",
       " 'description': '用我的生活 鼓勵你👍🏼\\n\\n🥰\\n',\n",
       " 'topic': 'Tourism, Lifestyle_(sociology)'}"
      ]
     },
     "execution_count": 3,
     "metadata": {},
     "output_type": "execute_result"
    }
   ],
   "source": [
    "get_data.get_channel_info(youtube,'UCSKNqZgZwPlKrKobdfcPGPg')"
   ]
  },
  {
   "cell_type": "code",
   "execution_count": 2,
   "metadata": {},
   "outputs": [
    {
     "data": {
      "text/plain": [
       "[('UC9YOQFPfEUXbulKDtxeqqBA',\n",
       "  '胡子Huzi',\n",
       "  '@huzi1989',\n",
       "  datetime.datetime(2016, 12, 20, 12, 27, 20),\n",
       "  'https://yt3.ggpht.com/ytc/AIf8zZRUg_Cs0jAgFBntHbC9fMiR2OB5cwIQHIYHrHlT=s800-c-k-c0x00ffffff-no-rj',\n",
       "  '胡搞的胡，小子的子，顧名思義就是生活中的各種胡思亂搞\\n我們從小就被各種規則和期待所束縛，\\n偶爾無傷大雅的胡搞一番，其實是非常愉快噠！\\n────────────────────\\n♫ 訂閱胡子：https://goo.gl/rxHZrS\\n♫ 想看「奇怪的實驗」 → https://goo.gl/z5FhmZ\\n♫ 想看「奇怪的開箱」 → https://goo.gl/xc3JcA\\n♫ 想看「胡子的週記」 → https://goo.gl/YDGA9u\\n♫ 想看「觀眾的問答」 → https://goo.gl/7kP3MK\\n────────────────────',\n",
       "  'TW',\n",
       "  '胡子 Huzi 胡思亂搞 胡買海開 胡生若夢 胡說八道 胡仔 湖子 壺子 糊子 狐子 鬍子 鬍仔',\n",
       "  'Lifestyle_(sociology), Hobby',\n",
       "  datetime.datetime(2024, 2, 5, 13, 4, 38, 725406, tzinfo=datetime.timezone.utc))]"
      ]
     },
     "execution_count": 2,
     "metadata": {},
     "output_type": "execute_result"
    }
   ],
   "source": [
    "db.query('SELECT * FROM channel LIMIT 1')"
   ]
  },
  {
   "cell_type": "code",
   "execution_count": null,
   "metadata": {},
   "outputs": [],
   "source": []
  }
 ],
 "metadata": {
  "kernelspec": {
   "display_name": ".venv",
   "language": "python",
   "name": "python3"
  },
  "language_info": {
   "codemirror_mode": {
    "name": "ipython",
    "version": 3
   },
   "file_extension": ".py",
   "mimetype": "text/x-python",
   "name": "python",
   "nbconvert_exporter": "python",
   "pygments_lexer": "ipython3",
   "version": "3.11.7"
  }
 },
 "nbformat": 4,
 "nbformat_minor": 2
}
