{
 "cells": [
  {
   "cell_type": "code",
   "execution_count": 5,
   "metadata": {},
   "outputs": [],
   "source": [
    "from pyspark.sql import SparkSession\n",
    "import pyspark.sql\n",
    "from pyspark.sql.types import *\n"
   ]
  },
  {
   "cell_type": "markdown",
   "metadata": {},
   "source": [
    "## View-Sub ratio"
   ]
  },
  {
   "cell_type": "code",
   "execution_count": 6,
   "metadata": {},
   "outputs": [],
   "source": [
    "spark:SparkSession = SparkSession.builder.getOrCreate()"
   ]
  },
  {
   "cell_type": "code",
   "execution_count": 7,
   "metadata": {},
   "outputs": [],
   "source": [
    "\n",
    "v_schema = StructType([\n",
    "StructField('video_id', StringType()),\n",
    "StructField('channel_id', StringType()),\n",
    "StructField('title', StringType()),\n",
    "StructField('video_type', StringType()),\n",
    "StructField('published_date', DateType()),\n",
    "StructField('published_time', TimestampType()),\n",
    "StructField('duration', StringType()),\n",
    "\n",
    "])\n",
    "\n",
    "vl_schema = StructType([\n",
    "StructField('video_id', StringType()),\n",
    "StructField('view_count', IntegerType()),\n",
    "StructField('like_count', IntegerType()),\n",
    "StructField('comment_count', IntegerType()),\n",
    "StructField('created_date', DateType()),\n",
    "StructField('created_at', TimestampType()),\n",
    "])\n",
    "\n",
    "\n",
    "c_schema = StructType([\n",
    "StructField('channel_id', StringType()),\n",
    "StructField('name', StringType()),\n",
    "StructField('customurl', StringType()),\n",
    "StructField('published_date', DateType()),\n",
    "StructField('thumbnail_url', StringType()),\n",
    "StructField('description', TimestampType()),\n",
    "StructField('country', StringType()),\n",
    "StructField('keywords', StringType()),\n",
    "StructField('topic', StringType()),\n",
    "StructField('created_at', TimestampType()),\n",
    "StructField('active', StringType()),\n",
    "\n",
    "])\n",
    "\n",
    "cl_schema = StructType([\n",
    "StructField('channel_id', StringType()),\n",
    "StructField('view_count', IntegerType()),\n",
    "StructField('sub_count', IntegerType()),\n",
    "StructField('video_count', IntegerType()),\n",
    "StructField('created_at', TimestampType()),\n",
    "StructField('created_date', DateType()),\n",
    "])"
   ]
  },
  {
   "cell_type": "code",
   "execution_count": 12,
   "metadata": {},
   "outputs": [],
   "source": [
    "c = spark.read.csv('../sample_data/channel.csv',schema=c_schema)\n",
    "cl = spark.read.csv('../sample_data/channel_log.csv',schema=cl_schema)\n",
    "v = spark.read.csv('../sample_data/video.csv',schema=v_schema)\n",
    "vl = spark.read.csv('../sample_data/video_log.csv',schema=vl_schema)"
   ]
  },
  {
   "cell_type": "code",
   "execution_count": null,
   "metadata": {},
   "outputs": [],
   "source": []
  },
  {
   "cell_type": "code",
   "execution_count": 16,
   "metadata": {},
   "outputs": [],
   "source": [
    "# This section of for pulling data from sample_data\n",
    "\n",
    "v = v[v['video_type']=='video']\n",
    "video = pd.merge(v[['video_id','channel_id','published_date','video_type']],vl,how='right',on='video_id')\n",
    "video = pd.merge(video,c[['channel_id','name']],how='left',on='channel_id')\n",
    "video = pd.merge(video,cl[['channel_id','sub_count']],how='left',on='channel_id')\n",
    "del cl,v,vl"
   ]
  },
  {
   "cell_type": "code",
   "execution_count": 17,
   "metadata": {},
   "outputs": [],
   "source": [
    "video = video.drop_duplicates(subset='video_id',keep='last')\n",
    "video['published_date'] = pd.to_datetime(video['published_date'])\n",
    "video['created_date'] = pd.to_datetime(video['created_date'])\n",
    "video = video[video['created_date']-video['published_date']>datetime.timedelta(days=30)]\n",
    "video['view_sub_ratio'] = video['view_count']/video['sub_count']"
   ]
  },
  {
   "cell_type": "code",
   "execution_count": 18,
   "metadata": {},
   "outputs": [],
   "source": [
    "exclude_list = ['周杰倫 Jay Chou','凱文羊','福茂唱片']\n",
    "video = video[~video['name'].isin(exclude_list)]"
   ]
  },
  {
   "cell_type": "code",
   "execution_count": 19,
   "metadata": {},
   "outputs": [
    {
     "data": {
      "text/plain": [
       "Index(['HOOK', '好棒Bump', 'Ku's dream酷的夢-', '人生肥宅x尊', 'cheap', '欸你這週要幹嘛',\n",
       "       '這群人TGOP', '千千進食中', '胡子Huzi', '啾啾鞋'],\n",
       "      dtype='object', name='name')"
      ]
     },
     "execution_count": 19,
     "metadata": {},
     "output_type": "execute_result"
    }
   ],
   "source": [
    "video_ratio_top_10 = video[video['video_type']=='video'\n",
    "                           ].groupby('name')['view_sub_ratio'].mean().sort_values(ascending=False)[:10]\n",
    "video_ratio_top_10.index"
   ]
  },
  {
   "cell_type": "code",
   "execution_count": 20,
   "metadata": {},
   "outputs": [
    {
     "data": {
      "application/vnd.plotly.v1+json": {
       "config": {
        "plotlyServerURL": "https://plot.ly"
       },
       "data": [
        {
         "marker": {
          "color": "#ffe476",
          "size": 8
         },
         "mode": "markers",
         "name": "Subscriber Count",
         "type": "scatter",
         "x": [
          "HOOK",
          "好棒Bump",
          "Ku's dream酷的夢-",
          "人生肥宅x尊",
          "cheap",
          "欸你這週要幹嘛",
          "這群人TGOP",
          "千千進食中",
          "胡子Huzi",
          "啾啾鞋"
         ],
         "y": [
          1470000,
          1370000,
          1730000,
          1590000,
          1420000,
          1070000,
          3570000,
          1830000,
          1140000,
          1580000
         ],
         "yaxis": "y"
        },
        {
         "boxpoints": false,
         "marker": {
          "color": "#7B4173"
         },
         "name": "HOOK",
         "showlegend": false,
         "type": "box",
         "y": [
          0.9177557823129252,
          0.7227238095238095,
          0.7928292517006803,
          0.7271755102040817,
          0.7001408163265306,
          0.930947619047619,
          0.8931734693877551,
          0.7572326530612244,
          0.7828768707482994,
          0.8395074829931973,
          0.7715544217687075,
          0.8114367346938776,
          0.7799585034013605,
          0.8583748299319728,
          2.014787074829932
         ],
         "yaxis": "y2"
        },
        {
         "boxpoints": false,
         "marker": {
          "color": "#7B4173"
         },
         "name": "好棒Bump",
         "showlegend": false,
         "type": "box",
         "y": [
          0.7314094890510949,
          0.36622846715328466,
          0.9914970802919708,
          0.9071729927007299,
          0.9272021897810219,
          0.6231182481751825,
          0.7604686131386861,
          0.7155430656934306,
          0.9934992700729927,
          1.1452795620437957,
          1.5605021897810218,
          1.2754255474452554,
          0.6186591240875913,
          0.7307810218978102,
          1.2604014598540145,
          0.559214598540146,
          0.8047868613138686
         ],
         "yaxis": "y2"
        },
        {
         "boxpoints": false,
         "marker": {
          "color": "#7B4173"
         },
         "name": "Ku's dream酷的夢-",
         "showlegend": false,
         "type": "box",
         "y": [
          0.5908774566473989,
          0.9983919075144508,
          0.716635260115607,
          0.9517699421965318,
          0.6905341040462428,
          0.529185549132948,
          0.7018895953757226,
          1.1971618497109826,
          0.7425763005780347,
          0.8993664739884393,
          1.089164161849711,
          1.0828982658959538,
          0.7731838150289018,
          1.0029907514450866,
          0.5100023121387284
         ],
         "yaxis": "y2"
        },
        {
         "boxpoints": false,
         "marker": {
          "color": "#7B4173"
         },
         "name": "人生肥宅x尊",
         "showlegend": false,
         "type": "box",
         "y": [
          0.711325786163522,
          0.6785088050314465,
          0.9144238993710692,
          0.9110578616352202,
          0.4442899371069182,
          0.41255911949685536,
          0.22475408805031447,
          0.47560817610062894,
          0.41262830188679245,
          0.6873534591194969,
          0.4263943396226415,
          1.3012037735849056,
          0.9167773584905661,
          0.9092459119496855,
          0.553314465408805,
          1.1497138364779875,
          1.0480534591194968,
          1.11282893081761
         ],
         "yaxis": "y2"
        },
        {
         "boxpoints": false,
         "marker": {
          "color": "#7B4173"
         },
         "name": "cheap",
         "showlegend": false,
         "type": "box",
         "y": [
          0.6573422535211267,
          0.3392971830985915,
          0.15375774647887325,
          0.28084084507042256,
          0.8576802816901409,
          0.5101563380281691,
          1.556112676056338,
          0.5744119718309859,
          0.4095535211267606,
          1.0436915492957746,
          0.8853401408450704,
          0.20155281690140844,
          0.1723,
          0.2224161971830986,
          0.4087169014084507,
          1.0630725352112675
         ],
         "yaxis": "y2"
        },
        {
         "boxpoints": false,
         "marker": {
          "color": "#7B4173"
         },
         "name": "欸你這週要幹嘛",
         "showlegend": false,
         "type": "box",
         "y": [
          0.6675691588785047,
          0.827085046728972,
          0.3980672897196262,
          0.27355794392523364,
          0.413103738317757,
          0.37778504672897195,
          0.47537943925233644,
          0.47103831775700933,
          0.43396635514018694,
          0.3480205607476636,
          0.38444579439252335,
          0.4313242990654206,
          0.3570747663551402,
          0.43522616822429905
         ],
         "yaxis": "y2"
        },
        {
         "boxpoints": false,
         "marker": {
          "color": "#7B4173"
         },
         "name": "這群人TGOP",
         "showlegend": false,
         "type": "box",
         "y": [
          0.24475378151260505,
          0.30286806722689075,
          0.13794705882352942,
          0.24064901960784313,
          0.18044313725490196,
          0.20257394957983194,
          0.2606635854341737,
          0.16645210084033613,
          0.38007198879551823,
          0.5326428571428572,
          0.35247310924369746,
          0.29702773109243696,
          0.27170896358543417,
          0.3594974789915966,
          0.4846350140056022,
          0.81089243697479,
          0.33193473389355743
         ],
         "yaxis": "y2"
        },
        {
         "boxpoints": false,
         "marker": {
          "color": "#7B4173"
         },
         "name": "千千進食中",
         "showlegend": false,
         "type": "box",
         "y": [
          0.11874426229508196,
          0.13970437158469945,
          0.05375136612021858,
          0.10223224043715846,
          0.291448087431694,
          0.2507136612021858,
          0.3371808743169399,
          0.36593169398907105,
          0.20376775956284154,
          0.22317322404371584,
          0.2654863387978142,
          0.9052912568306011,
          0.3466896174863388,
          0.16086065573770492,
          0.20910273224043716
         ],
         "yaxis": "y2"
        },
        {
         "boxpoints": false,
         "marker": {
          "color": "#7B4173"
         },
         "name": "胡子Huzi",
         "showlegend": false,
         "type": "box",
         "y": [
          0.2129043859649123,
          0.20980087719298246,
          0.26510526315789473,
          0.2521842105263158,
          0.21969912280701753,
          0.26824912280701757,
          0.23712719298245613,
          0.20181666666666667,
          0.24138771929824562,
          0.33790526315789476,
          0.34351491228070175,
          0.24933947368421053,
          0.2917175438596491,
          0.2932719298245614,
          0.17275526315789475
         ],
         "yaxis": "y2"
        },
        {
         "boxpoints": false,
         "marker": {
          "color": "#7B4173"
         },
         "name": "啾啾鞋",
         "showlegend": false,
         "type": "box",
         "y": [
          0.08813924050632911,
          0.6779335443037975,
          0.13921772151898734,
          0.33824746835443037,
          0.3259740506329114,
          0.0592,
          0.020548101265822783,
          0.3013487341772152,
          0.0727379746835443,
          0.0637246835443038,
          0.05555949367088608,
          0.12556835443037975,
          0.3822139240506329,
          0.05644177215189873,
          0.15817594936708862,
          0.5968575949367089,
          1.0008658227848102,
          0.08148291139240506
         ],
         "yaxis": "y2"
        },
        {
         "marker": {
          "color": "#7B4173"
         },
         "name": "Video Views",
         "type": "box",
         "x": [
          null
         ],
         "y": [
          null
         ]
        }
       ],
       "layout": {
        "autosize": false,
        "height": 500,
        "legend": {
         "x": 1.05,
         "y": 1.15
        },
        "template": {
         "data": {
          "bar": [
           {
            "error_x": {
             "color": "#f2f5fa"
            },
            "error_y": {
             "color": "#f2f5fa"
            },
            "marker": {
             "line": {
              "color": "rgb(17,17,17)",
              "width": 0.5
             },
             "pattern": {
              "fillmode": "overlay",
              "size": 10,
              "solidity": 0.2
             }
            },
            "type": "bar"
           }
          ],
          "barpolar": [
           {
            "marker": {
             "line": {
              "color": "rgb(17,17,17)",
              "width": 0.5
             },
             "pattern": {
              "fillmode": "overlay",
              "size": 10,
              "solidity": 0.2
             }
            },
            "type": "barpolar"
           }
          ],
          "carpet": [
           {
            "aaxis": {
             "endlinecolor": "#A2B1C6",
             "gridcolor": "#506784",
             "linecolor": "#506784",
             "minorgridcolor": "#506784",
             "startlinecolor": "#A2B1C6"
            },
            "baxis": {
             "endlinecolor": "#A2B1C6",
             "gridcolor": "#506784",
             "linecolor": "#506784",
             "minorgridcolor": "#506784",
             "startlinecolor": "#A2B1C6"
            },
            "type": "carpet"
           }
          ],
          "choropleth": [
           {
            "colorbar": {
             "outlinewidth": 0,
             "ticks": ""
            },
            "type": "choropleth"
           }
          ],
          "contour": [
           {
            "colorbar": {
             "outlinewidth": 0,
             "ticks": ""
            },
            "colorscale": [
             [
              0,
              "#0d0887"
             ],
             [
              0.1111111111111111,
              "#46039f"
             ],
             [
              0.2222222222222222,
              "#7201a8"
             ],
             [
              0.3333333333333333,
              "#9c179e"
             ],
             [
              0.4444444444444444,
              "#bd3786"
             ],
             [
              0.5555555555555556,
              "#d8576b"
             ],
             [
              0.6666666666666666,
              "#ed7953"
             ],
             [
              0.7777777777777778,
              "#fb9f3a"
             ],
             [
              0.8888888888888888,
              "#fdca26"
             ],
             [
              1,
              "#f0f921"
             ]
            ],
            "type": "contour"
           }
          ],
          "contourcarpet": [
           {
            "colorbar": {
             "outlinewidth": 0,
             "ticks": ""
            },
            "type": "contourcarpet"
           }
          ],
          "heatmap": [
           {
            "colorbar": {
             "outlinewidth": 0,
             "ticks": ""
            },
            "colorscale": [
             [
              0,
              "#0d0887"
             ],
             [
              0.1111111111111111,
              "#46039f"
             ],
             [
              0.2222222222222222,
              "#7201a8"
             ],
             [
              0.3333333333333333,
              "#9c179e"
             ],
             [
              0.4444444444444444,
              "#bd3786"
             ],
             [
              0.5555555555555556,
              "#d8576b"
             ],
             [
              0.6666666666666666,
              "#ed7953"
             ],
             [
              0.7777777777777778,
              "#fb9f3a"
             ],
             [
              0.8888888888888888,
              "#fdca26"
             ],
             [
              1,
              "#f0f921"
             ]
            ],
            "type": "heatmap"
           }
          ],
          "heatmapgl": [
           {
            "colorbar": {
             "outlinewidth": 0,
             "ticks": ""
            },
            "colorscale": [
             [
              0,
              "#0d0887"
             ],
             [
              0.1111111111111111,
              "#46039f"
             ],
             [
              0.2222222222222222,
              "#7201a8"
             ],
             [
              0.3333333333333333,
              "#9c179e"
             ],
             [
              0.4444444444444444,
              "#bd3786"
             ],
             [
              0.5555555555555556,
              "#d8576b"
             ],
             [
              0.6666666666666666,
              "#ed7953"
             ],
             [
              0.7777777777777778,
              "#fb9f3a"
             ],
             [
              0.8888888888888888,
              "#fdca26"
             ],
             [
              1,
              "#f0f921"
             ]
            ],
            "type": "heatmapgl"
           }
          ],
          "histogram": [
           {
            "marker": {
             "pattern": {
              "fillmode": "overlay",
              "size": 10,
              "solidity": 0.2
             }
            },
            "type": "histogram"
           }
          ],
          "histogram2d": [
           {
            "colorbar": {
             "outlinewidth": 0,
             "ticks": ""
            },
            "colorscale": [
             [
              0,
              "#0d0887"
             ],
             [
              0.1111111111111111,
              "#46039f"
             ],
             [
              0.2222222222222222,
              "#7201a8"
             ],
             [
              0.3333333333333333,
              "#9c179e"
             ],
             [
              0.4444444444444444,
              "#bd3786"
             ],
             [
              0.5555555555555556,
              "#d8576b"
             ],
             [
              0.6666666666666666,
              "#ed7953"
             ],
             [
              0.7777777777777778,
              "#fb9f3a"
             ],
             [
              0.8888888888888888,
              "#fdca26"
             ],
             [
              1,
              "#f0f921"
             ]
            ],
            "type": "histogram2d"
           }
          ],
          "histogram2dcontour": [
           {
            "colorbar": {
             "outlinewidth": 0,
             "ticks": ""
            },
            "colorscale": [
             [
              0,
              "#0d0887"
             ],
             [
              0.1111111111111111,
              "#46039f"
             ],
             [
              0.2222222222222222,
              "#7201a8"
             ],
             [
              0.3333333333333333,
              "#9c179e"
             ],
             [
              0.4444444444444444,
              "#bd3786"
             ],
             [
              0.5555555555555556,
              "#d8576b"
             ],
             [
              0.6666666666666666,
              "#ed7953"
             ],
             [
              0.7777777777777778,
              "#fb9f3a"
             ],
             [
              0.8888888888888888,
              "#fdca26"
             ],
             [
              1,
              "#f0f921"
             ]
            ],
            "type": "histogram2dcontour"
           }
          ],
          "mesh3d": [
           {
            "colorbar": {
             "outlinewidth": 0,
             "ticks": ""
            },
            "type": "mesh3d"
           }
          ],
          "parcoords": [
           {
            "line": {
             "colorbar": {
              "outlinewidth": 0,
              "ticks": ""
             }
            },
            "type": "parcoords"
           }
          ],
          "pie": [
           {
            "automargin": true,
            "type": "pie"
           }
          ],
          "scatter": [
           {
            "marker": {
             "line": {
              "color": "#283442"
             }
            },
            "type": "scatter"
           }
          ],
          "scatter3d": [
           {
            "line": {
             "colorbar": {
              "outlinewidth": 0,
              "ticks": ""
             }
            },
            "marker": {
             "colorbar": {
              "outlinewidth": 0,
              "ticks": ""
             }
            },
            "type": "scatter3d"
           }
          ],
          "scattercarpet": [
           {
            "marker": {
             "colorbar": {
              "outlinewidth": 0,
              "ticks": ""
             }
            },
            "type": "scattercarpet"
           }
          ],
          "scattergeo": [
           {
            "marker": {
             "colorbar": {
              "outlinewidth": 0,
              "ticks": ""
             }
            },
            "type": "scattergeo"
           }
          ],
          "scattergl": [
           {
            "marker": {
             "line": {
              "color": "#283442"
             }
            },
            "type": "scattergl"
           }
          ],
          "scattermapbox": [
           {
            "marker": {
             "colorbar": {
              "outlinewidth": 0,
              "ticks": ""
             }
            },
            "type": "scattermapbox"
           }
          ],
          "scatterpolar": [
           {
            "marker": {
             "colorbar": {
              "outlinewidth": 0,
              "ticks": ""
             }
            },
            "type": "scatterpolar"
           }
          ],
          "scatterpolargl": [
           {
            "marker": {
             "colorbar": {
              "outlinewidth": 0,
              "ticks": ""
             }
            },
            "type": "scatterpolargl"
           }
          ],
          "scatterternary": [
           {
            "marker": {
             "colorbar": {
              "outlinewidth": 0,
              "ticks": ""
             }
            },
            "type": "scatterternary"
           }
          ],
          "surface": [
           {
            "colorbar": {
             "outlinewidth": 0,
             "ticks": ""
            },
            "colorscale": [
             [
              0,
              "#0d0887"
             ],
             [
              0.1111111111111111,
              "#46039f"
             ],
             [
              0.2222222222222222,
              "#7201a8"
             ],
             [
              0.3333333333333333,
              "#9c179e"
             ],
             [
              0.4444444444444444,
              "#bd3786"
             ],
             [
              0.5555555555555556,
              "#d8576b"
             ],
             [
              0.6666666666666666,
              "#ed7953"
             ],
             [
              0.7777777777777778,
              "#fb9f3a"
             ],
             [
              0.8888888888888888,
              "#fdca26"
             ],
             [
              1,
              "#f0f921"
             ]
            ],
            "type": "surface"
           }
          ],
          "table": [
           {
            "cells": {
             "fill": {
              "color": "#506784"
             },
             "line": {
              "color": "rgb(17,17,17)"
             }
            },
            "header": {
             "fill": {
              "color": "#2a3f5f"
             },
             "line": {
              "color": "rgb(17,17,17)"
             }
            },
            "type": "table"
           }
          ]
         },
         "layout": {
          "annotationdefaults": {
           "arrowcolor": "#f2f5fa",
           "arrowhead": 0,
           "arrowwidth": 1
          },
          "autotypenumbers": "strict",
          "coloraxis": {
           "colorbar": {
            "outlinewidth": 0,
            "ticks": ""
           }
          },
          "colorscale": {
           "diverging": [
            [
             0,
             "#8e0152"
            ],
            [
             0.1,
             "#c51b7d"
            ],
            [
             0.2,
             "#de77ae"
            ],
            [
             0.3,
             "#f1b6da"
            ],
            [
             0.4,
             "#fde0ef"
            ],
            [
             0.5,
             "#f7f7f7"
            ],
            [
             0.6,
             "#e6f5d0"
            ],
            [
             0.7,
             "#b8e186"
            ],
            [
             0.8,
             "#7fbc41"
            ],
            [
             0.9,
             "#4d9221"
            ],
            [
             1,
             "#276419"
            ]
           ],
           "sequential": [
            [
             0,
             "#0d0887"
            ],
            [
             0.1111111111111111,
             "#46039f"
            ],
            [
             0.2222222222222222,
             "#7201a8"
            ],
            [
             0.3333333333333333,
             "#9c179e"
            ],
            [
             0.4444444444444444,
             "#bd3786"
            ],
            [
             0.5555555555555556,
             "#d8576b"
            ],
            [
             0.6666666666666666,
             "#ed7953"
            ],
            [
             0.7777777777777778,
             "#fb9f3a"
            ],
            [
             0.8888888888888888,
             "#fdca26"
            ],
            [
             1,
             "#f0f921"
            ]
           ],
           "sequentialminus": [
            [
             0,
             "#0d0887"
            ],
            [
             0.1111111111111111,
             "#46039f"
            ],
            [
             0.2222222222222222,
             "#7201a8"
            ],
            [
             0.3333333333333333,
             "#9c179e"
            ],
            [
             0.4444444444444444,
             "#bd3786"
            ],
            [
             0.5555555555555556,
             "#d8576b"
            ],
            [
             0.6666666666666666,
             "#ed7953"
            ],
            [
             0.7777777777777778,
             "#fb9f3a"
            ],
            [
             0.8888888888888888,
             "#fdca26"
            ],
            [
             1,
             "#f0f921"
            ]
           ]
          },
          "colorway": [
           "#636efa",
           "#EF553B",
           "#00cc96",
           "#ab63fa",
           "#FFA15A",
           "#19d3f3",
           "#FF6692",
           "#B6E880",
           "#FF97FF",
           "#FECB52"
          ],
          "font": {
           "color": "#f2f5fa"
          },
          "geo": {
           "bgcolor": "rgb(17,17,17)",
           "lakecolor": "rgb(17,17,17)",
           "landcolor": "rgb(17,17,17)",
           "showlakes": true,
           "showland": true,
           "subunitcolor": "#506784"
          },
          "hoverlabel": {
           "align": "left"
          },
          "hovermode": "closest",
          "mapbox": {
           "style": "dark"
          },
          "paper_bgcolor": "rgb(17,17,17)",
          "plot_bgcolor": "rgb(17,17,17)",
          "polar": {
           "angularaxis": {
            "gridcolor": "#506784",
            "linecolor": "#506784",
            "ticks": ""
           },
           "bgcolor": "rgb(17,17,17)",
           "radialaxis": {
            "gridcolor": "#506784",
            "linecolor": "#506784",
            "ticks": ""
           }
          },
          "scene": {
           "xaxis": {
            "backgroundcolor": "rgb(17,17,17)",
            "gridcolor": "#506784",
            "gridwidth": 2,
            "linecolor": "#506784",
            "showbackground": true,
            "ticks": "",
            "zerolinecolor": "#C8D4E3"
           },
           "yaxis": {
            "backgroundcolor": "rgb(17,17,17)",
            "gridcolor": "#506784",
            "gridwidth": 2,
            "linecolor": "#506784",
            "showbackground": true,
            "ticks": "",
            "zerolinecolor": "#C8D4E3"
           },
           "zaxis": {
            "backgroundcolor": "rgb(17,17,17)",
            "gridcolor": "#506784",
            "gridwidth": 2,
            "linecolor": "#506784",
            "showbackground": true,
            "ticks": "",
            "zerolinecolor": "#C8D4E3"
           }
          },
          "shapedefaults": {
           "line": {
            "color": "#f2f5fa"
           }
          },
          "sliderdefaults": {
           "bgcolor": "#C8D4E3",
           "bordercolor": "rgb(17,17,17)",
           "borderwidth": 1,
           "tickwidth": 0
          },
          "ternary": {
           "aaxis": {
            "gridcolor": "#506784",
            "linecolor": "#506784",
            "ticks": ""
           },
           "baxis": {
            "gridcolor": "#506784",
            "linecolor": "#506784",
            "ticks": ""
           },
           "bgcolor": "rgb(17,17,17)",
           "caxis": {
            "gridcolor": "#506784",
            "linecolor": "#506784",
            "ticks": ""
           }
          },
          "title": {
           "x": 0.05
          },
          "updatemenudefaults": {
           "bgcolor": "#506784",
           "borderwidth": 0
          },
          "xaxis": {
           "automargin": true,
           "gridcolor": "#283442",
           "linecolor": "#506784",
           "ticks": "",
           "title": {
            "standoff": 15
           },
           "zerolinecolor": "#283442",
           "zerolinewidth": 2
          },
          "yaxis": {
           "automargin": true,
           "gridcolor": "#283442",
           "linecolor": "#506784",
           "ticks": "",
           "title": {
            "standoff": 15
           },
           "zerolinecolor": "#283442",
           "zerolinewidth": 2
          }
         }
        },
        "title": {
         "text": "Video Performance (past 30 days)"
        },
        "width": 800,
        "yaxis": {
         "overlaying": "y2",
         "side": "right",
         "title": {
          "text": "Subscribers"
         }
        },
        "yaxis2": {
         "title": {
          "text": "Video views"
         }
        }
       }
      }
     },
     "metadata": {},
     "output_type": "display_data"
    }
   ],
   "source": [
    "trace1 = go.Scatter(x=video_ratio_top_10.index.tolist(),\n",
    "                      y=video[video['name'].isin(video_ratio_top_10.index)].drop_duplicates(subset='name').set_index('name').reindex(video_ratio_top_10.index).sub_count.values,\n",
    "                      name='Subscriber Count',\n",
    "                      yaxis='y1',\n",
    "                      mode='markers',\n",
    "                      marker_color=\"#ffe476\",\n",
    "                      marker_size=8\n",
    "                      )\n",
    "boxs = []\n",
    "for name in video_ratio_top_10.index.tolist():\n",
    "    boxs.append(go.Box(\n",
    "                y=video[(video['video_type']=='video') & (video['name']==name)]['view_sub_ratio'],\n",
    "                boxpoints=False,\n",
    "                yaxis='y2',\n",
    "                name=name,\n",
    "                marker_color=\"#7B4173\",\n",
    "                showlegend=False,\n",
    "                ))\n",
    "\n",
    "dummy = go.Box(\n",
    "    x=[None],\n",
    "    y=[None],\n",
    "    name=\"Video Views\",\n",
    "    marker_color=\"#7B4173\"\n",
    ")\n",
    "\n",
    "data = [trace1,*boxs,dummy]\n",
    "layout = go.Layout(title='Video Performance (past 30 days)',\n",
    "                    yaxis=dict(title='Subscribers',\n",
    "                               overlaying='y2',\n",
    "                                side='right'),\n",
    "                    yaxis2=dict(title='Video views',\n",
    "                                ),\n",
    "                    template=\"plotly_dark\")\n",
    "                    \n",
    "fig = go.Figure(data=data,layout=layout,)\n",
    "\n",
    "fig.update_layout(\n",
    "    legend=dict(\n",
    "    y=1.15,\n",
    "    x=1.05),\n",
    "    autosize=False,\n",
    "    width=800,\n",
    "    height=500\n",
    "    )\n",
    "\n",
    "fig.show()"
   ]
  },
  {
   "cell_type": "code",
   "execution_count": 21,
   "metadata": {},
   "outputs": [],
   "source": [
    "fig.write_image('images/view_sub_ratio.png')"
   ]
  }
 ],
 "metadata": {
  "kernelspec": {
   "display_name": ".venv",
   "language": "python",
   "name": "python3"
  },
  "language_info": {
   "codemirror_mode": {
    "name": "ipython",
    "version": 3
   },
   "file_extension": ".py",
   "mimetype": "text/x-python",
   "name": "python",
   "nbconvert_exporter": "python",
   "pygments_lexer": "ipython3",
   "version": "3.11.8"
  }
 },
 "nbformat": 4,
 "nbformat_minor": 2
}
