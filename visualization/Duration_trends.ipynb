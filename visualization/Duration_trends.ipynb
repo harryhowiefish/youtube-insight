{
 "cells": [
  {
   "cell_type": "code",
   "execution_count": 1,
   "metadata": {},
   "outputs": [],
   "source": [
    "import pandas as pd\n",
    "import plotly.graph_objects as go\n",
    "import json\n",
    "import datetime\n",
    "pd.options.mode.copy_on_write = True"
   ]
  },
  {
   "cell_type": "markdown",
   "metadata": {},
   "source": [
    "## Duration trends"
   ]
  },
  {
   "cell_type": "code",
   "execution_count": 2,
   "metadata": {},
   "outputs": [],
   "source": [
    "# This section of for pulling data directly from db\n",
    "\n",
    "# with open('config/secrets.json') as f:\n",
    "#     config = json.load(f)\n",
    "# db = config['postgres']\n",
    "# con = f\"postgresql://{db['user']}:{db['password']}@{db['host']}/{db['dbname']}\"\n",
    "# stmt = '''\n",
    "# select video_id, published_date, published_time, duration, vl.*\n",
    "# from video_log vl  \n",
    "# join (\n",
    "# select * from video \n",
    "# where video_type='video') as v\n",
    "# using(video_id)\n",
    "\n",
    "# '''\n",
    "# video = pd.read_sql(stmt,con)"
   ]
  },
  {
   "cell_type": "code",
   "execution_count": 3,
   "metadata": {},
   "outputs": [],
   "source": [
    "# This section of for pulling data from sample_data\n",
    "v = pd.read_csv('../sample_data/video.csv')\n",
    "vl = pd.read_csv('../sample_data/video_log.csv')\n",
    "v = v[v['video_type']=='video']\n",
    "video = pd.merge(v[['video_id','published_date','duration']],vl,how='right',on='video_id')\n",
    "del v,vl"
   ]
  },
  {
   "cell_type": "code",
   "execution_count": 5,
   "metadata": {},
   "outputs": [
    {
     "data": {
      "text/html": [
       "<div>\n",
       "<style scoped>\n",
       "    .dataframe tbody tr th:only-of-type {\n",
       "        vertical-align: middle;\n",
       "    }\n",
       "\n",
       "    .dataframe tbody tr th {\n",
       "        vertical-align: top;\n",
       "    }\n",
       "\n",
       "    .dataframe thead th {\n",
       "        text-align: right;\n",
       "    }\n",
       "</style>\n",
       "<table border=\"1\" class=\"dataframe\">\n",
       "  <thead>\n",
       "    <tr style=\"text-align: right;\">\n",
       "      <th></th>\n",
       "      <th>video_id</th>\n",
       "      <th>published_date</th>\n",
       "      <th>duration</th>\n",
       "      <th>view_count</th>\n",
       "      <th>like_count</th>\n",
       "      <th>comment_count</th>\n",
       "      <th>created_date</th>\n",
       "      <th>created_at</th>\n",
       "    </tr>\n",
       "  </thead>\n",
       "  <tbody>\n",
       "    <tr>\n",
       "      <th>0</th>\n",
       "      <td>p9g3G_w8J9w</td>\n",
       "      <td>2024-02-05</td>\n",
       "      <td>00:13:30</td>\n",
       "      <td>152323.0</td>\n",
       "      <td>4581.0</td>\n",
       "      <td>734.0</td>\n",
       "      <td>2024-02-06</td>\n",
       "      <td>2024-02-06 13:06:07.620344+00</td>\n",
       "    </tr>\n",
       "    <tr>\n",
       "      <th>1</th>\n",
       "      <td>3rO0voiGkKQ</td>\n",
       "      <td>2024-02-03</td>\n",
       "      <td>00:26:58</td>\n",
       "      <td>113060.0</td>\n",
       "      <td>5027.0</td>\n",
       "      <td>790.0</td>\n",
       "      <td>2024-02-06</td>\n",
       "      <td>2024-02-06 13:06:07.620344+00</td>\n",
       "    </tr>\n",
       "    <tr>\n",
       "      <th>2</th>\n",
       "      <td>VYV8Lssp4HY</td>\n",
       "      <td>2024-01-31</td>\n",
       "      <td>00:14:40</td>\n",
       "      <td>151756.0</td>\n",
       "      <td>4548.0</td>\n",
       "      <td>270.0</td>\n",
       "      <td>2024-02-06</td>\n",
       "      <td>2024-02-06 13:06:07.620344+00</td>\n",
       "    </tr>\n",
       "    <tr>\n",
       "      <th>3</th>\n",
       "      <td>hUcWLhLCBPk</td>\n",
       "      <td>2024-01-29</td>\n",
       "      <td>00:19:19</td>\n",
       "      <td>222093.0</td>\n",
       "      <td>5636.0</td>\n",
       "      <td>222.0</td>\n",
       "      <td>2024-02-06</td>\n",
       "      <td>2024-02-06 13:06:07.620344+00</td>\n",
       "    </tr>\n",
       "    <tr>\n",
       "      <th>4</th>\n",
       "      <td>32kCmqZw2cs</td>\n",
       "      <td>2024-01-27</td>\n",
       "      <td>00:23:09</td>\n",
       "      <td>451053.0</td>\n",
       "      <td>14453.0</td>\n",
       "      <td>946.0</td>\n",
       "      <td>2024-02-06</td>\n",
       "      <td>2024-02-06 13:06:07.620344+00</td>\n",
       "    </tr>\n",
       "    <tr>\n",
       "      <th>...</th>\n",
       "      <td>...</td>\n",
       "      <td>...</td>\n",
       "      <td>...</td>\n",
       "      <td>...</td>\n",
       "      <td>...</td>\n",
       "      <td>...</td>\n",
       "      <td>...</td>\n",
       "      <td>...</td>\n",
       "    </tr>\n",
       "    <tr>\n",
       "      <th>17800</th>\n",
       "      <td>HkS-K9uyQnk</td>\n",
       "      <td>2024-02-08</td>\n",
       "      <td>00:03:39</td>\n",
       "      <td>299.0</td>\n",
       "      <td>15.0</td>\n",
       "      <td>3.0</td>\n",
       "      <td>2024-02-12</td>\n",
       "      <td>2024-02-12 14:10:13.869971+00</td>\n",
       "    </tr>\n",
       "    <tr>\n",
       "      <th>17801</th>\n",
       "      <td>IV1daO0LUXQ</td>\n",
       "      <td>NaN</td>\n",
       "      <td>NaN</td>\n",
       "      <td>3619.0</td>\n",
       "      <td>51.0</td>\n",
       "      <td>1.0</td>\n",
       "      <td>2024-02-12</td>\n",
       "      <td>2024-02-12 14:10:13.869971+00</td>\n",
       "    </tr>\n",
       "    <tr>\n",
       "      <th>17802</th>\n",
       "      <td>2ntKfHwlX24</td>\n",
       "      <td>NaN</td>\n",
       "      <td>NaN</td>\n",
       "      <td>3569.0</td>\n",
       "      <td>62.0</td>\n",
       "      <td>1.0</td>\n",
       "      <td>2024-02-12</td>\n",
       "      <td>2024-02-12 14:10:13.869971+00</td>\n",
       "    </tr>\n",
       "    <tr>\n",
       "      <th>17803</th>\n",
       "      <td>RUvJ8KZP8_4</td>\n",
       "      <td>NaN</td>\n",
       "      <td>NaN</td>\n",
       "      <td>1756.0</td>\n",
       "      <td>52.0</td>\n",
       "      <td>2.0</td>\n",
       "      <td>2024-02-12</td>\n",
       "      <td>2024-02-12 14:10:13.869971+00</td>\n",
       "    </tr>\n",
       "    <tr>\n",
       "      <th>17804</th>\n",
       "      <td>c02nfxn0ZwE</td>\n",
       "      <td>2024-02-06</td>\n",
       "      <td>00:32:37</td>\n",
       "      <td>34044.0</td>\n",
       "      <td>479.0</td>\n",
       "      <td>59.0</td>\n",
       "      <td>2024-02-12</td>\n",
       "      <td>2024-02-12 14:10:13.869971+00</td>\n",
       "    </tr>\n",
       "  </tbody>\n",
       "</table>\n",
       "<p>17805 rows × 8 columns</p>\n",
       "</div>"
      ],
      "text/plain": [
       "          video_id published_date  duration  view_count  like_count  \\\n",
       "0      p9g3G_w8J9w     2024-02-05  00:13:30    152323.0      4581.0   \n",
       "1      3rO0voiGkKQ     2024-02-03  00:26:58    113060.0      5027.0   \n",
       "2      VYV8Lssp4HY     2024-01-31  00:14:40    151756.0      4548.0   \n",
       "3      hUcWLhLCBPk     2024-01-29  00:19:19    222093.0      5636.0   \n",
       "4      32kCmqZw2cs     2024-01-27  00:23:09    451053.0     14453.0   \n",
       "...            ...            ...       ...         ...         ...   \n",
       "17800  HkS-K9uyQnk     2024-02-08  00:03:39       299.0        15.0   \n",
       "17801  IV1daO0LUXQ            NaN       NaN      3619.0        51.0   \n",
       "17802  2ntKfHwlX24            NaN       NaN      3569.0        62.0   \n",
       "17803  RUvJ8KZP8_4            NaN       NaN      1756.0        52.0   \n",
       "17804  c02nfxn0ZwE     2024-02-06  00:32:37     34044.0       479.0   \n",
       "\n",
       "       comment_count created_date                     created_at  \n",
       "0              734.0   2024-02-06  2024-02-06 13:06:07.620344+00  \n",
       "1              790.0   2024-02-06  2024-02-06 13:06:07.620344+00  \n",
       "2              270.0   2024-02-06  2024-02-06 13:06:07.620344+00  \n",
       "3              222.0   2024-02-06  2024-02-06 13:06:07.620344+00  \n",
       "4              946.0   2024-02-06  2024-02-06 13:06:07.620344+00  \n",
       "...              ...          ...                            ...  \n",
       "17800            3.0   2024-02-12  2024-02-12 14:10:13.869971+00  \n",
       "17801            1.0   2024-02-12  2024-02-12 14:10:13.869971+00  \n",
       "17802            1.0   2024-02-12  2024-02-12 14:10:13.869971+00  \n",
       "17803            2.0   2024-02-12  2024-02-12 14:10:13.869971+00  \n",
       "17804           59.0   2024-02-12  2024-02-12 14:10:13.869971+00  \n",
       "\n",
       "[17805 rows x 8 columns]"
      ]
     },
     "execution_count": 5,
     "metadata": {},
     "output_type": "execute_result"
    }
   ],
   "source": [
    "video['']"
   ]
  },
  {
   "cell_type": "code",
   "execution_count": 16,
   "metadata": {},
   "outputs": [],
   "source": [
    "video = video.drop_duplicates(subset='video_id',keep='last')\n",
    "video['published_date'] = pd.to_datetime(video['published_date'])\n",
    "video['created_date'] = pd.to_datetime(video['created_date'])\n",
    "video = video[video['created_date']-video['published_date']>=datetime.timedelta(days=7)]\n",
    "video['duration'] = pd.to_timedelta(video['duration']).dt.ceil('min')\n",
    "video = video[video[\"duration\"] < datetime.timedelta(hours=1)]\n"
   ]
  },
  {
   "cell_type": "code",
   "execution_count": 17,
   "metadata": {},
   "outputs": [],
   "source": [
    "is_multi = video[\"duration\"].value_counts() > 20\n",
    "filtered = video[video[\"duration\"].isin(is_multi[is_multi].index)]\n",
    "filtered['duration'] = filtered.duration.dt.total_seconds()/60\n",
    "bin_num = 20\n",
    "filtered['time_binning'] = pd.cut(filtered['duration'],bins=bin_num,\n",
    "                                  include_lowest=True,\n",
    "                                  precision=0\n",
    "                                #   labels=list(range(bin_num))\n",
    "                                  )\n",
    "bin_names = [f\"{int(temp.left)}~{int(temp.right)}\" for temp in filtered['time_binning'].dtype.categories]"
   ]
  },
  {
   "cell_type": "code",
   "execution_count": 19,
   "metadata": {},
   "outputs": [
    {
     "data": {
      "application/vnd.plotly.v1+json": {
       "config": {
        "plotlyServerURL": "https://plot.ly"
       },
       "data": [
        {
         "marker": {
          "color": "#1D1B86"
         },
         "name": "Number of video",
         "type": "bar",
         "x": [
          "0~2",
          "2~3",
          "3~4",
          "4~5",
          "5~6",
          "6~7",
          "7~8",
          "8~9",
          "9~10",
          "10~12",
          "12~13",
          "13~14",
          "14~15",
          "15~16",
          "16~17",
          "17~18",
          "18~19",
          "19~20",
          "20~21",
          "21~22"
         ],
         "y": [
          38,
          32,
          103,
          63,
          30,
          32,
          66,
          41,
          86,
          73,
          55,
          53,
          58,
          55,
          41,
          41,
          22,
          26,
          45
         ],
         "yaxis": "y"
        },
        {
         "marker": {
          "size": 8
         },
         "mode": "lines+markers",
         "name": "Video views median",
         "type": "scatter",
         "x": [
          "0~2",
          "2~3",
          "3~4",
          "4~5",
          "5~6",
          "6~7",
          "7~8",
          "8~9",
          "9~10",
          "10~12",
          "12~13",
          "13~14",
          "14~15",
          "15~16",
          "16~17",
          "17~18",
          "18~19",
          "19~20",
          "20~21",
          "21~22"
         ],
         "y": [
          4063,
          44499.5,
          30991,
          111127,
          64438,
          66973.5,
          76666,
          173711,
          104965,
          123105,
          164819,
          199535,
          224236.5,
          228751,
          408971,
          287490,
          308402.5,
          265112.5,
          243300
         ],
         "yaxis": "y2"
        }
       ],
       "layout": {
        "autosize": false,
        "height": 500,
        "legend": {
         "x": 0.75,
         "y": 1.15
        },
        "template": {
         "data": {
          "bar": [
           {
            "error_x": {
             "color": "#f2f5fa"
            },
            "error_y": {
             "color": "#f2f5fa"
            },
            "marker": {
             "line": {
              "color": "rgb(17,17,17)",
              "width": 0.5
             },
             "pattern": {
              "fillmode": "overlay",
              "size": 10,
              "solidity": 0.2
             }
            },
            "type": "bar"
           }
          ],
          "barpolar": [
           {
            "marker": {
             "line": {
              "color": "rgb(17,17,17)",
              "width": 0.5
             },
             "pattern": {
              "fillmode": "overlay",
              "size": 10,
              "solidity": 0.2
             }
            },
            "type": "barpolar"
           }
          ],
          "carpet": [
           {
            "aaxis": {
             "endlinecolor": "#A2B1C6",
             "gridcolor": "#506784",
             "linecolor": "#506784",
             "minorgridcolor": "#506784",
             "startlinecolor": "#A2B1C6"
            },
            "baxis": {
             "endlinecolor": "#A2B1C6",
             "gridcolor": "#506784",
             "linecolor": "#506784",
             "minorgridcolor": "#506784",
             "startlinecolor": "#A2B1C6"
            },
            "type": "carpet"
           }
          ],
          "choropleth": [
           {
            "colorbar": {
             "outlinewidth": 0,
             "ticks": ""
            },
            "type": "choropleth"
           }
          ],
          "contour": [
           {
            "colorbar": {
             "outlinewidth": 0,
             "ticks": ""
            },
            "colorscale": [
             [
              0,
              "#0d0887"
             ],
             [
              0.1111111111111111,
              "#46039f"
             ],
             [
              0.2222222222222222,
              "#7201a8"
             ],
             [
              0.3333333333333333,
              "#9c179e"
             ],
             [
              0.4444444444444444,
              "#bd3786"
             ],
             [
              0.5555555555555556,
              "#d8576b"
             ],
             [
              0.6666666666666666,
              "#ed7953"
             ],
             [
              0.7777777777777778,
              "#fb9f3a"
             ],
             [
              0.8888888888888888,
              "#fdca26"
             ],
             [
              1,
              "#f0f921"
             ]
            ],
            "type": "contour"
           }
          ],
          "contourcarpet": [
           {
            "colorbar": {
             "outlinewidth": 0,
             "ticks": ""
            },
            "type": "contourcarpet"
           }
          ],
          "heatmap": [
           {
            "colorbar": {
             "outlinewidth": 0,
             "ticks": ""
            },
            "colorscale": [
             [
              0,
              "#0d0887"
             ],
             [
              0.1111111111111111,
              "#46039f"
             ],
             [
              0.2222222222222222,
              "#7201a8"
             ],
             [
              0.3333333333333333,
              "#9c179e"
             ],
             [
              0.4444444444444444,
              "#bd3786"
             ],
             [
              0.5555555555555556,
              "#d8576b"
             ],
             [
              0.6666666666666666,
              "#ed7953"
             ],
             [
              0.7777777777777778,
              "#fb9f3a"
             ],
             [
              0.8888888888888888,
              "#fdca26"
             ],
             [
              1,
              "#f0f921"
             ]
            ],
            "type": "heatmap"
           }
          ],
          "heatmapgl": [
           {
            "colorbar": {
             "outlinewidth": 0,
             "ticks": ""
            },
            "colorscale": [
             [
              0,
              "#0d0887"
             ],
             [
              0.1111111111111111,
              "#46039f"
             ],
             [
              0.2222222222222222,
              "#7201a8"
             ],
             [
              0.3333333333333333,
              "#9c179e"
             ],
             [
              0.4444444444444444,
              "#bd3786"
             ],
             [
              0.5555555555555556,
              "#d8576b"
             ],
             [
              0.6666666666666666,
              "#ed7953"
             ],
             [
              0.7777777777777778,
              "#fb9f3a"
             ],
             [
              0.8888888888888888,
              "#fdca26"
             ],
             [
              1,
              "#f0f921"
             ]
            ],
            "type": "heatmapgl"
           }
          ],
          "histogram": [
           {
            "marker": {
             "pattern": {
              "fillmode": "overlay",
              "size": 10,
              "solidity": 0.2
             }
            },
            "type": "histogram"
           }
          ],
          "histogram2d": [
           {
            "colorbar": {
             "outlinewidth": 0,
             "ticks": ""
            },
            "colorscale": [
             [
              0,
              "#0d0887"
             ],
             [
              0.1111111111111111,
              "#46039f"
             ],
             [
              0.2222222222222222,
              "#7201a8"
             ],
             [
              0.3333333333333333,
              "#9c179e"
             ],
             [
              0.4444444444444444,
              "#bd3786"
             ],
             [
              0.5555555555555556,
              "#d8576b"
             ],
             [
              0.6666666666666666,
              "#ed7953"
             ],
             [
              0.7777777777777778,
              "#fb9f3a"
             ],
             [
              0.8888888888888888,
              "#fdca26"
             ],
             [
              1,
              "#f0f921"
             ]
            ],
            "type": "histogram2d"
           }
          ],
          "histogram2dcontour": [
           {
            "colorbar": {
             "outlinewidth": 0,
             "ticks": ""
            },
            "colorscale": [
             [
              0,
              "#0d0887"
             ],
             [
              0.1111111111111111,
              "#46039f"
             ],
             [
              0.2222222222222222,
              "#7201a8"
             ],
             [
              0.3333333333333333,
              "#9c179e"
             ],
             [
              0.4444444444444444,
              "#bd3786"
             ],
             [
              0.5555555555555556,
              "#d8576b"
             ],
             [
              0.6666666666666666,
              "#ed7953"
             ],
             [
              0.7777777777777778,
              "#fb9f3a"
             ],
             [
              0.8888888888888888,
              "#fdca26"
             ],
             [
              1,
              "#f0f921"
             ]
            ],
            "type": "histogram2dcontour"
           }
          ],
          "mesh3d": [
           {
            "colorbar": {
             "outlinewidth": 0,
             "ticks": ""
            },
            "type": "mesh3d"
           }
          ],
          "parcoords": [
           {
            "line": {
             "colorbar": {
              "outlinewidth": 0,
              "ticks": ""
             }
            },
            "type": "parcoords"
           }
          ],
          "pie": [
           {
            "automargin": true,
            "type": "pie"
           }
          ],
          "scatter": [
           {
            "marker": {
             "line": {
              "color": "#283442"
             }
            },
            "type": "scatter"
           }
          ],
          "scatter3d": [
           {
            "line": {
             "colorbar": {
              "outlinewidth": 0,
              "ticks": ""
             }
            },
            "marker": {
             "colorbar": {
              "outlinewidth": 0,
              "ticks": ""
             }
            },
            "type": "scatter3d"
           }
          ],
          "scattercarpet": [
           {
            "marker": {
             "colorbar": {
              "outlinewidth": 0,
              "ticks": ""
             }
            },
            "type": "scattercarpet"
           }
          ],
          "scattergeo": [
           {
            "marker": {
             "colorbar": {
              "outlinewidth": 0,
              "ticks": ""
             }
            },
            "type": "scattergeo"
           }
          ],
          "scattergl": [
           {
            "marker": {
             "line": {
              "color": "#283442"
             }
            },
            "type": "scattergl"
           }
          ],
          "scattermapbox": [
           {
            "marker": {
             "colorbar": {
              "outlinewidth": 0,
              "ticks": ""
             }
            },
            "type": "scattermapbox"
           }
          ],
          "scatterpolar": [
           {
            "marker": {
             "colorbar": {
              "outlinewidth": 0,
              "ticks": ""
             }
            },
            "type": "scatterpolar"
           }
          ],
          "scatterpolargl": [
           {
            "marker": {
             "colorbar": {
              "outlinewidth": 0,
              "ticks": ""
             }
            },
            "type": "scatterpolargl"
           }
          ],
          "scatterternary": [
           {
            "marker": {
             "colorbar": {
              "outlinewidth": 0,
              "ticks": ""
             }
            },
            "type": "scatterternary"
           }
          ],
          "surface": [
           {
            "colorbar": {
             "outlinewidth": 0,
             "ticks": ""
            },
            "colorscale": [
             [
              0,
              "#0d0887"
             ],
             [
              0.1111111111111111,
              "#46039f"
             ],
             [
              0.2222222222222222,
              "#7201a8"
             ],
             [
              0.3333333333333333,
              "#9c179e"
             ],
             [
              0.4444444444444444,
              "#bd3786"
             ],
             [
              0.5555555555555556,
              "#d8576b"
             ],
             [
              0.6666666666666666,
              "#ed7953"
             ],
             [
              0.7777777777777778,
              "#fb9f3a"
             ],
             [
              0.8888888888888888,
              "#fdca26"
             ],
             [
              1,
              "#f0f921"
             ]
            ],
            "type": "surface"
           }
          ],
          "table": [
           {
            "cells": {
             "fill": {
              "color": "#506784"
             },
             "line": {
              "color": "rgb(17,17,17)"
             }
            },
            "header": {
             "fill": {
              "color": "#2a3f5f"
             },
             "line": {
              "color": "rgb(17,17,17)"
             }
            },
            "type": "table"
           }
          ]
         },
         "layout": {
          "annotationdefaults": {
           "arrowcolor": "#f2f5fa",
           "arrowhead": 0,
           "arrowwidth": 1
          },
          "autotypenumbers": "strict",
          "coloraxis": {
           "colorbar": {
            "outlinewidth": 0,
            "ticks": ""
           }
          },
          "colorscale": {
           "diverging": [
            [
             0,
             "#8e0152"
            ],
            [
             0.1,
             "#c51b7d"
            ],
            [
             0.2,
             "#de77ae"
            ],
            [
             0.3,
             "#f1b6da"
            ],
            [
             0.4,
             "#fde0ef"
            ],
            [
             0.5,
             "#f7f7f7"
            ],
            [
             0.6,
             "#e6f5d0"
            ],
            [
             0.7,
             "#b8e186"
            ],
            [
             0.8,
             "#7fbc41"
            ],
            [
             0.9,
             "#4d9221"
            ],
            [
             1,
             "#276419"
            ]
           ],
           "sequential": [
            [
             0,
             "#0d0887"
            ],
            [
             0.1111111111111111,
             "#46039f"
            ],
            [
             0.2222222222222222,
             "#7201a8"
            ],
            [
             0.3333333333333333,
             "#9c179e"
            ],
            [
             0.4444444444444444,
             "#bd3786"
            ],
            [
             0.5555555555555556,
             "#d8576b"
            ],
            [
             0.6666666666666666,
             "#ed7953"
            ],
            [
             0.7777777777777778,
             "#fb9f3a"
            ],
            [
             0.8888888888888888,
             "#fdca26"
            ],
            [
             1,
             "#f0f921"
            ]
           ],
           "sequentialminus": [
            [
             0,
             "#0d0887"
            ],
            [
             0.1111111111111111,
             "#46039f"
            ],
            [
             0.2222222222222222,
             "#7201a8"
            ],
            [
             0.3333333333333333,
             "#9c179e"
            ],
            [
             0.4444444444444444,
             "#bd3786"
            ],
            [
             0.5555555555555556,
             "#d8576b"
            ],
            [
             0.6666666666666666,
             "#ed7953"
            ],
            [
             0.7777777777777778,
             "#fb9f3a"
            ],
            [
             0.8888888888888888,
             "#fdca26"
            ],
            [
             1,
             "#f0f921"
            ]
           ]
          },
          "colorway": [
           "#636efa",
           "#EF553B",
           "#00cc96",
           "#ab63fa",
           "#FFA15A",
           "#19d3f3",
           "#FF6692",
           "#B6E880",
           "#FF97FF",
           "#FECB52"
          ],
          "font": {
           "color": "#f2f5fa"
          },
          "geo": {
           "bgcolor": "rgb(17,17,17)",
           "lakecolor": "rgb(17,17,17)",
           "landcolor": "rgb(17,17,17)",
           "showlakes": true,
           "showland": true,
           "subunitcolor": "#506784"
          },
          "hoverlabel": {
           "align": "left"
          },
          "hovermode": "closest",
          "mapbox": {
           "style": "dark"
          },
          "paper_bgcolor": "rgb(17,17,17)",
          "plot_bgcolor": "rgb(17,17,17)",
          "polar": {
           "angularaxis": {
            "gridcolor": "#506784",
            "linecolor": "#506784",
            "ticks": ""
           },
           "bgcolor": "rgb(17,17,17)",
           "radialaxis": {
            "gridcolor": "#506784",
            "linecolor": "#506784",
            "ticks": ""
           }
          },
          "scene": {
           "xaxis": {
            "backgroundcolor": "rgb(17,17,17)",
            "gridcolor": "#506784",
            "gridwidth": 2,
            "linecolor": "#506784",
            "showbackground": true,
            "ticks": "",
            "zerolinecolor": "#C8D4E3"
           },
           "yaxis": {
            "backgroundcolor": "rgb(17,17,17)",
            "gridcolor": "#506784",
            "gridwidth": 2,
            "linecolor": "#506784",
            "showbackground": true,
            "ticks": "",
            "zerolinecolor": "#C8D4E3"
           },
           "zaxis": {
            "backgroundcolor": "rgb(17,17,17)",
            "gridcolor": "#506784",
            "gridwidth": 2,
            "linecolor": "#506784",
            "showbackground": true,
            "ticks": "",
            "zerolinecolor": "#C8D4E3"
           }
          },
          "shapedefaults": {
           "line": {
            "color": "#f2f5fa"
           }
          },
          "sliderdefaults": {
           "bgcolor": "#C8D4E3",
           "bordercolor": "rgb(17,17,17)",
           "borderwidth": 1,
           "tickwidth": 0
          },
          "ternary": {
           "aaxis": {
            "gridcolor": "#506784",
            "linecolor": "#506784",
            "ticks": ""
           },
           "baxis": {
            "gridcolor": "#506784",
            "linecolor": "#506784",
            "ticks": ""
           },
           "bgcolor": "rgb(17,17,17)",
           "caxis": {
            "gridcolor": "#506784",
            "linecolor": "#506784",
            "ticks": ""
           }
          },
          "title": {
           "x": 0.05
          },
          "updatemenudefaults": {
           "bgcolor": "#506784",
           "borderwidth": 0
          },
          "xaxis": {
           "automargin": true,
           "gridcolor": "#283442",
           "linecolor": "#506784",
           "ticks": "",
           "title": {
            "standoff": 15
           },
           "zerolinecolor": "#283442",
           "zerolinewidth": 2
          },
          "yaxis": {
           "automargin": true,
           "gridcolor": "#283442",
           "linecolor": "#506784",
           "ticks": "",
           "title": {
            "standoff": 15
           },
           "zerolinecolor": "#283442",
           "zerolinewidth": 2
          }
         }
        },
        "title": {
         "text": "Video performance base on duration (min)"
        },
        "width": 800,
        "yaxis": {
         "title": {
          "text": "num"
         }
        },
        "yaxis2": {
         "overlaying": "y",
         "side": "right",
         "title": {
          "text": "views"
         }
        }
       }
      }
     },
     "metadata": {},
     "output_type": "display_data"
    }
   ],
   "source": [
    "trace1 = go.Bar(x = bin_names,\n",
    "                     y=filtered.groupby('time_binning',observed=True)['duration'].count(),\n",
    "                     name='Number of video',\n",
    "                     yaxis='y1',\n",
    "                     marker=dict(color='#1D1B86')\n",
    "                     )\n",
    "trace2 = go.Scatter(x=bin_names,\n",
    "                      y=filtered.groupby('time_binning',observed=True)['view_count'].median().sort_index().values,\n",
    "                      name='Video views median',\n",
    "                      yaxis='y2',\n",
    "                      mode='lines+markers',\n",
    "                      marker_size=8\n",
    "                      )\n",
    "data = [trace1, trace2]\n",
    "layout = go.Layout(title='Video performance base on duration (min)',\n",
    "                    yaxis=dict(title='num'),\n",
    "                    yaxis2=dict(title='views',\n",
    "                                overlaying='y',\n",
    "                                side='right'),\n",
    "                    template=\"plotly_dark\")\n",
    "fig = go.Figure(data=data,layout=layout,)\n",
    "\n",
    "fig.update_layout(legend=dict(\n",
    "    y=1.15,\n",
    "    x=0.75),\n",
    "    autosize=False,\n",
    "    width=800,\n",
    "    height=500\n",
    "    )\n",
    "\n",
    "fig.show()"
   ]
  },
  {
   "cell_type": "code",
   "execution_count": 710,
   "metadata": {},
   "outputs": [],
   "source": [
    "fig.write_image('images/duration_view_relation.png')\n",
    "# fig.write_html('images/duration_view_relation.html')"
   ]
  }
 ],
 "metadata": {
  "kernelspec": {
   "display_name": ".venv",
   "language": "python",
   "name": "python3"
  },
  "language_info": {
   "codemirror_mode": {
    "name": "ipython",
    "version": 3
   },
   "file_extension": ".py",
   "mimetype": "text/x-python",
   "name": "python",
   "nbconvert_exporter": "python",
   "pygments_lexer": "ipython3",
   "version": "3.11.8"
  }
 },
 "nbformat": 4,
 "nbformat_minor": 2
}
