{
 "cells": [
  {
   "cell_type": "code",
   "execution_count": 1,
   "metadata": {},
   "outputs": [],
   "source": [
    "from pyspark.sql import SparkSession\n",
    "from pyspark.sql.functions import udf\n",
    "import pyspark.sql"
   ]
  },
  {
   "cell_type": "code",
   "execution_count": 2,
   "metadata": {},
   "outputs": [
    {
     "name": "stderr",
     "output_type": "stream",
     "text": [
      "Setting default log level to \"WARN\".\n",
      "To adjust logging level use sc.setLogLevel(newLevel). For SparkR, use setLogLevel(newLevel).\n",
      "24/03/26 08:25:29 WARN NativeCodeLoader: Unable to load native-hadoop library for your platform... using builtin-java classes where applicable\n"
     ]
    }
   ],
   "source": [
    "spark:SparkSession= SparkSession.builder.getOrCreate()"
   ]
  },
  {
   "cell_type": "code",
   "execution_count": 30,
   "metadata": {},
   "outputs": [],
   "source": [
    "c = spark.read.option(\"multiLine\", \"true\").csv('../sample_data/channel.csv',header=True)\n",
    "cl = spark.read.option(\"multiLine\", \"true\").csv('../sample_data/channel_log.csv',header=True)"
   ]
  },
  {
   "cell_type": "code",
   "execution_count": 31,
   "metadata": {},
   "outputs": [],
   "source": [
    "channel = cl.join(c[['name','topic','channel_id']],on='channel_id',how='left')"
   ]
  },
  {
   "cell_type": "code",
   "execution_count": 32,
   "metadata": {},
   "outputs": [],
   "source": [
    "channel = channel.dropna().sort('created_date',ascending=False).drop_duplicates(subset=['channel_id'])"
   ]
  },
  {
   "cell_type": "code",
   "execution_count": 33,
   "metadata": {},
   "outputs": [],
   "source": [
    "topic_list = [item['topic'] for item in channel.select('topic').collect()]\n",
    "topic_list = [item.replace(' ','').split(',') for item in topic_list]\n",
    "topic_list = [item for row in topic_list for item in row]"
   ]
  },
  {
   "cell_type": "code",
   "execution_count": 34,
   "metadata": {},
   "outputs": [
    {
     "data": {
      "text/plain": [
       "['Entertainment',\n",
       " 'Lifestyle_(sociology)',\n",
       " 'Action-adventure_game',\n",
       " 'Role-playing_video_game',\n",
       " 'Action_game']"
      ]
     },
     "execution_count": 34,
     "metadata": {},
     "output_type": "execute_result"
    }
   ],
   "source": [
    "topic_list[:5]"
   ]
  },
  {
   "cell_type": "code",
   "execution_count": 35,
   "metadata": {},
   "outputs": [],
   "source": [
    "from collections import Counter"
   ]
  },
  {
   "cell_type": "code",
   "execution_count": 36,
   "metadata": {},
   "outputs": [
    {
     "name": "stdout",
     "output_type": "stream",
     "text": [
      "['Lifestyle_(sociology)', 'Entertainment', 'Food', 'Music', 'Film', 'Music_of_Asia', 'Society']\n",
      "['Lifestyle', 'Entertainment', 'Food', 'Music', 'Film', 'Music', 'Society']\n"
     ]
    }
   ],
   "source": [
    "c = Counter(topic_list)\n",
    "top_topics = [item[0] for item in c.most_common()[:7]]\n",
    "print(top_topics)\n",
    "for idx,item in enumerate(top_topics):\n",
    "    if item == 'Lifestyle_(sociology)':\n",
    "        top_topics[idx] = 'Lifestyle'\n",
    "    elif 'Music' in item:\n",
    "        top_topics[idx] = 'Music'\n",
    "print(top_topics)"
   ]
  },
  {
   "cell_type": "code",
   "execution_count": 37,
   "metadata": {},
   "outputs": [],
   "source": [
    "def filter_category(x):\n",
    "    for topic in top_topics:\n",
    "        if topic in x:\n",
    "            return topic\n",
    "    return 'Other'\n",
    "udf_filter_category = udf(filter_category)\n",
    "# result = list(map(check_category,[item['topic'] for item in channel.select('topic').collect()]))"
   ]
  },
  {
   "cell_type": "code",
   "execution_count": 38,
   "metadata": {},
   "outputs": [],
   "source": [
    "channel = channel.withColumn('topic',udf_filter_category('topic'))"
   ]
  },
  {
   "cell_type": "code",
   "execution_count": 48,
   "metadata": {},
   "outputs": [],
   "source": [
    "pd_channel = channel.toPandas()\n",
    "pd_channel = pd_channel.astype(\n",
    "    {'view_count': int,\n",
    "    'sub_count': int,\n",
    "    'video_count':int\n",
    "    }\n",
    ")"
   ]
  },
  {
   "cell_type": "code",
   "execution_count": 52,
   "metadata": {},
   "outputs": [
    {
     "name": "stderr",
     "output_type": "stream",
     "text": [
      "/Users/Harry/Documents/GitHub/top_youtuber_dashboard_tw/.venv/lib/python3.11/site-packages/plotly/express/_core.py:2065: FutureWarning:\n",
      "\n",
      "When grouping with a length-1 list-like, you will need to pass a length-1 tuple to get_group in a future version of pandas. Pass `(name,)` instead of `name` to silence this warning.\n",
      "\n"
     ]
    },
    {
     "data": {
      "application/vnd.plotly.v1+json": {
       "config": {
        "plotlyServerURL": "https://plot.ly"
       },
       "data": [
        {
         "customdata": [
          [
           "Lifestyle"
          ],
          [
           "Lifestyle"
          ],
          [
           "Lifestyle"
          ],
          [
           "Lifestyle"
          ],
          [
           "Lifestyle"
          ],
          [
           "Lifestyle"
          ],
          [
           "Lifestyle"
          ],
          [
           "Lifestyle"
          ],
          [
           "Lifestyle"
          ],
          [
           "Lifestyle"
          ],
          [
           "Lifestyle"
          ],
          [
           "Lifestyle"
          ],
          [
           "Lifestyle"
          ],
          [
           "Lifestyle"
          ],
          [
           "Lifestyle"
          ],
          [
           "Lifestyle"
          ],
          [
           "Lifestyle"
          ],
          [
           "Lifestyle"
          ],
          [
           "Lifestyle"
          ],
          [
           "Lifestyle"
          ],
          [
           "Lifestyle"
          ],
          [
           "Lifestyle"
          ],
          [
           "Lifestyle"
          ],
          [
           "Lifestyle"
          ],
          [
           "Lifestyle"
          ],
          [
           "Lifestyle"
          ],
          [
           "Lifestyle"
          ],
          [
           "Lifestyle"
          ],
          [
           "Lifestyle"
          ],
          [
           "Lifestyle"
          ],
          [
           "Lifestyle"
          ],
          [
           "Lifestyle"
          ],
          [
           "Lifestyle"
          ],
          [
           "Lifestyle"
          ],
          [
           "Lifestyle"
          ],
          [
           "Lifestyle"
          ],
          [
           "Lifestyle"
          ],
          [
           "Lifestyle"
          ],
          [
           "Lifestyle"
          ],
          [
           "Lifestyle"
          ],
          [
           "Lifestyle"
          ],
          [
           "Lifestyle"
          ],
          [
           "Lifestyle"
          ],
          [
           "Lifestyle"
          ]
         ],
         "hovertemplate": "<b>%{hovertext}</b><br><br>Categories=%{customdata[0]}<br>Num of Subscriber=%{y}<br>Num of views=%{marker.size}<extra></extra>",
         "hovertext": [
          "眾量級CROWD",
          "人生肥宅x尊",
          "好棒Bump",
          "Hot Emma",
          "77老大",
          "胡子Huzi",
          "千千進食中",
          "健康2.0",
          "三原JAPAN Sanyuan_JAPAN",
          "亮生活 / Bright Side",
          "WACKYBOYS 反骨男孩",
          "喪屍老爸",
          "欸你這週要幹嘛",
          "滴妹",
          "Terry Films",
          "Jay Lee Painting",
          "GQ Taiwan",
          "Pan Piano",
          "台灣達人秀",
          "啾啾鞋",
          "白癡公主",
          "木曜4超玩",
          "Joeman",
          "蔡阿嘎",
          "綜藝玩很大 Mr.Player",
          "凱文羊",
          "Ku's dream酷的夢-",
          "黃氏兄弟",
          "葉式特工Yes Ranger",
          "HOOK",
          "Rosalina's Kitchen 蘿潔塔的廚房",
          "PAPAYA 電腦教室",
          "Cate Food Travel 凱特食旅",
          "阿滴英文",
          "角落動物TV Top animal world",
          "志祺七七 X 圖文不符",
          "安啾咪",
          "Roman and Sharon",
          "MASA",
          "Andy & Popo",
          "蔡阿嘎Life",
          "奇軒Tricking",
          "黃阿瑪的後宮生活",
          "HowFun"
         ],
         "legendgroup": "Lifestyle",
         "marker": {
          "color": "#636efa",
          "size": [
           823630126,
           369998492,
           179340977,
           394340230,
           186552979,
           370999222,
           358907829,
           707553936,
           561308255,
           401370391,
           902001468,
           960401177,
           415665701,
           275219648,
           1144732112,
           1290156156,
           411902548,
           609690078,
           2138570667,
           314831434,
           284282145,
           832518372,
           1033915145,
           728606524,
           1133940309,
           16189205,
           344614933,
           1031199631,
           2144375213,
           372517170,
           187021239,
           114843043,
           831690507,
           360085404,
           884106598,
           840277688,
           249833167,
           4036911476,
           198646289,
           1491527762,
           538877305,
           3297179529,
           551768893,
           660528612
          ],
          "sizemode": "area",
          "sizeref": 14426854.4625,
          "symbol": "circle"
         },
         "mode": "markers",
         "name": "Lifestyle",
         "orientation": "v",
         "showlegend": true,
         "type": "scatter",
         "x": [
          800,
          240,
          141,
          305,
          569,
          668,
          416,
          11981,
          2003,
          3840,
          1326,
          1299,
          689,
          362,
          449,
          871,
          4944,
          722,
          18477,
          737,
          469,
          1447,
          2825,
          1028,
          3082,
          119,
          339,
          1645,
          300,
          360,
          605,
          490,
          351,
          702,
          16256,
          4184,
          305,
          2373,
          766,
          331,
          749,
          481,
          625,
          1078
         ],
         "xaxis": "x",
         "y": [
          2260000,
          1590000,
          1370000,
          1470000,
          1540000,
          1140000,
          1830000,
          1620000,
          1540000,
          1500000,
          1650000,
          1420000,
          1070000,
          1450000,
          2140000,
          5830000,
          1360000,
          3550000,
          1880000,
          1580000,
          1580000,
          2340000,
          2570000,
          2510000,
          1550000,
          180000,
          1730000,
          2230000,
          5190000,
          1470000,
          1460000,
          1410000,
          1410000,
          2770000,
          1430000,
          1380000,
          1380000,
          6020000,
          1790000,
          1420000,
          1600000,
          9630000,
          1570000,
          1500000
         ],
         "yaxis": "y"
        },
        {
         "customdata": [
          [
           "Entertainment"
          ],
          [
           "Entertainment"
          ],
          [
           "Entertainment"
          ],
          [
           "Entertainment"
          ],
          [
           "Entertainment"
          ],
          [
           "Entertainment"
          ],
          [
           "Entertainment"
          ],
          [
           "Entertainment"
          ],
          [
           "Entertainment"
          ],
          [
           "Entertainment"
          ],
          [
           "Entertainment"
          ],
          [
           "Entertainment"
          ]
         ],
         "hovertemplate": "<b>%{hovertext}</b><br><br>Categories=%{customdata[0]}<br>Num of Subscriber=%{y}<br>Num of views=%{marker.size}<extra></extra>",
         "hovertext": [
          "Howwork X 六指淵",
          "STR Network",
          "Namewee",
          "瑪莎與熊 Masha and The Bear CH",
          "cheap",
          "Muse Asia",
          "Muse木棉花-TW",
          "民視戲劇館 Formosa TV Dramas",
          "YOYOTV",
          "墨鏡哥SG",
          "碰碰狐 鯊魚寶寶 (兒童兒歌・故事)",
          "寶寶巴士 - 中文兒歌童謠 - 卡通動畫"
         ],
         "legendgroup": "Entertainment",
         "marker": {
          "color": "#EF553B",
          "size": [
           321189666,
           624368897,
           1722008098,
           1376838011,
           296523933,
           2088925877,
           1246273030,
           4337230956,
           1723468649,
           512378280,
           1352830107,
           1942942879
          ],
          "sizemode": "area",
          "sizeref": 14426854.4625,
          "symbol": "circle"
         },
         "mode": "markers",
         "name": "Entertainment",
         "orientation": "v",
         "showlegend": true,
         "type": "scatter",
         "x": [
          580,
          725,
          1105,
          1214,
          1561,
          9491,
          11962,
          33846,
          14699,
          2494,
          2006,
          1824
         ],
         "xaxis": "x",
         "y": [
          1410000,
          1780000,
          3600000,
          3510000,
          1420000,
          6680000,
          2050000,
          1650000,
          1580000,
          1360000,
          3150000,
          3040000
         ],
         "yaxis": "y"
        },
        {
         "customdata": [
          [
           "Music"
          ],
          [
           "Music"
          ],
          [
           "Music"
          ],
          [
           "Music"
          ],
          [
           "Music"
          ],
          [
           "Music"
          ],
          [
           "Music"
          ]
         ],
         "hovertemplate": "<b>%{hovertext}</b><br><br>Categories=%{customdata[0]}<br>Num of Subscriber=%{y}<br>Num of views=%{marker.size}<extra></extra>",
         "hovertext": [
          "相信音樂BinMusic",
          "周杰倫 Jay Chou",
          "Ru's Piano Ru味春捲",
          "華研國際",
          "福茂唱片",
          "滾石唱片 ROCK RECORDS",
          "華納音樂 Warner Music Taiwan"
         ],
         "legendgroup": "Music",
         "marker": {
          "color": "#ab63fa",
          "size": [
           3999503375,
           4171577284,
           371030186,
           2558945677,
           2054755840,
           5770741785,
           836299975
          ],
          "sizemode": "area",
          "sizeref": 14426854.4625,
          "symbol": "circle"
         },
         "mode": "markers",
         "name": "Music",
         "orientation": "v",
         "showlegend": true,
         "type": "scatter",
         "x": [
          2206,
          27,
          565,
          1568,
          2078,
          5666,
          868
         ],
         "xaxis": "x",
         "y": [
          2750000,
          2940000,
          2550000,
          1540000,
          1780000,
          3530000,
          1580000
         ],
         "yaxis": "y"
        },
        {
         "customdata": [
          [
           "Society"
          ],
          [
           "Society"
          ],
          [
           "Society"
          ],
          [
           "Society"
          ],
          [
           "Society"
          ]
         ],
         "hovertemplate": "<b>%{hovertext}</b><br><br>Categories=%{customdata[0]}<br>Num of Subscriber=%{y}<br>Num of views=%{marker.size}<extra></extra>",
         "hovertext": [
          "中天電視",
          "關鍵時刻",
          "少康戰情室 TVBS Situation Room",
          "中時新聞網",
          "風傳媒 The Storm Media"
         ],
         "legendgroup": "Society",
         "marker": {
          "color": "#19d3f3",
          "size": [
           3299529296,
           4641372772,
           1863713770,
           2098088119,
           625084393
          ],
          "sizemode": "area",
          "sizeref": 14426854.4625,
          "symbol": "circle"
         },
         "mode": "markers",
         "name": "Society",
         "orientation": "v",
         "showlegend": true,
         "type": "scatter",
         "x": [
          116137,
          34822,
          35749,
          195281,
          7188
         ],
         "xaxis": "x",
         "y": [
          3280000,
          3120000,
          1440000,
          1550000,
          1610000
         ],
         "yaxis": "y"
        },
        {
         "customdata": [
          [
           "Other"
          ],
          [
           "Other"
          ]
         ],
         "hovertemplate": "<b>%{hovertext}</b><br><br>Categories=%{customdata[0]}<br>Num of Subscriber=%{y}<br>Num of views=%{marker.size}<extra></extra>",
         "hovertext": [
          "DE JuN",
          "阿神"
         ],
         "legendgroup": "Other",
         "marker": {
          "color": "#FF6692",
          "size": [
           1239285781,
           2250341879
          ],
          "sizemode": "area",
          "sizeref": 14426854.4625,
          "symbol": "circle"
         },
         "mode": "markers",
         "name": "Other",
         "orientation": "v",
         "showlegend": true,
         "type": "scatter",
         "x": [
          1056,
          5104
         ],
         "xaxis": "x",
         "y": [
          1900000,
          3130000
         ],
         "yaxis": "y"
        }
       ],
       "layout": {
        "height": 500,
        "legend": {
         "itemsizing": "constant",
         "title": {
          "text": "Categories"
         },
         "tracegroupgap": 0
        },
        "template": {
         "data": {
          "bar": [
           {
            "error_x": {
             "color": "#f2f5fa"
            },
            "error_y": {
             "color": "#f2f5fa"
            },
            "marker": {
             "line": {
              "color": "rgb(17,17,17)",
              "width": 0.5
             },
             "pattern": {
              "fillmode": "overlay",
              "size": 10,
              "solidity": 0.2
             }
            },
            "type": "bar"
           }
          ],
          "barpolar": [
           {
            "marker": {
             "line": {
              "color": "rgb(17,17,17)",
              "width": 0.5
             },
             "pattern": {
              "fillmode": "overlay",
              "size": 10,
              "solidity": 0.2
             }
            },
            "type": "barpolar"
           }
          ],
          "carpet": [
           {
            "aaxis": {
             "endlinecolor": "#A2B1C6",
             "gridcolor": "#506784",
             "linecolor": "#506784",
             "minorgridcolor": "#506784",
             "startlinecolor": "#A2B1C6"
            },
            "baxis": {
             "endlinecolor": "#A2B1C6",
             "gridcolor": "#506784",
             "linecolor": "#506784",
             "minorgridcolor": "#506784",
             "startlinecolor": "#A2B1C6"
            },
            "type": "carpet"
           }
          ],
          "choropleth": [
           {
            "colorbar": {
             "outlinewidth": 0,
             "ticks": ""
            },
            "type": "choropleth"
           }
          ],
          "contour": [
           {
            "colorbar": {
             "outlinewidth": 0,
             "ticks": ""
            },
            "colorscale": [
             [
              0,
              "#0d0887"
             ],
             [
              0.1111111111111111,
              "#46039f"
             ],
             [
              0.2222222222222222,
              "#7201a8"
             ],
             [
              0.3333333333333333,
              "#9c179e"
             ],
             [
              0.4444444444444444,
              "#bd3786"
             ],
             [
              0.5555555555555556,
              "#d8576b"
             ],
             [
              0.6666666666666666,
              "#ed7953"
             ],
             [
              0.7777777777777778,
              "#fb9f3a"
             ],
             [
              0.8888888888888888,
              "#fdca26"
             ],
             [
              1,
              "#f0f921"
             ]
            ],
            "type": "contour"
           }
          ],
          "contourcarpet": [
           {
            "colorbar": {
             "outlinewidth": 0,
             "ticks": ""
            },
            "type": "contourcarpet"
           }
          ],
          "heatmap": [
           {
            "colorbar": {
             "outlinewidth": 0,
             "ticks": ""
            },
            "colorscale": [
             [
              0,
              "#0d0887"
             ],
             [
              0.1111111111111111,
              "#46039f"
             ],
             [
              0.2222222222222222,
              "#7201a8"
             ],
             [
              0.3333333333333333,
              "#9c179e"
             ],
             [
              0.4444444444444444,
              "#bd3786"
             ],
             [
              0.5555555555555556,
              "#d8576b"
             ],
             [
              0.6666666666666666,
              "#ed7953"
             ],
             [
              0.7777777777777778,
              "#fb9f3a"
             ],
             [
              0.8888888888888888,
              "#fdca26"
             ],
             [
              1,
              "#f0f921"
             ]
            ],
            "type": "heatmap"
           }
          ],
          "heatmapgl": [
           {
            "colorbar": {
             "outlinewidth": 0,
             "ticks": ""
            },
            "colorscale": [
             [
              0,
              "#0d0887"
             ],
             [
              0.1111111111111111,
              "#46039f"
             ],
             [
              0.2222222222222222,
              "#7201a8"
             ],
             [
              0.3333333333333333,
              "#9c179e"
             ],
             [
              0.4444444444444444,
              "#bd3786"
             ],
             [
              0.5555555555555556,
              "#d8576b"
             ],
             [
              0.6666666666666666,
              "#ed7953"
             ],
             [
              0.7777777777777778,
              "#fb9f3a"
             ],
             [
              0.8888888888888888,
              "#fdca26"
             ],
             [
              1,
              "#f0f921"
             ]
            ],
            "type": "heatmapgl"
           }
          ],
          "histogram": [
           {
            "marker": {
             "pattern": {
              "fillmode": "overlay",
              "size": 10,
              "solidity": 0.2
             }
            },
            "type": "histogram"
           }
          ],
          "histogram2d": [
           {
            "colorbar": {
             "outlinewidth": 0,
             "ticks": ""
            },
            "colorscale": [
             [
              0,
              "#0d0887"
             ],
             [
              0.1111111111111111,
              "#46039f"
             ],
             [
              0.2222222222222222,
              "#7201a8"
             ],
             [
              0.3333333333333333,
              "#9c179e"
             ],
             [
              0.4444444444444444,
              "#bd3786"
             ],
             [
              0.5555555555555556,
              "#d8576b"
             ],
             [
              0.6666666666666666,
              "#ed7953"
             ],
             [
              0.7777777777777778,
              "#fb9f3a"
             ],
             [
              0.8888888888888888,
              "#fdca26"
             ],
             [
              1,
              "#f0f921"
             ]
            ],
            "type": "histogram2d"
           }
          ],
          "histogram2dcontour": [
           {
            "colorbar": {
             "outlinewidth": 0,
             "ticks": ""
            },
            "colorscale": [
             [
              0,
              "#0d0887"
             ],
             [
              0.1111111111111111,
              "#46039f"
             ],
             [
              0.2222222222222222,
              "#7201a8"
             ],
             [
              0.3333333333333333,
              "#9c179e"
             ],
             [
              0.4444444444444444,
              "#bd3786"
             ],
             [
              0.5555555555555556,
              "#d8576b"
             ],
             [
              0.6666666666666666,
              "#ed7953"
             ],
             [
              0.7777777777777778,
              "#fb9f3a"
             ],
             [
              0.8888888888888888,
              "#fdca26"
             ],
             [
              1,
              "#f0f921"
             ]
            ],
            "type": "histogram2dcontour"
           }
          ],
          "mesh3d": [
           {
            "colorbar": {
             "outlinewidth": 0,
             "ticks": ""
            },
            "type": "mesh3d"
           }
          ],
          "parcoords": [
           {
            "line": {
             "colorbar": {
              "outlinewidth": 0,
              "ticks": ""
             }
            },
            "type": "parcoords"
           }
          ],
          "pie": [
           {
            "automargin": true,
            "type": "pie"
           }
          ],
          "scatter": [
           {
            "marker": {
             "line": {
              "color": "#283442"
             }
            },
            "type": "scatter"
           }
          ],
          "scatter3d": [
           {
            "line": {
             "colorbar": {
              "outlinewidth": 0,
              "ticks": ""
             }
            },
            "marker": {
             "colorbar": {
              "outlinewidth": 0,
              "ticks": ""
             }
            },
            "type": "scatter3d"
           }
          ],
          "scattercarpet": [
           {
            "marker": {
             "colorbar": {
              "outlinewidth": 0,
              "ticks": ""
             }
            },
            "type": "scattercarpet"
           }
          ],
          "scattergeo": [
           {
            "marker": {
             "colorbar": {
              "outlinewidth": 0,
              "ticks": ""
             }
            },
            "type": "scattergeo"
           }
          ],
          "scattergl": [
           {
            "marker": {
             "line": {
              "color": "#283442"
             }
            },
            "type": "scattergl"
           }
          ],
          "scattermapbox": [
           {
            "marker": {
             "colorbar": {
              "outlinewidth": 0,
              "ticks": ""
             }
            },
            "type": "scattermapbox"
           }
          ],
          "scatterpolar": [
           {
            "marker": {
             "colorbar": {
              "outlinewidth": 0,
              "ticks": ""
             }
            },
            "type": "scatterpolar"
           }
          ],
          "scatterpolargl": [
           {
            "marker": {
             "colorbar": {
              "outlinewidth": 0,
              "ticks": ""
             }
            },
            "type": "scatterpolargl"
           }
          ],
          "scatterternary": [
           {
            "marker": {
             "colorbar": {
              "outlinewidth": 0,
              "ticks": ""
             }
            },
            "type": "scatterternary"
           }
          ],
          "surface": [
           {
            "colorbar": {
             "outlinewidth": 0,
             "ticks": ""
            },
            "colorscale": [
             [
              0,
              "#0d0887"
             ],
             [
              0.1111111111111111,
              "#46039f"
             ],
             [
              0.2222222222222222,
              "#7201a8"
             ],
             [
              0.3333333333333333,
              "#9c179e"
             ],
             [
              0.4444444444444444,
              "#bd3786"
             ],
             [
              0.5555555555555556,
              "#d8576b"
             ],
             [
              0.6666666666666666,
              "#ed7953"
             ],
             [
              0.7777777777777778,
              "#fb9f3a"
             ],
             [
              0.8888888888888888,
              "#fdca26"
             ],
             [
              1,
              "#f0f921"
             ]
            ],
            "type": "surface"
           }
          ],
          "table": [
           {
            "cells": {
             "fill": {
              "color": "#506784"
             },
             "line": {
              "color": "rgb(17,17,17)"
             }
            },
            "header": {
             "fill": {
              "color": "#2a3f5f"
             },
             "line": {
              "color": "rgb(17,17,17)"
             }
            },
            "type": "table"
           }
          ]
         },
         "layout": {
          "annotationdefaults": {
           "arrowcolor": "#f2f5fa",
           "arrowhead": 0,
           "arrowwidth": 1
          },
          "autotypenumbers": "strict",
          "coloraxis": {
           "colorbar": {
            "outlinewidth": 0,
            "ticks": ""
           }
          },
          "colorscale": {
           "diverging": [
            [
             0,
             "#8e0152"
            ],
            [
             0.1,
             "#c51b7d"
            ],
            [
             0.2,
             "#de77ae"
            ],
            [
             0.3,
             "#f1b6da"
            ],
            [
             0.4,
             "#fde0ef"
            ],
            [
             0.5,
             "#f7f7f7"
            ],
            [
             0.6,
             "#e6f5d0"
            ],
            [
             0.7,
             "#b8e186"
            ],
            [
             0.8,
             "#7fbc41"
            ],
            [
             0.9,
             "#4d9221"
            ],
            [
             1,
             "#276419"
            ]
           ],
           "sequential": [
            [
             0,
             "#0d0887"
            ],
            [
             0.1111111111111111,
             "#46039f"
            ],
            [
             0.2222222222222222,
             "#7201a8"
            ],
            [
             0.3333333333333333,
             "#9c179e"
            ],
            [
             0.4444444444444444,
             "#bd3786"
            ],
            [
             0.5555555555555556,
             "#d8576b"
            ],
            [
             0.6666666666666666,
             "#ed7953"
            ],
            [
             0.7777777777777778,
             "#fb9f3a"
            ],
            [
             0.8888888888888888,
             "#fdca26"
            ],
            [
             1,
             "#f0f921"
            ]
           ],
           "sequentialminus": [
            [
             0,
             "#0d0887"
            ],
            [
             0.1111111111111111,
             "#46039f"
            ],
            [
             0.2222222222222222,
             "#7201a8"
            ],
            [
             0.3333333333333333,
             "#9c179e"
            ],
            [
             0.4444444444444444,
             "#bd3786"
            ],
            [
             0.5555555555555556,
             "#d8576b"
            ],
            [
             0.6666666666666666,
             "#ed7953"
            ],
            [
             0.7777777777777778,
             "#fb9f3a"
            ],
            [
             0.8888888888888888,
             "#fdca26"
            ],
            [
             1,
             "#f0f921"
            ]
           ]
          },
          "colorway": [
           "#636efa",
           "#EF553B",
           "#00cc96",
           "#ab63fa",
           "#FFA15A",
           "#19d3f3",
           "#FF6692",
           "#B6E880",
           "#FF97FF",
           "#FECB52"
          ],
          "font": {
           "color": "#f2f5fa"
          },
          "geo": {
           "bgcolor": "rgb(17,17,17)",
           "lakecolor": "rgb(17,17,17)",
           "landcolor": "rgb(17,17,17)",
           "showlakes": true,
           "showland": true,
           "subunitcolor": "#506784"
          },
          "hoverlabel": {
           "align": "left"
          },
          "hovermode": "closest",
          "mapbox": {
           "style": "dark"
          },
          "paper_bgcolor": "rgb(17,17,17)",
          "plot_bgcolor": "rgb(17,17,17)",
          "polar": {
           "angularaxis": {
            "gridcolor": "#506784",
            "linecolor": "#506784",
            "ticks": ""
           },
           "bgcolor": "rgb(17,17,17)",
           "radialaxis": {
            "gridcolor": "#506784",
            "linecolor": "#506784",
            "ticks": ""
           }
          },
          "scene": {
           "xaxis": {
            "backgroundcolor": "rgb(17,17,17)",
            "gridcolor": "#506784",
            "gridwidth": 2,
            "linecolor": "#506784",
            "showbackground": true,
            "ticks": "",
            "zerolinecolor": "#C8D4E3"
           },
           "yaxis": {
            "backgroundcolor": "rgb(17,17,17)",
            "gridcolor": "#506784",
            "gridwidth": 2,
            "linecolor": "#506784",
            "showbackground": true,
            "ticks": "",
            "zerolinecolor": "#C8D4E3"
           },
           "zaxis": {
            "backgroundcolor": "rgb(17,17,17)",
            "gridcolor": "#506784",
            "gridwidth": 2,
            "linecolor": "#506784",
            "showbackground": true,
            "ticks": "",
            "zerolinecolor": "#C8D4E3"
           }
          },
          "shapedefaults": {
           "line": {
            "color": "#f2f5fa"
           }
          },
          "sliderdefaults": {
           "bgcolor": "#C8D4E3",
           "bordercolor": "rgb(17,17,17)",
           "borderwidth": 1,
           "tickwidth": 0
          },
          "ternary": {
           "aaxis": {
            "gridcolor": "#506784",
            "linecolor": "#506784",
            "ticks": ""
           },
           "baxis": {
            "gridcolor": "#506784",
            "linecolor": "#506784",
            "ticks": ""
           },
           "bgcolor": "rgb(17,17,17)",
           "caxis": {
            "gridcolor": "#506784",
            "linecolor": "#506784",
            "ticks": ""
           }
          },
          "title": {
           "x": 0.05
          },
          "updatemenudefaults": {
           "bgcolor": "#506784",
           "borderwidth": 0
          },
          "xaxis": {
           "automargin": true,
           "gridcolor": "#283442",
           "linecolor": "#506784",
           "ticks": "",
           "title": {
            "standoff": 15
           },
           "zerolinecolor": "#283442",
           "zerolinewidth": 2
          },
          "yaxis": {
           "automargin": true,
           "gridcolor": "#283442",
           "linecolor": "#506784",
           "ticks": "",
           "title": {
            "standoff": 15
           },
           "zerolinecolor": "#283442",
           "zerolinewidth": 2
          }
         }
        },
        "title": {
         "text": "Top youtube channels in TW"
        },
        "width": 800,
        "xaxis": {
         "anchor": "y",
         "domain": [
          0,
          1
         ],
         "title": {
          "text": "Num of video (log)"
         },
         "type": "log"
        },
        "yaxis": {
         "anchor": "x",
         "domain": [
          0,
          1
         ],
         "title": {
          "text": "Num of Subscriber"
         }
        }
       }
      }
     },
     "metadata": {},
     "output_type": "display_data"
    }
   ],
   "source": [
    "import plotly.express as px\n",
    "\n",
    "fig = px.scatter(pd_channel, x=\"video_count\", y=\"sub_count\",color='topic',\n",
    "                 log_x=True,\n",
    "                 size='view_count',\n",
    "                 labels={\n",
    "                     \"sub_count\": \"Num of Subscriber\",\n",
    "                     \"video_count\": \"Num of video (log)\",\n",
    "                     \"name\": \"Channel Name\",\n",
    "                     \"topic\": \"Categories\",\n",
    "                     \"view_count\":\"Num of views\"\n",
    "                 },\n",
    "                 hover_name='name',\n",
    "                 hover_data={\n",
    "                    \"topic\":True,\n",
    "                    \"sub_count\":True,\n",
    "                    \"video_count\":True,\n",
    "                    \"video_count\":False,\n",
    "                },\n",
    "                 category_orders={\n",
    "                              \"topic\": [*top_topics,\"Other\"]},\n",
    "                 title=\"Top youtube channels in TW\",\n",
    "                #  autosize=False,\n",
    "                 width=800,\n",
    "                 height=500,                \n",
    "                 template=\"plotly_dark\"\n",
    "                 )\n",
    "fig.show()"
   ]
  },
  {
   "cell_type": "code",
   "execution_count": 27,
   "metadata": {},
   "outputs": [],
   "source": [
    "# fig.write_image('../images/channel_distribution.png')\n",
    "# fig.write_html('../images/channel_distribution.html')"
   ]
  }
 ],
 "metadata": {
  "kernelspec": {
   "display_name": ".venv",
   "language": "python",
   "name": "python3"
  },
  "language_info": {
   "codemirror_mode": {
    "name": "ipython",
    "version": 3
   },
   "file_extension": ".py",
   "mimetype": "text/x-python",
   "name": "python",
   "nbconvert_exporter": "python",
   "pygments_lexer": "ipython3",
   "version": "3.11.8"
  }
 },
 "nbformat": 4,
 "nbformat_minor": 2
}
