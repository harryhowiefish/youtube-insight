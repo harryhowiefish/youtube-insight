{
 "cells": [
  {
   "cell_type": "code",
   "execution_count": 607,
   "metadata": {},
   "outputs": [],
   "source": [
    "import pandas as pd\n",
    "import plotly.express as px\n",
    "import plotly.graph_objects as go\n",
    "import json\n",
    "from collections import Counter\n",
    "import datetime\n",
    "with open('config/secrets.json') as f:\n",
    "    config = json.load(f)\n",
    "db = config['postgres']\n",
    "con = f\"postgresql://{db['user']}:{db['password']}@{db['host']}/{db['dbname']}\"\n",
    "pd.options.mode.copy_on_write = True"
   ]
  },
  {
   "cell_type": "markdown",
   "metadata": {},
   "source": [
    "## Channel Distribution (sub v.s video)"
   ]
  },
  {
   "cell_type": "code",
   "execution_count": 608,
   "metadata": {},
   "outputs": [],
   "source": [
    "channel = pd.read_sql('select c.name,c.topic, cl.* from channel_log cl  left join channel c  using(channel_id)',con)\n",
    "channel = channel.drop_duplicates(subset=['name'],keep='last')\n",
    "topic_list = channel.topic.to_list()\n",
    "topic_list = [item.replace(' ','').split(',') for item in topic_list]\n",
    "topic_list = [item for row in topic_list for item in row]"
   ]
  },
  {
   "cell_type": "code",
   "execution_count": 609,
   "metadata": {},
   "outputs": [
    {
     "name": "stdout",
     "output_type": "stream",
     "text": [
      "['Lifestyle_(sociology)', 'Entertainment', 'Food', 'Society', 'Film', 'Politics', 'Music']\n",
      "['Lifestyle', 'Entertainment', 'Food', 'News', 'Film', 'Politics', 'Music']\n"
     ]
    }
   ],
   "source": [
    "c = Counter(topic_list)\n",
    "top_topics = [item[0] for item in c.most_common()[:7]]\n",
    "print(top_topics)\n",
    "top_topics[0] = 'Lifestyle'\n",
    "top_topics[3] = 'News'\n",
    "print(top_topics)"
   ]
  },
  {
   "cell_type": "code",
   "execution_count": 610,
   "metadata": {},
   "outputs": [],
   "source": [
    "def check_category(x):\n",
    "    for topic in top_topics:\n",
    "        if topic in x:\n",
    "            return topic\n",
    "    return 'Other'\n",
    "channel['topic'] = channel['topic'].apply(check_category)"
   ]
  },
  {
   "cell_type": "code",
   "execution_count": 614,
   "metadata": {},
   "outputs": [
    {
     "name": "stderr",
     "output_type": "stream",
     "text": [
      "/Users/Harry/Documents/GitHub/top_youtuber_dashboard_tw/.venv/lib/python3.11/site-packages/plotly/express/_core.py:2065: FutureWarning:\n",
      "\n",
      "When grouping with a length-1 list-like, you will need to pass a length-1 tuple to get_group in a future version of pandas. Pass `(name,)` instead of `name` to silence this warning.\n",
      "\n"
     ]
    },
    {
     "data": {
      "application/vnd.plotly.v1+json": {
       "config": {
        "plotlyServerURL": "https://plot.ly"
       },
       "data": [
        {
         "customdata": [
          [
           "Lifestyle"
          ],
          [
           "Lifestyle"
          ],
          [
           "Lifestyle"
          ],
          [
           "Lifestyle"
          ],
          [
           "Lifestyle"
          ],
          [
           "Lifestyle"
          ],
          [
           "Lifestyle"
          ],
          [
           "Lifestyle"
          ],
          [
           "Lifestyle"
          ],
          [
           "Lifestyle"
          ],
          [
           "Lifestyle"
          ],
          [
           "Lifestyle"
          ],
          [
           "Lifestyle"
          ],
          [
           "Lifestyle"
          ],
          [
           "Lifestyle"
          ],
          [
           "Lifestyle"
          ],
          [
           "Lifestyle"
          ],
          [
           "Lifestyle"
          ],
          [
           "Lifestyle"
          ],
          [
           "Lifestyle"
          ],
          [
           "Lifestyle"
          ],
          [
           "Lifestyle"
          ],
          [
           "Lifestyle"
          ],
          [
           "Lifestyle"
          ],
          [
           "Lifestyle"
          ],
          [
           "Lifestyle"
          ],
          [
           "Lifestyle"
          ],
          [
           "Lifestyle"
          ],
          [
           "Lifestyle"
          ],
          [
           "Lifestyle"
          ],
          [
           "Lifestyle"
          ],
          [
           "Lifestyle"
          ],
          [
           "Lifestyle"
          ],
          [
           "Lifestyle"
          ],
          [
           "Lifestyle"
          ],
          [
           "Lifestyle"
          ],
          [
           "Lifestyle"
          ],
          [
           "Lifestyle"
          ],
          [
           "Lifestyle"
          ],
          [
           "Lifestyle"
          ],
          [
           "Lifestyle"
          ],
          [
           "Lifestyle"
          ],
          [
           "Lifestyle"
          ],
          [
           "Lifestyle"
          ]
         ],
         "hovertemplate": "<b>%{hovertext}</b><br><br>Categories=%{customdata[0]}<br>Num of Subscriber=%{y}<br>Num of views=%{marker.size}<extra></extra>",
         "hovertext": [
          "MASA",
          "Roman and Sharon",
          "凱文羊",
          "Jay Lee Painting",
          "志祺七七 X 圖文不符",
          "Joeman",
          "白癡公主",
          "Ku's dream酷的夢-",
          "人生肥宅x尊",
          "Rosalina's Kitchen 蘿潔塔的廚房",
          "Hot Emma",
          "Terry Films",
          "好棒Bump",
          "千千進食中",
          "健康2.0",
          "喪屍老爸",
          "安啾咪",
          "WACKYBOYS 反骨男孩",
          "黃氏兄弟",
          "葉式特工Yes Ranger",
          "蔡阿嘎Life",
          "Pan Piano",
          "欸你這週要幹嘛",
          "滴妹",
          "啾啾鞋",
          "HOOK",
          "眾量級CROWD",
          "HowFun",
          "77老大",
          "台灣達人秀",
          "PAPAYA 電腦教室",
          "木曜4超玩",
          "Cate Food Travel 凱特食旅",
          "胡子Huzi",
          "阿滴英文",
          "奇軒Tricking",
          "蔡阿嘎",
          "GQ Taiwan",
          "綜藝玩很大 Mr.Player",
          "三原JAPAN Sanyuan_JAPAN",
          "亮生活 / Bright Side",
          "黃阿瑪的後宮生活",
          "Andy & Popo",
          "角落動物TV Top animal world"
         ],
         "legendgroup": "Lifestyle",
         "marker": {
          "color": "#636efa",
          "size": [
           198675728,
           4047401140,
           16206678,
           1290287546,
           840708684,
           1034144980,
           284350851,
           344860066,
           370045140,
           187058420,
           394645061,
           1145001378,
           179409610,
           358960765,
           707788356,
           960615766,
           249844849,
           902156857,
           1031843116,
           2145193429,
           538940168,
           609919043,
           415742676,
           275239373,
           314882385,
           372867157,
           823845815,
           660620599,
           186617496,
           2139028082,
           114866321,
           832664924,
           832217324,
           371062003,
           360119034,
           3302094898,
           728678508,
           412098795,
           1134051834,
           561367360,
           401425875,
           551835938,
           1498300774,
           885175345
          ],
          "sizemode": "area",
          "sizeref": 14450216.5025,
          "symbol": "circle"
         },
         "mode": "markers",
         "name": "Lifestyle",
         "orientation": "v",
         "showlegend": true,
         "type": "scatter",
         "x": [
          766,
          2373,
          119,
          871,
          4185,
          2825,
          469,
          339,
          240,
          605,
          305,
          449,
          141,
          416,
          11984,
          1299,
          305,
          1326,
          1645,
          301,
          750,
          722,
          689,
          362,
          737,
          360,
          800,
          1078,
          569,
          18484,
          490,
          1447,
          351,
          668,
          702,
          481,
          1028,
          4946,
          3083,
          2003,
          3840,
          625,
          331,
          16267
         ],
         "xaxis": "x",
         "y": [
          1790000,
          6050000,
          180000,
          5830000,
          1380000,
          2570000,
          1580000,
          1730000,
          1590000,
          1460000,
          1470000,
          2140000,
          1370000,
          1830000,
          1620000,
          1420000,
          1380000,
          1650000,
          2230000,
          5190000,
          1600000,
          3550000,
          1070000,
          1450000,
          1580000,
          1470000,
          2260000,
          1500000,
          1540000,
          1880000,
          1410000,
          2340000,
          1410000,
          1140000,
          2770000,
          9640000,
          2510000,
          1360000,
          1550000,
          1540000,
          1500000,
          1570000,
          1430000,
          1430000
         ],
         "yaxis": "y"
        },
        {
         "customdata": [
          [
           "Entertainment"
          ],
          [
           "Entertainment"
          ],
          [
           "Entertainment"
          ],
          [
           "Entertainment"
          ],
          [
           "Entertainment"
          ],
          [
           "Entertainment"
          ],
          [
           "Entertainment"
          ],
          [
           "Entertainment"
          ],
          [
           "Entertainment"
          ],
          [
           "Entertainment"
          ],
          [
           "Entertainment"
          ],
          [
           "Entertainment"
          ],
          [
           "Entertainment"
          ],
          [
           "Entertainment"
          ]
         ],
         "hovertemplate": "<b>%{hovertext}</b><br><br>Categories=%{customdata[0]}<br>Num of Subscriber=%{y}<br>Num of views=%{marker.size}<extra></extra>",
         "hovertext": [
          "Namewee",
          "YOYOTV",
          "寶寶巴士 - 中文兒歌童謠 - 卡通動畫",
          "STR Network",
          "民視戲劇館 Formosa TV Dramas",
          "Muse木棉花-TW",
          "碰碰狐 鯊魚寶寶 (兒童兒歌・故事)",
          "這群人TGOP",
          "瑪莎與熊 Masha and The Bear CH",
          "Howwork X 六指淵",
          "NewShowBiz完全娛樂",
          "墨鏡哥SG",
          "Muse Asia",
          "cheap"
         ],
         "legendgroup": "Entertainment",
         "marker": {
          "color": "#EF553B",
          "size": [
           1722008098,
           1723811474,
           1943534127,
           624545474,
           4338556536,
           1247257257,
           1353130701,
           1153884609,
           1377190004,
           322584665,
           4046433910,
           512393759,
           2090121108,
           296590880
          ],
          "sizemode": "area",
          "sizeref": 14450216.5025,
          "symbol": "circle"
         },
         "mode": "markers",
         "name": "Entertainment",
         "orientation": "v",
         "showlegend": true,
         "type": "scatter",
         "x": [
          1105,
          14702,
          1825,
          726,
          33857,
          11964,
          2006,
          338,
          1216,
          580,
          27452,
          2494,
          9492,
          1561
         ],
         "xaxis": "x",
         "y": [
          3600000,
          1580000,
          3040000,
          1780000,
          1650000,
          2050000,
          3150000,
          3570000,
          3510000,
          1410000,
          3040000,
          1360000,
          6680000,
          1420000
         ],
         "yaxis": "y"
        },
        {
         "customdata": [
          [
           "Music"
          ],
          [
           "Music"
          ],
          [
           "Music"
          ],
          [
           "Music"
          ],
          [
           "Music"
          ],
          [
           "Music"
          ],
          [
           "Music"
          ]
         ],
         "hovertemplate": "<b>%{hovertext}</b><br><br>Categories=%{customdata[0]}<br>Num of Subscriber=%{y}<br>Num of views=%{marker.size}<extra></extra>",
         "hovertext": [
          "滾石唱片 ROCK RECORDS",
          "華納音樂 Warner Music Taiwan",
          "周杰倫 Jay Chou",
          "福茂唱片",
          "相信音樂BinMusic",
          "華研國際",
          "Ru's Piano Ru味春捲"
         ],
         "legendgroup": "Music",
         "marker": {
          "color": "#00cc96",
          "size": [
           5772130622,
           836374672,
           4171577284,
           2054968369,
           4000143801,
           2559192985,
           371030186
          ],
          "sizemode": "area",
          "sizeref": 14450216.5025,
          "symbol": "circle"
         },
         "mode": "markers",
         "name": "Music",
         "orientation": "v",
         "showlegend": true,
         "type": "scatter",
         "x": [
          5666,
          868,
          27,
          2078,
          2206,
          1568,
          565
         ],
         "xaxis": "x",
         "y": [
          3530000,
          1580000,
          2940000,
          1780000,
          2750000,
          1540000,
          2550000
         ],
         "yaxis": "y"
        },
        {
         "customdata": [
          [
           "Politics"
          ],
          [
           "Politics"
          ],
          [
           "Politics"
          ],
          [
           "Politics"
          ],
          [
           "Politics"
          ],
          [
           "Politics"
          ],
          [
           "Politics"
          ],
          [
           "Politics"
          ],
          [
           "Politics"
          ],
          [
           "Politics"
          ]
         ],
         "hovertemplate": "<b>%{hovertext}</b><br><br>Categories=%{customdata[0]}<br>Num of Subscriber=%{y}<br>Num of views=%{marker.size}<extra></extra>",
         "hovertext": [
          "東森新聞 CH51",
          "中天電視",
          "中天新聞",
          "少康戰情室 TVBS Situation Room",
          "TVBS NEWS",
          "風傳媒 The Storm Media",
          "關鍵時刻",
          "三立新聞網SETN",
          "三立LIVE新聞",
          "中時新聞網"
         ],
         "legendgroup": "Politics",
         "marker": {
          "color": "#ab63fa",
          "size": [
           5377662740,
           3300922732,
           4104182183,
           1863933529,
           5780086601,
           625513878,
           4642554363,
           5268024442,
           3848555852,
           2098677032
          ],
          "sizemode": "area",
          "sizeref": 14450216.5025,
          "symbol": "circle"
         },
         "mode": "markers",
         "name": "Politics",
         "orientation": "v",
         "showlegend": true,
         "type": "scatter",
         "x": [
          411224,
          116163,
          272746,
          35750,
          432382,
          7190,
          34834,
          174617,
          196532,
          195302
         ],
         "xaxis": "x",
         "y": [
          2350000,
          3280000,
          2410000,
          1440000,
          2590000,
          1610000,
          3120000,
          2520000,
          1760000,
          1550000
         ],
         "yaxis": "y"
        },
        {
         "customdata": [
          [
           "Other"
          ],
          [
           "Other"
          ]
         ],
         "hovertemplate": "<b>%{hovertext}</b><br><br>Categories=%{customdata[0]}<br>Num of Subscriber=%{y}<br>Num of views=%{marker.size}<extra></extra>",
         "hovertext": [
          "DE JuN",
          "阿神"
         ],
         "legendgroup": "Other",
         "marker": {
          "color": "#FFA15A",
          "size": [
           1239411551,
           2250607100
          ],
          "sizemode": "area",
          "sizeref": 14450216.5025,
          "symbol": "circle"
         },
         "mode": "markers",
         "name": "Other",
         "orientation": "v",
         "showlegend": true,
         "type": "scatter",
         "x": [
          1056,
          5104
         ],
         "xaxis": "x",
         "y": [
          1900000,
          3130000
         ],
         "yaxis": "y"
        }
       ],
       "layout": {
        "height": 500,
        "legend": {
         "itemsizing": "constant",
         "title": {
          "text": "Categories"
         },
         "tracegroupgap": 0
        },
        "template": {
         "data": {
          "bar": [
           {
            "error_x": {
             "color": "#f2f5fa"
            },
            "error_y": {
             "color": "#f2f5fa"
            },
            "marker": {
             "line": {
              "color": "rgb(17,17,17)",
              "width": 0.5
             },
             "pattern": {
              "fillmode": "overlay",
              "size": 10,
              "solidity": 0.2
             }
            },
            "type": "bar"
           }
          ],
          "barpolar": [
           {
            "marker": {
             "line": {
              "color": "rgb(17,17,17)",
              "width": 0.5
             },
             "pattern": {
              "fillmode": "overlay",
              "size": 10,
              "solidity": 0.2
             }
            },
            "type": "barpolar"
           }
          ],
          "carpet": [
           {
            "aaxis": {
             "endlinecolor": "#A2B1C6",
             "gridcolor": "#506784",
             "linecolor": "#506784",
             "minorgridcolor": "#506784",
             "startlinecolor": "#A2B1C6"
            },
            "baxis": {
             "endlinecolor": "#A2B1C6",
             "gridcolor": "#506784",
             "linecolor": "#506784",
             "minorgridcolor": "#506784",
             "startlinecolor": "#A2B1C6"
            },
            "type": "carpet"
           }
          ],
          "choropleth": [
           {
            "colorbar": {
             "outlinewidth": 0,
             "ticks": ""
            },
            "type": "choropleth"
           }
          ],
          "contour": [
           {
            "colorbar": {
             "outlinewidth": 0,
             "ticks": ""
            },
            "colorscale": [
             [
              0,
              "#0d0887"
             ],
             [
              0.1111111111111111,
              "#46039f"
             ],
             [
              0.2222222222222222,
              "#7201a8"
             ],
             [
              0.3333333333333333,
              "#9c179e"
             ],
             [
              0.4444444444444444,
              "#bd3786"
             ],
             [
              0.5555555555555556,
              "#d8576b"
             ],
             [
              0.6666666666666666,
              "#ed7953"
             ],
             [
              0.7777777777777778,
              "#fb9f3a"
             ],
             [
              0.8888888888888888,
              "#fdca26"
             ],
             [
              1,
              "#f0f921"
             ]
            ],
            "type": "contour"
           }
          ],
          "contourcarpet": [
           {
            "colorbar": {
             "outlinewidth": 0,
             "ticks": ""
            },
            "type": "contourcarpet"
           }
          ],
          "heatmap": [
           {
            "colorbar": {
             "outlinewidth": 0,
             "ticks": ""
            },
            "colorscale": [
             [
              0,
              "#0d0887"
             ],
             [
              0.1111111111111111,
              "#46039f"
             ],
             [
              0.2222222222222222,
              "#7201a8"
             ],
             [
              0.3333333333333333,
              "#9c179e"
             ],
             [
              0.4444444444444444,
              "#bd3786"
             ],
             [
              0.5555555555555556,
              "#d8576b"
             ],
             [
              0.6666666666666666,
              "#ed7953"
             ],
             [
              0.7777777777777778,
              "#fb9f3a"
             ],
             [
              0.8888888888888888,
              "#fdca26"
             ],
             [
              1,
              "#f0f921"
             ]
            ],
            "type": "heatmap"
           }
          ],
          "heatmapgl": [
           {
            "colorbar": {
             "outlinewidth": 0,
             "ticks": ""
            },
            "colorscale": [
             [
              0,
              "#0d0887"
             ],
             [
              0.1111111111111111,
              "#46039f"
             ],
             [
              0.2222222222222222,
              "#7201a8"
             ],
             [
              0.3333333333333333,
              "#9c179e"
             ],
             [
              0.4444444444444444,
              "#bd3786"
             ],
             [
              0.5555555555555556,
              "#d8576b"
             ],
             [
              0.6666666666666666,
              "#ed7953"
             ],
             [
              0.7777777777777778,
              "#fb9f3a"
             ],
             [
              0.8888888888888888,
              "#fdca26"
             ],
             [
              1,
              "#f0f921"
             ]
            ],
            "type": "heatmapgl"
           }
          ],
          "histogram": [
           {
            "marker": {
             "pattern": {
              "fillmode": "overlay",
              "size": 10,
              "solidity": 0.2
             }
            },
            "type": "histogram"
           }
          ],
          "histogram2d": [
           {
            "colorbar": {
             "outlinewidth": 0,
             "ticks": ""
            },
            "colorscale": [
             [
              0,
              "#0d0887"
             ],
             [
              0.1111111111111111,
              "#46039f"
             ],
             [
              0.2222222222222222,
              "#7201a8"
             ],
             [
              0.3333333333333333,
              "#9c179e"
             ],
             [
              0.4444444444444444,
              "#bd3786"
             ],
             [
              0.5555555555555556,
              "#d8576b"
             ],
             [
              0.6666666666666666,
              "#ed7953"
             ],
             [
              0.7777777777777778,
              "#fb9f3a"
             ],
             [
              0.8888888888888888,
              "#fdca26"
             ],
             [
              1,
              "#f0f921"
             ]
            ],
            "type": "histogram2d"
           }
          ],
          "histogram2dcontour": [
           {
            "colorbar": {
             "outlinewidth": 0,
             "ticks": ""
            },
            "colorscale": [
             [
              0,
              "#0d0887"
             ],
             [
              0.1111111111111111,
              "#46039f"
             ],
             [
              0.2222222222222222,
              "#7201a8"
             ],
             [
              0.3333333333333333,
              "#9c179e"
             ],
             [
              0.4444444444444444,
              "#bd3786"
             ],
             [
              0.5555555555555556,
              "#d8576b"
             ],
             [
              0.6666666666666666,
              "#ed7953"
             ],
             [
              0.7777777777777778,
              "#fb9f3a"
             ],
             [
              0.8888888888888888,
              "#fdca26"
             ],
             [
              1,
              "#f0f921"
             ]
            ],
            "type": "histogram2dcontour"
           }
          ],
          "mesh3d": [
           {
            "colorbar": {
             "outlinewidth": 0,
             "ticks": ""
            },
            "type": "mesh3d"
           }
          ],
          "parcoords": [
           {
            "line": {
             "colorbar": {
              "outlinewidth": 0,
              "ticks": ""
             }
            },
            "type": "parcoords"
           }
          ],
          "pie": [
           {
            "automargin": true,
            "type": "pie"
           }
          ],
          "scatter": [
           {
            "marker": {
             "line": {
              "color": "#283442"
             }
            },
            "type": "scatter"
           }
          ],
          "scatter3d": [
           {
            "line": {
             "colorbar": {
              "outlinewidth": 0,
              "ticks": ""
             }
            },
            "marker": {
             "colorbar": {
              "outlinewidth": 0,
              "ticks": ""
             }
            },
            "type": "scatter3d"
           }
          ],
          "scattercarpet": [
           {
            "marker": {
             "colorbar": {
              "outlinewidth": 0,
              "ticks": ""
             }
            },
            "type": "scattercarpet"
           }
          ],
          "scattergeo": [
           {
            "marker": {
             "colorbar": {
              "outlinewidth": 0,
              "ticks": ""
             }
            },
            "type": "scattergeo"
           }
          ],
          "scattergl": [
           {
            "marker": {
             "line": {
              "color": "#283442"
             }
            },
            "type": "scattergl"
           }
          ],
          "scattermapbox": [
           {
            "marker": {
             "colorbar": {
              "outlinewidth": 0,
              "ticks": ""
             }
            },
            "type": "scattermapbox"
           }
          ],
          "scatterpolar": [
           {
            "marker": {
             "colorbar": {
              "outlinewidth": 0,
              "ticks": ""
             }
            },
            "type": "scatterpolar"
           }
          ],
          "scatterpolargl": [
           {
            "marker": {
             "colorbar": {
              "outlinewidth": 0,
              "ticks": ""
             }
            },
            "type": "scatterpolargl"
           }
          ],
          "scatterternary": [
           {
            "marker": {
             "colorbar": {
              "outlinewidth": 0,
              "ticks": ""
             }
            },
            "type": "scatterternary"
           }
          ],
          "surface": [
           {
            "colorbar": {
             "outlinewidth": 0,
             "ticks": ""
            },
            "colorscale": [
             [
              0,
              "#0d0887"
             ],
             [
              0.1111111111111111,
              "#46039f"
             ],
             [
              0.2222222222222222,
              "#7201a8"
             ],
             [
              0.3333333333333333,
              "#9c179e"
             ],
             [
              0.4444444444444444,
              "#bd3786"
             ],
             [
              0.5555555555555556,
              "#d8576b"
             ],
             [
              0.6666666666666666,
              "#ed7953"
             ],
             [
              0.7777777777777778,
              "#fb9f3a"
             ],
             [
              0.8888888888888888,
              "#fdca26"
             ],
             [
              1,
              "#f0f921"
             ]
            ],
            "type": "surface"
           }
          ],
          "table": [
           {
            "cells": {
             "fill": {
              "color": "#506784"
             },
             "line": {
              "color": "rgb(17,17,17)"
             }
            },
            "header": {
             "fill": {
              "color": "#2a3f5f"
             },
             "line": {
              "color": "rgb(17,17,17)"
             }
            },
            "type": "table"
           }
          ]
         },
         "layout": {
          "annotationdefaults": {
           "arrowcolor": "#f2f5fa",
           "arrowhead": 0,
           "arrowwidth": 1
          },
          "autotypenumbers": "strict",
          "coloraxis": {
           "colorbar": {
            "outlinewidth": 0,
            "ticks": ""
           }
          },
          "colorscale": {
           "diverging": [
            [
             0,
             "#8e0152"
            ],
            [
             0.1,
             "#c51b7d"
            ],
            [
             0.2,
             "#de77ae"
            ],
            [
             0.3,
             "#f1b6da"
            ],
            [
             0.4,
             "#fde0ef"
            ],
            [
             0.5,
             "#f7f7f7"
            ],
            [
             0.6,
             "#e6f5d0"
            ],
            [
             0.7,
             "#b8e186"
            ],
            [
             0.8,
             "#7fbc41"
            ],
            [
             0.9,
             "#4d9221"
            ],
            [
             1,
             "#276419"
            ]
           ],
           "sequential": [
            [
             0,
             "#0d0887"
            ],
            [
             0.1111111111111111,
             "#46039f"
            ],
            [
             0.2222222222222222,
             "#7201a8"
            ],
            [
             0.3333333333333333,
             "#9c179e"
            ],
            [
             0.4444444444444444,
             "#bd3786"
            ],
            [
             0.5555555555555556,
             "#d8576b"
            ],
            [
             0.6666666666666666,
             "#ed7953"
            ],
            [
             0.7777777777777778,
             "#fb9f3a"
            ],
            [
             0.8888888888888888,
             "#fdca26"
            ],
            [
             1,
             "#f0f921"
            ]
           ],
           "sequentialminus": [
            [
             0,
             "#0d0887"
            ],
            [
             0.1111111111111111,
             "#46039f"
            ],
            [
             0.2222222222222222,
             "#7201a8"
            ],
            [
             0.3333333333333333,
             "#9c179e"
            ],
            [
             0.4444444444444444,
             "#bd3786"
            ],
            [
             0.5555555555555556,
             "#d8576b"
            ],
            [
             0.6666666666666666,
             "#ed7953"
            ],
            [
             0.7777777777777778,
             "#fb9f3a"
            ],
            [
             0.8888888888888888,
             "#fdca26"
            ],
            [
             1,
             "#f0f921"
            ]
           ]
          },
          "colorway": [
           "#636efa",
           "#EF553B",
           "#00cc96",
           "#ab63fa",
           "#FFA15A",
           "#19d3f3",
           "#FF6692",
           "#B6E880",
           "#FF97FF",
           "#FECB52"
          ],
          "font": {
           "color": "#f2f5fa"
          },
          "geo": {
           "bgcolor": "rgb(17,17,17)",
           "lakecolor": "rgb(17,17,17)",
           "landcolor": "rgb(17,17,17)",
           "showlakes": true,
           "showland": true,
           "subunitcolor": "#506784"
          },
          "hoverlabel": {
           "align": "left"
          },
          "hovermode": "closest",
          "mapbox": {
           "style": "dark"
          },
          "paper_bgcolor": "rgb(17,17,17)",
          "plot_bgcolor": "rgb(17,17,17)",
          "polar": {
           "angularaxis": {
            "gridcolor": "#506784",
            "linecolor": "#506784",
            "ticks": ""
           },
           "bgcolor": "rgb(17,17,17)",
           "radialaxis": {
            "gridcolor": "#506784",
            "linecolor": "#506784",
            "ticks": ""
           }
          },
          "scene": {
           "xaxis": {
            "backgroundcolor": "rgb(17,17,17)",
            "gridcolor": "#506784",
            "gridwidth": 2,
            "linecolor": "#506784",
            "showbackground": true,
            "ticks": "",
            "zerolinecolor": "#C8D4E3"
           },
           "yaxis": {
            "backgroundcolor": "rgb(17,17,17)",
            "gridcolor": "#506784",
            "gridwidth": 2,
            "linecolor": "#506784",
            "showbackground": true,
            "ticks": "",
            "zerolinecolor": "#C8D4E3"
           },
           "zaxis": {
            "backgroundcolor": "rgb(17,17,17)",
            "gridcolor": "#506784",
            "gridwidth": 2,
            "linecolor": "#506784",
            "showbackground": true,
            "ticks": "",
            "zerolinecolor": "#C8D4E3"
           }
          },
          "shapedefaults": {
           "line": {
            "color": "#f2f5fa"
           }
          },
          "sliderdefaults": {
           "bgcolor": "#C8D4E3",
           "bordercolor": "rgb(17,17,17)",
           "borderwidth": 1,
           "tickwidth": 0
          },
          "ternary": {
           "aaxis": {
            "gridcolor": "#506784",
            "linecolor": "#506784",
            "ticks": ""
           },
           "baxis": {
            "gridcolor": "#506784",
            "linecolor": "#506784",
            "ticks": ""
           },
           "bgcolor": "rgb(17,17,17)",
           "caxis": {
            "gridcolor": "#506784",
            "linecolor": "#506784",
            "ticks": ""
           }
          },
          "title": {
           "x": 0.05
          },
          "updatemenudefaults": {
           "bgcolor": "#506784",
           "borderwidth": 0
          },
          "xaxis": {
           "automargin": true,
           "gridcolor": "#283442",
           "linecolor": "#506784",
           "ticks": "",
           "title": {
            "standoff": 15
           },
           "zerolinecolor": "#283442",
           "zerolinewidth": 2
          },
          "yaxis": {
           "automargin": true,
           "gridcolor": "#283442",
           "linecolor": "#506784",
           "ticks": "",
           "title": {
            "standoff": 15
           },
           "zerolinecolor": "#283442",
           "zerolinewidth": 2
          }
         }
        },
        "title": {
         "text": "Top youtube channels in TW"
        },
        "width": 800,
        "xaxis": {
         "anchor": "y",
         "domain": [
          0,
          1
         ],
         "title": {
          "text": "Num of video (log)"
         },
         "type": "log"
        },
        "yaxis": {
         "anchor": "x",
         "domain": [
          0,
          1
         ],
         "title": {
          "text": "Num of Subscriber"
         }
        }
       }
      }
     },
     "metadata": {},
     "output_type": "display_data"
    }
   ],
   "source": [
    "fig = px.scatter(channel, x=\"video_count\", y=\"sub_count\",color='topic',\n",
    "                 log_x=True,\n",
    "                 size='view_count',\n",
    "                 labels={\n",
    "                     \"sub_count\": \"Num of Subscriber\",\n",
    "                     \"video_count\": \"Num of video (log)\",\n",
    "                     \"name\": \"Channel Name\",\n",
    "                     \"topic\": \"Categories\",\n",
    "                     \"view_count\":\"Num of views\"\n",
    "                 },\n",
    "                 hover_name='name',\n",
    "                 hover_data={\n",
    "                    \"topic\":True,\n",
    "                    \"sub_count\":True,\n",
    "                    \"video_count\":True,\n",
    "                    \"video_count\":False,\n",
    "                },\n",
    "                 category_orders={\n",
    "                              \"topic\": [\"Lifestyle\", \"Entertainment\",\"Music\",\"Politics\",\"Other\"]},\n",
    "                 title=\"Top youtube channels in TW\",\n",
    "                #  autosize=False,\n",
    "                 width=800,\n",
    "                 height=500,                \n",
    "                 template=\"plotly_dark\"\n",
    "                 )\n",
    "fig.show()"
   ]
  },
  {
   "cell_type": "code",
   "execution_count": 615,
   "metadata": {},
   "outputs": [],
   "source": [
    "fig.write_image('images/channel_distribution.png')\n",
    "fig.write_html('images/channel_distribution.html')"
   ]
  },
  {
   "cell_type": "markdown",
   "metadata": {},
   "source": [
    "## Channel Distribution (sub v.s video)"
   ]
  },
  {
   "cell_type": "code",
   "execution_count": 616,
   "metadata": {},
   "outputs": [],
   "source": [
    "stmt = '''\n",
    "select video_id, published_date, published_time, duration, vl.*\n",
    "from video_log vl  \n",
    "join (\n",
    "select * from video \n",
    "where video_type='video') as v\n",
    "using(video_id)\n",
    "\n",
    "'''"
   ]
  },
  {
   "cell_type": "code",
   "execution_count": 617,
   "metadata": {},
   "outputs": [],
   "source": [
    "video = pd.read_sql(stmt,con)"
   ]
  },
  {
   "cell_type": "code",
   "execution_count": 618,
   "metadata": {},
   "outputs": [],
   "source": [
    "video = video.drop_duplicates(subset='video_id',keep='last')\n",
    "video['published_date'] = pd.to_datetime(video['published_date'])\n",
    "video['created_date'] = pd.to_datetime(video['created_date'])\n",
    "video = video[video['created_date']-video['published_date']>=datetime.timedelta(days=7)]\n",
    "video['duration'] = pd.to_timedelta(video['duration']).dt.ceil('min')\n",
    "video = video[video[\"duration\"] < datetime.timedelta(hours=1)]\n"
   ]
  },
  {
   "cell_type": "code",
   "execution_count": 619,
   "metadata": {},
   "outputs": [],
   "source": [
    "is_multi = video[\"duration\"].value_counts() > 20\n",
    "filtered = video[video[\"duration\"].isin(is_multi[is_multi].index)]\n",
    "filtered['duration'] = filtered.duration.dt.total_seconds()/60\n",
    "bin_num = 20\n",
    "filtered['time_binning'] = pd.cut(filtered['duration'],bins=bin_num,\n",
    "                                  include_lowest=True,\n",
    "                                  precision=0\n",
    "                                #   labels=list(range(bin_num))\n",
    "                                  )"
   ]
  },
  {
   "cell_type": "code",
   "execution_count": 620,
   "metadata": {},
   "outputs": [],
   "source": [
    "bin_names = [f\"{int(temp.left)}~{int(temp.right)}\" for temp in filtered['time_binning'].dtype.categories]"
   ]
  },
  {
   "cell_type": "code",
   "execution_count": 709,
   "metadata": {},
   "outputs": [
    {
     "data": {
      "application/vnd.plotly.v1+json": {
       "config": {
        "plotlyServerURL": "https://plot.ly"
       },
       "data": [
        {
         "marker": {
          "color": "#1D1B86"
         },
         "name": "Number of video",
         "type": "bar",
         "x": [
          "0~2",
          "2~3",
          "3~4",
          "4~5",
          "5~6",
          "6~7",
          "7~8",
          "8~9",
          "9~10",
          "10~12",
          "12~13",
          "13~14",
          "14~15",
          "15~16",
          "16~17",
          "17~18",
          "18~19",
          "19~20",
          "20~21",
          "21~22"
         ],
         "y": [
          109,
          43,
          126,
          76,
          38,
          37,
          24,
          84,
          54,
          97,
          81,
          61,
          65,
          66,
          58,
          43,
          43,
          24,
          27,
          48
         ],
         "yaxis": "y"
        },
        {
         "marker": {
          "size": 8
         },
         "mode": "lines+markers",
         "name": "Video views median",
         "type": "scatter",
         "x": [
          "0~2",
          "2~3",
          "3~4",
          "4~5",
          "5~6",
          "6~7",
          "7~8",
          "8~9",
          "9~10",
          "10~12",
          "12~13",
          "13~14",
          "14~15",
          "15~16",
          "16~17",
          "17~18",
          "18~19",
          "19~20",
          "20~21",
          "21~22"
         ],
         "y": [
          4079,
          19199,
          19236,
          82301.5,
          42791,
          50231,
          55845,
          56388,
          146158,
          85365,
          121210,
          109014,
          153351,
          193162.5,
          223698,
          315955,
          279682,
          269259.5,
          252652,
          232786.5
         ],
         "yaxis": "y2"
        }
       ],
       "layout": {
        "autosize": false,
        "height": 500,
        "legend": {
         "x": 0.75,
         "y": 1.15
        },
        "template": {
         "data": {
          "bar": [
           {
            "error_x": {
             "color": "#f2f5fa"
            },
            "error_y": {
             "color": "#f2f5fa"
            },
            "marker": {
             "line": {
              "color": "rgb(17,17,17)",
              "width": 0.5
             },
             "pattern": {
              "fillmode": "overlay",
              "size": 10,
              "solidity": 0.2
             }
            },
            "type": "bar"
           }
          ],
          "barpolar": [
           {
            "marker": {
             "line": {
              "color": "rgb(17,17,17)",
              "width": 0.5
             },
             "pattern": {
              "fillmode": "overlay",
              "size": 10,
              "solidity": 0.2
             }
            },
            "type": "barpolar"
           }
          ],
          "carpet": [
           {
            "aaxis": {
             "endlinecolor": "#A2B1C6",
             "gridcolor": "#506784",
             "linecolor": "#506784",
             "minorgridcolor": "#506784",
             "startlinecolor": "#A2B1C6"
            },
            "baxis": {
             "endlinecolor": "#A2B1C6",
             "gridcolor": "#506784",
             "linecolor": "#506784",
             "minorgridcolor": "#506784",
             "startlinecolor": "#A2B1C6"
            },
            "type": "carpet"
           }
          ],
          "choropleth": [
           {
            "colorbar": {
             "outlinewidth": 0,
             "ticks": ""
            },
            "type": "choropleth"
           }
          ],
          "contour": [
           {
            "colorbar": {
             "outlinewidth": 0,
             "ticks": ""
            },
            "colorscale": [
             [
              0,
              "#0d0887"
             ],
             [
              0.1111111111111111,
              "#46039f"
             ],
             [
              0.2222222222222222,
              "#7201a8"
             ],
             [
              0.3333333333333333,
              "#9c179e"
             ],
             [
              0.4444444444444444,
              "#bd3786"
             ],
             [
              0.5555555555555556,
              "#d8576b"
             ],
             [
              0.6666666666666666,
              "#ed7953"
             ],
             [
              0.7777777777777778,
              "#fb9f3a"
             ],
             [
              0.8888888888888888,
              "#fdca26"
             ],
             [
              1,
              "#f0f921"
             ]
            ],
            "type": "contour"
           }
          ],
          "contourcarpet": [
           {
            "colorbar": {
             "outlinewidth": 0,
             "ticks": ""
            },
            "type": "contourcarpet"
           }
          ],
          "heatmap": [
           {
            "colorbar": {
             "outlinewidth": 0,
             "ticks": ""
            },
            "colorscale": [
             [
              0,
              "#0d0887"
             ],
             [
              0.1111111111111111,
              "#46039f"
             ],
             [
              0.2222222222222222,
              "#7201a8"
             ],
             [
              0.3333333333333333,
              "#9c179e"
             ],
             [
              0.4444444444444444,
              "#bd3786"
             ],
             [
              0.5555555555555556,
              "#d8576b"
             ],
             [
              0.6666666666666666,
              "#ed7953"
             ],
             [
              0.7777777777777778,
              "#fb9f3a"
             ],
             [
              0.8888888888888888,
              "#fdca26"
             ],
             [
              1,
              "#f0f921"
             ]
            ],
            "type": "heatmap"
           }
          ],
          "heatmapgl": [
           {
            "colorbar": {
             "outlinewidth": 0,
             "ticks": ""
            },
            "colorscale": [
             [
              0,
              "#0d0887"
             ],
             [
              0.1111111111111111,
              "#46039f"
             ],
             [
              0.2222222222222222,
              "#7201a8"
             ],
             [
              0.3333333333333333,
              "#9c179e"
             ],
             [
              0.4444444444444444,
              "#bd3786"
             ],
             [
              0.5555555555555556,
              "#d8576b"
             ],
             [
              0.6666666666666666,
              "#ed7953"
             ],
             [
              0.7777777777777778,
              "#fb9f3a"
             ],
             [
              0.8888888888888888,
              "#fdca26"
             ],
             [
              1,
              "#f0f921"
             ]
            ],
            "type": "heatmapgl"
           }
          ],
          "histogram": [
           {
            "marker": {
             "pattern": {
              "fillmode": "overlay",
              "size": 10,
              "solidity": 0.2
             }
            },
            "type": "histogram"
           }
          ],
          "histogram2d": [
           {
            "colorbar": {
             "outlinewidth": 0,
             "ticks": ""
            },
            "colorscale": [
             [
              0,
              "#0d0887"
             ],
             [
              0.1111111111111111,
              "#46039f"
             ],
             [
              0.2222222222222222,
              "#7201a8"
             ],
             [
              0.3333333333333333,
              "#9c179e"
             ],
             [
              0.4444444444444444,
              "#bd3786"
             ],
             [
              0.5555555555555556,
              "#d8576b"
             ],
             [
              0.6666666666666666,
              "#ed7953"
             ],
             [
              0.7777777777777778,
              "#fb9f3a"
             ],
             [
              0.8888888888888888,
              "#fdca26"
             ],
             [
              1,
              "#f0f921"
             ]
            ],
            "type": "histogram2d"
           }
          ],
          "histogram2dcontour": [
           {
            "colorbar": {
             "outlinewidth": 0,
             "ticks": ""
            },
            "colorscale": [
             [
              0,
              "#0d0887"
             ],
             [
              0.1111111111111111,
              "#46039f"
             ],
             [
              0.2222222222222222,
              "#7201a8"
             ],
             [
              0.3333333333333333,
              "#9c179e"
             ],
             [
              0.4444444444444444,
              "#bd3786"
             ],
             [
              0.5555555555555556,
              "#d8576b"
             ],
             [
              0.6666666666666666,
              "#ed7953"
             ],
             [
              0.7777777777777778,
              "#fb9f3a"
             ],
             [
              0.8888888888888888,
              "#fdca26"
             ],
             [
              1,
              "#f0f921"
             ]
            ],
            "type": "histogram2dcontour"
           }
          ],
          "mesh3d": [
           {
            "colorbar": {
             "outlinewidth": 0,
             "ticks": ""
            },
            "type": "mesh3d"
           }
          ],
          "parcoords": [
           {
            "line": {
             "colorbar": {
              "outlinewidth": 0,
              "ticks": ""
             }
            },
            "type": "parcoords"
           }
          ],
          "pie": [
           {
            "automargin": true,
            "type": "pie"
           }
          ],
          "scatter": [
           {
            "marker": {
             "line": {
              "color": "#283442"
             }
            },
            "type": "scatter"
           }
          ],
          "scatter3d": [
           {
            "line": {
             "colorbar": {
              "outlinewidth": 0,
              "ticks": ""
             }
            },
            "marker": {
             "colorbar": {
              "outlinewidth": 0,
              "ticks": ""
             }
            },
            "type": "scatter3d"
           }
          ],
          "scattercarpet": [
           {
            "marker": {
             "colorbar": {
              "outlinewidth": 0,
              "ticks": ""
             }
            },
            "type": "scattercarpet"
           }
          ],
          "scattergeo": [
           {
            "marker": {
             "colorbar": {
              "outlinewidth": 0,
              "ticks": ""
             }
            },
            "type": "scattergeo"
           }
          ],
          "scattergl": [
           {
            "marker": {
             "line": {
              "color": "#283442"
             }
            },
            "type": "scattergl"
           }
          ],
          "scattermapbox": [
           {
            "marker": {
             "colorbar": {
              "outlinewidth": 0,
              "ticks": ""
             }
            },
            "type": "scattermapbox"
           }
          ],
          "scatterpolar": [
           {
            "marker": {
             "colorbar": {
              "outlinewidth": 0,
              "ticks": ""
             }
            },
            "type": "scatterpolar"
           }
          ],
          "scatterpolargl": [
           {
            "marker": {
             "colorbar": {
              "outlinewidth": 0,
              "ticks": ""
             }
            },
            "type": "scatterpolargl"
           }
          ],
          "scatterternary": [
           {
            "marker": {
             "colorbar": {
              "outlinewidth": 0,
              "ticks": ""
             }
            },
            "type": "scatterternary"
           }
          ],
          "surface": [
           {
            "colorbar": {
             "outlinewidth": 0,
             "ticks": ""
            },
            "colorscale": [
             [
              0,
              "#0d0887"
             ],
             [
              0.1111111111111111,
              "#46039f"
             ],
             [
              0.2222222222222222,
              "#7201a8"
             ],
             [
              0.3333333333333333,
              "#9c179e"
             ],
             [
              0.4444444444444444,
              "#bd3786"
             ],
             [
              0.5555555555555556,
              "#d8576b"
             ],
             [
              0.6666666666666666,
              "#ed7953"
             ],
             [
              0.7777777777777778,
              "#fb9f3a"
             ],
             [
              0.8888888888888888,
              "#fdca26"
             ],
             [
              1,
              "#f0f921"
             ]
            ],
            "type": "surface"
           }
          ],
          "table": [
           {
            "cells": {
             "fill": {
              "color": "#506784"
             },
             "line": {
              "color": "rgb(17,17,17)"
             }
            },
            "header": {
             "fill": {
              "color": "#2a3f5f"
             },
             "line": {
              "color": "rgb(17,17,17)"
             }
            },
            "type": "table"
           }
          ]
         },
         "layout": {
          "annotationdefaults": {
           "arrowcolor": "#f2f5fa",
           "arrowhead": 0,
           "arrowwidth": 1
          },
          "autotypenumbers": "strict",
          "coloraxis": {
           "colorbar": {
            "outlinewidth": 0,
            "ticks": ""
           }
          },
          "colorscale": {
           "diverging": [
            [
             0,
             "#8e0152"
            ],
            [
             0.1,
             "#c51b7d"
            ],
            [
             0.2,
             "#de77ae"
            ],
            [
             0.3,
             "#f1b6da"
            ],
            [
             0.4,
             "#fde0ef"
            ],
            [
             0.5,
             "#f7f7f7"
            ],
            [
             0.6,
             "#e6f5d0"
            ],
            [
             0.7,
             "#b8e186"
            ],
            [
             0.8,
             "#7fbc41"
            ],
            [
             0.9,
             "#4d9221"
            ],
            [
             1,
             "#276419"
            ]
           ],
           "sequential": [
            [
             0,
             "#0d0887"
            ],
            [
             0.1111111111111111,
             "#46039f"
            ],
            [
             0.2222222222222222,
             "#7201a8"
            ],
            [
             0.3333333333333333,
             "#9c179e"
            ],
            [
             0.4444444444444444,
             "#bd3786"
            ],
            [
             0.5555555555555556,
             "#d8576b"
            ],
            [
             0.6666666666666666,
             "#ed7953"
            ],
            [
             0.7777777777777778,
             "#fb9f3a"
            ],
            [
             0.8888888888888888,
             "#fdca26"
            ],
            [
             1,
             "#f0f921"
            ]
           ],
           "sequentialminus": [
            [
             0,
             "#0d0887"
            ],
            [
             0.1111111111111111,
             "#46039f"
            ],
            [
             0.2222222222222222,
             "#7201a8"
            ],
            [
             0.3333333333333333,
             "#9c179e"
            ],
            [
             0.4444444444444444,
             "#bd3786"
            ],
            [
             0.5555555555555556,
             "#d8576b"
            ],
            [
             0.6666666666666666,
             "#ed7953"
            ],
            [
             0.7777777777777778,
             "#fb9f3a"
            ],
            [
             0.8888888888888888,
             "#fdca26"
            ],
            [
             1,
             "#f0f921"
            ]
           ]
          },
          "colorway": [
           "#636efa",
           "#EF553B",
           "#00cc96",
           "#ab63fa",
           "#FFA15A",
           "#19d3f3",
           "#FF6692",
           "#B6E880",
           "#FF97FF",
           "#FECB52"
          ],
          "font": {
           "color": "#f2f5fa"
          },
          "geo": {
           "bgcolor": "rgb(17,17,17)",
           "lakecolor": "rgb(17,17,17)",
           "landcolor": "rgb(17,17,17)",
           "showlakes": true,
           "showland": true,
           "subunitcolor": "#506784"
          },
          "hoverlabel": {
           "align": "left"
          },
          "hovermode": "closest",
          "mapbox": {
           "style": "dark"
          },
          "paper_bgcolor": "rgb(17,17,17)",
          "plot_bgcolor": "rgb(17,17,17)",
          "polar": {
           "angularaxis": {
            "gridcolor": "#506784",
            "linecolor": "#506784",
            "ticks": ""
           },
           "bgcolor": "rgb(17,17,17)",
           "radialaxis": {
            "gridcolor": "#506784",
            "linecolor": "#506784",
            "ticks": ""
           }
          },
          "scene": {
           "xaxis": {
            "backgroundcolor": "rgb(17,17,17)",
            "gridcolor": "#506784",
            "gridwidth": 2,
            "linecolor": "#506784",
            "showbackground": true,
            "ticks": "",
            "zerolinecolor": "#C8D4E3"
           },
           "yaxis": {
            "backgroundcolor": "rgb(17,17,17)",
            "gridcolor": "#506784",
            "gridwidth": 2,
            "linecolor": "#506784",
            "showbackground": true,
            "ticks": "",
            "zerolinecolor": "#C8D4E3"
           },
           "zaxis": {
            "backgroundcolor": "rgb(17,17,17)",
            "gridcolor": "#506784",
            "gridwidth": 2,
            "linecolor": "#506784",
            "showbackground": true,
            "ticks": "",
            "zerolinecolor": "#C8D4E3"
           }
          },
          "shapedefaults": {
           "line": {
            "color": "#f2f5fa"
           }
          },
          "sliderdefaults": {
           "bgcolor": "#C8D4E3",
           "bordercolor": "rgb(17,17,17)",
           "borderwidth": 1,
           "tickwidth": 0
          },
          "ternary": {
           "aaxis": {
            "gridcolor": "#506784",
            "linecolor": "#506784",
            "ticks": ""
           },
           "baxis": {
            "gridcolor": "#506784",
            "linecolor": "#506784",
            "ticks": ""
           },
           "bgcolor": "rgb(17,17,17)",
           "caxis": {
            "gridcolor": "#506784",
            "linecolor": "#506784",
            "ticks": ""
           }
          },
          "title": {
           "x": 0.05
          },
          "updatemenudefaults": {
           "bgcolor": "#506784",
           "borderwidth": 0
          },
          "xaxis": {
           "automargin": true,
           "gridcolor": "#283442",
           "linecolor": "#506784",
           "ticks": "",
           "title": {
            "standoff": 15
           },
           "zerolinecolor": "#283442",
           "zerolinewidth": 2
          },
          "yaxis": {
           "automargin": true,
           "gridcolor": "#283442",
           "linecolor": "#506784",
           "ticks": "",
           "title": {
            "standoff": 15
           },
           "zerolinecolor": "#283442",
           "zerolinewidth": 2
          }
         }
        },
        "title": {
         "text": "Video performance base on duration (min)"
        },
        "width": 800,
        "yaxis": {
         "title": {
          "text": "num"
         }
        },
        "yaxis2": {
         "overlaying": "y",
         "side": "right",
         "title": {
          "text": "views"
         }
        }
       }
      }
     },
     "metadata": {},
     "output_type": "display_data"
    }
   ],
   "source": [
    "trace1 = go.Bar(x = bin_names,\n",
    "                     y=filtered.groupby('time_binning',observed=True)['duration'].count(),\n",
    "                     name='Number of video',\n",
    "                     yaxis='y1',\n",
    "                     marker=dict(color='#1D1B86')\n",
    "                     )\n",
    "trace2 = go.Scatter(x=bin_names,\n",
    "                      y=filtered.groupby('time_binning',observed=True)['view_count'].median().sort_index().values,\n",
    "                      name='Video views median',\n",
    "                      yaxis='y2',\n",
    "                      mode='lines+markers',\n",
    "                      marker_size=8\n",
    "                      )\n",
    "data = [trace1, trace2]\n",
    "layout = go.Layout(title='Video performance base on duration (min)',\n",
    "                    yaxis=dict(title='num'),\n",
    "                    yaxis2=dict(title='views',\n",
    "                                overlaying='y',\n",
    "                                side='right'),\n",
    "                    template=\"plotly_dark\")\n",
    "fig = go.Figure(data=data,layout=layout,)\n",
    "\n",
    "fig.update_layout(legend=dict(\n",
    "    y=1.15,\n",
    "    x=0.75),\n",
    "    autosize=False,\n",
    "    width=800,\n",
    "    height=500\n",
    "    )\n",
    "\n",
    "fig.show()"
   ]
  },
  {
   "cell_type": "code",
   "execution_count": 710,
   "metadata": {},
   "outputs": [],
   "source": [
    "fig.write_image('images/duration_view_relation.png')\n",
    "fig.write_html('images/duration_view_relation.html')"
   ]
  },
  {
   "cell_type": "markdown",
   "metadata": {},
   "source": [
    "## View-Sub ratio"
   ]
  },
  {
   "cell_type": "code",
   "execution_count": 624,
   "metadata": {},
   "outputs": [],
   "source": [
    "stmt = '''\n",
    "with channel_latest as (\n",
    "select *\n",
    "from channel_log cl \n",
    "where created_date = (\n",
    "select max(created_date) from channel_log))\n",
    "\n",
    "select c.name,cl.sub_count,v.video_type,v.published_date, vl.*\n",
    "from video_log vl  \n",
    "join video v\n",
    "using(video_id)\n",
    "join channel c\n",
    "using(channel_id)\n",
    "join channel_latest cl\n",
    "using(channel_id)\n",
    "'''"
   ]
  },
  {
   "cell_type": "code",
   "execution_count": 625,
   "metadata": {},
   "outputs": [],
   "source": [
    "video = pd.read_sql(stmt,con)\n",
    "video = video.drop_duplicates(subset='video_id',keep='last')"
   ]
  },
  {
   "cell_type": "code",
   "execution_count": 626,
   "metadata": {},
   "outputs": [],
   "source": [
    "video['published_date'] = pd.to_datetime(video['published_date'])\n",
    "video['created_date'] = pd.to_datetime(video['created_date'])\n",
    "video = video[video['created_date']-video['published_date']>datetime.timedelta(days=30)]\n",
    "video['view_sub_ratio'] = video['view_count']/video['sub_count']"
   ]
  },
  {
   "cell_type": "code",
   "execution_count": 627,
   "metadata": {},
   "outputs": [],
   "source": [
    "exclude_list = ['周杰倫 Jay Chou','凱文羊','福茂唱片']\n",
    "video = video[~video['name'].isin(exclude_list)]"
   ]
  },
  {
   "cell_type": "code",
   "execution_count": 628,
   "metadata": {},
   "outputs": [
    {
     "data": {
      "text/plain": [
       "Index(['HOOK', '好棒Bump', 'Ku's dream酷的夢-', '人生肥宅x尊', 'cheap', '欸你這週要幹嘛',\n",
       "       '這群人TGOP', '千千進食中', '胡子Huzi', '啾啾鞋'],\n",
       "      dtype='object', name='name')"
      ]
     },
     "execution_count": 628,
     "metadata": {},
     "output_type": "execute_result"
    }
   ],
   "source": [
    "video_ratio_top_10 = video[video['video_type']=='video'\n",
    "                           ].groupby('name')['view_sub_ratio'].mean().sort_values(ascending=False)[:10]\n",
    "video_ratio_top_10.index"
   ]
  },
  {
   "cell_type": "code",
   "execution_count": 699,
   "metadata": {},
   "outputs": [
    {
     "data": {
      "application/vnd.plotly.v1+json": {
       "config": {
        "plotlyServerURL": "https://plot.ly"
       },
       "data": [
        {
         "marker": {
          "color": "#ffe476",
          "size": 8
         },
         "mode": "markers",
         "name": "Subscriber Count",
         "type": "scatter",
         "x": [
          "HOOK",
          "好棒Bump",
          "Ku's dream酷的夢-",
          "人生肥宅x尊",
          "cheap",
          "欸你這週要幹嘛",
          "這群人TGOP",
          "千千進食中",
          "胡子Huzi",
          "啾啾鞋"
         ],
         "y": [
          1470000,
          1370000,
          1730000,
          1590000,
          1420000,
          1070000,
          3570000,
          1830000,
          1140000,
          1580000
         ],
         "yaxis": "y"
        },
        {
         "boxpoints": false,
         "marker": {
          "color": "#7B4173"
         },
         "name": "HOOK",
         "showlegend": false,
         "type": "box",
         "y": [
          0.9184489795918367,
          0.7232965986394558,
          0.7939333333333334,
          0.7278394557823129,
          0.7008578231292517,
          0.9326272108843537,
          0.8933802721088435,
          0.7575224489795919,
          0.7835952380952381,
          0.840743537414966,
          0.7723428571428571,
          0.8122619047619047,
          0.7804816326530613,
          0.8589231292517007,
          2.0161183673469387
         ],
         "yaxis": "y2"
        },
        {
         "boxpoints": false,
         "marker": {
          "color": "#7B4173"
         },
         "name": "好棒Bump",
         "showlegend": false,
         "type": "box",
         "y": [
          0.7321970802919708,
          0.36634014598540143,
          0.9922145985401459,
          0.9074919708029197,
          0.9276021897810219,
          0.6232364963503649,
          0.7606036496350365,
          0.7158167883211679,
          0.9939919708029197,
          1.1464934306569343,
          1.5616335766423357,
          1.2759153284671534,
          0.6188,
          0.7311649635036497,
          1.261405109489051,
          0.5594087591240876,
          0.8049875912408759
         ],
         "yaxis": "y2"
        },
        {
         "boxpoints": false,
         "marker": {
          "color": "#7B4173"
         },
         "name": "Ku's dream酷的夢-",
         "showlegend": false,
         "type": "box",
         "y": [
          0.5913890173410404,
          0.9998034682080925,
          0.7172034682080924,
          0.9523716763005781,
          0.6913554913294798,
          0.5294843930635839,
          0.7025439306358382,
          1.1985526011560694,
          0.7431381502890173,
          0.899907514450867,
          1.089942196531792,
          1.0837450867052023,
          0.7736156069364162,
          1.0037578034682082,
          0.510157803468208
         ],
         "yaxis": "y2"
        },
        {
         "boxpoints": false,
         "marker": {
          "color": "#7B4173"
         },
         "name": "人生肥宅x尊",
         "showlegend": false,
         "type": "box",
         "y": [
          0.7116471698113207,
          0.6788761006289308,
          0.9149012578616352,
          0.9115471698113208,
          0.445148427672956,
          0.41319119496855344,
          0.22503207547169812,
          0.4768452830188679,
          0.41308301886792453,
          0.6882352201257862,
          0.42663522012578614,
          1.3018735849056604,
          0.9171798742138365,
          0.9095635220125786,
          0.5537201257861635,
          1.1503911949685535,
          1.0484138364779874,
          1.1135264150943396
         ],
         "yaxis": "y2"
        },
        {
         "boxpoints": false,
         "marker": {
          "color": "#7B4173"
         },
         "name": "cheap",
         "showlegend": false,
         "type": "box",
         "y": [
          0.6578112676056338,
          0.3398359154929578,
          0.15379084507042254,
          0.2818,
          0.8580070422535211,
          0.5102633802816902,
          1.5576788732394367,
          0.5745330985915493,
          0.40964295774647885,
          1.0438774647887323,
          0.8854788732394366,
          0.20172605633802818,
          0.17235845070422534,
          0.22250352112676056,
          0.408843661971831,
          1.0632352112676056
         ],
         "yaxis": "y2"
        },
        {
         "boxpoints": false,
         "marker": {
          "color": "#7B4173"
         },
         "name": "欸你這週要幹嘛",
         "showlegend": false,
         "type": "box",
         "y": [
          0.6689093457943925,
          0.8284177570093458,
          0.3984504672897196,
          0.2737214953271028,
          0.41326261682242993,
          0.3779242990654206,
          0.4761102803738318,
          0.47129065420560745,
          0.4342233644859813,
          0.3480981308411215,
          0.38459439252336447,
          0.431485046728972,
          0.3571663551401869,
          0.43545233644859815
         ],
         "yaxis": "y2"
        },
        {
         "boxpoints": false,
         "marker": {
          "color": "#7B4173"
         },
         "name": "這群人TGOP",
         "showlegend": false,
         "type": "box",
         "y": [
          0.2450422969187675,
          0.3035134453781513,
          0.13814173669467786,
          0.2412467787114846,
          0.18085518207282913,
          0.2027862745098039,
          0.2610952380952381,
          0.16650700280112044,
          0.38064761904761907,
          0.5337022408963585,
          0.3528605042016807,
          0.29723669467787117,
          0.2718607843137255,
          0.35974621848739496,
          0.4851263305322129,
          0.8118700280112044,
          0.3320355742296919
         ],
         "yaxis": "y2"
        },
        {
         "boxpoints": false,
         "marker": {
          "color": "#7B4173"
         },
         "name": "千千進食中",
         "showlegend": false,
         "type": "box",
         "y": [
          0.11891967213114754,
          0.1397672131147541,
          0.05378907103825137,
          0.10229890710382514,
          0.29250928961748635,
          0.2508098360655738,
          0.3374617486338798,
          0.36599781420765026,
          0.20383879781420766,
          0.2232415300546448,
          0.2655224043715847,
          0.9060786885245902,
          0.3469229508196721,
          0.16090928961748635,
          0.2103016393442623
         ],
         "yaxis": "y2"
        },
        {
         "boxpoints": false,
         "marker": {
          "color": "#7B4173"
         },
         "name": "胡子Huzi",
         "showlegend": false,
         "type": "box",
         "y": [
          0.2130842105263158,
          0.21024385964912282,
          0.26527719298245617,
          0.2525429824561404,
          0.21992280701754385,
          0.2689666666666667,
          0.23730438596491227,
          0.20193947368421053,
          0.24144473684210527,
          0.3380359649122807,
          0.3438771929824561,
          0.2494438596491228,
          0.2919043859649123,
          0.29333070175438597,
          0.1727938596491228
         ],
         "yaxis": "y2"
        },
        {
         "boxpoints": false,
         "marker": {
          "color": "#7B4173"
         },
         "name": "啾啾鞋",
         "showlegend": false,
         "type": "box",
         "y": [
          0.0881746835443038,
          0.6787316455696203,
          0.1392481012658228,
          0.33829113924050636,
          0.3261867088607595,
          0.05926012658227848,
          0.020560759493670887,
          0.3014506329113924,
          0.07278291139240506,
          0.06375506329113924,
          0.055576582278481015,
          0.12562784810126582,
          0.3828740506329114,
          0.05645379746835443,
          0.15823544303797468,
          0.5968911392405063,
          1.0008829113924052,
          0.08149303797468355
         ],
         "yaxis": "y2"
        },
        {
         "marker": {
          "color": "#7B4173"
         },
         "name": "Video Views",
         "type": "box",
         "x": [
          null
         ],
         "y": [
          null
         ]
        }
       ],
       "layout": {
        "autosize": false,
        "height": 500,
        "legend": {
         "x": 1.05,
         "y": 1.15
        },
        "template": {
         "data": {
          "bar": [
           {
            "error_x": {
             "color": "#f2f5fa"
            },
            "error_y": {
             "color": "#f2f5fa"
            },
            "marker": {
             "line": {
              "color": "rgb(17,17,17)",
              "width": 0.5
             },
             "pattern": {
              "fillmode": "overlay",
              "size": 10,
              "solidity": 0.2
             }
            },
            "type": "bar"
           }
          ],
          "barpolar": [
           {
            "marker": {
             "line": {
              "color": "rgb(17,17,17)",
              "width": 0.5
             },
             "pattern": {
              "fillmode": "overlay",
              "size": 10,
              "solidity": 0.2
             }
            },
            "type": "barpolar"
           }
          ],
          "carpet": [
           {
            "aaxis": {
             "endlinecolor": "#A2B1C6",
             "gridcolor": "#506784",
             "linecolor": "#506784",
             "minorgridcolor": "#506784",
             "startlinecolor": "#A2B1C6"
            },
            "baxis": {
             "endlinecolor": "#A2B1C6",
             "gridcolor": "#506784",
             "linecolor": "#506784",
             "minorgridcolor": "#506784",
             "startlinecolor": "#A2B1C6"
            },
            "type": "carpet"
           }
          ],
          "choropleth": [
           {
            "colorbar": {
             "outlinewidth": 0,
             "ticks": ""
            },
            "type": "choropleth"
           }
          ],
          "contour": [
           {
            "colorbar": {
             "outlinewidth": 0,
             "ticks": ""
            },
            "colorscale": [
             [
              0,
              "#0d0887"
             ],
             [
              0.1111111111111111,
              "#46039f"
             ],
             [
              0.2222222222222222,
              "#7201a8"
             ],
             [
              0.3333333333333333,
              "#9c179e"
             ],
             [
              0.4444444444444444,
              "#bd3786"
             ],
             [
              0.5555555555555556,
              "#d8576b"
             ],
             [
              0.6666666666666666,
              "#ed7953"
             ],
             [
              0.7777777777777778,
              "#fb9f3a"
             ],
             [
              0.8888888888888888,
              "#fdca26"
             ],
             [
              1,
              "#f0f921"
             ]
            ],
            "type": "contour"
           }
          ],
          "contourcarpet": [
           {
            "colorbar": {
             "outlinewidth": 0,
             "ticks": ""
            },
            "type": "contourcarpet"
           }
          ],
          "heatmap": [
           {
            "colorbar": {
             "outlinewidth": 0,
             "ticks": ""
            },
            "colorscale": [
             [
              0,
              "#0d0887"
             ],
             [
              0.1111111111111111,
              "#46039f"
             ],
             [
              0.2222222222222222,
              "#7201a8"
             ],
             [
              0.3333333333333333,
              "#9c179e"
             ],
             [
              0.4444444444444444,
              "#bd3786"
             ],
             [
              0.5555555555555556,
              "#d8576b"
             ],
             [
              0.6666666666666666,
              "#ed7953"
             ],
             [
              0.7777777777777778,
              "#fb9f3a"
             ],
             [
              0.8888888888888888,
              "#fdca26"
             ],
             [
              1,
              "#f0f921"
             ]
            ],
            "type": "heatmap"
           }
          ],
          "heatmapgl": [
           {
            "colorbar": {
             "outlinewidth": 0,
             "ticks": ""
            },
            "colorscale": [
             [
              0,
              "#0d0887"
             ],
             [
              0.1111111111111111,
              "#46039f"
             ],
             [
              0.2222222222222222,
              "#7201a8"
             ],
             [
              0.3333333333333333,
              "#9c179e"
             ],
             [
              0.4444444444444444,
              "#bd3786"
             ],
             [
              0.5555555555555556,
              "#d8576b"
             ],
             [
              0.6666666666666666,
              "#ed7953"
             ],
             [
              0.7777777777777778,
              "#fb9f3a"
             ],
             [
              0.8888888888888888,
              "#fdca26"
             ],
             [
              1,
              "#f0f921"
             ]
            ],
            "type": "heatmapgl"
           }
          ],
          "histogram": [
           {
            "marker": {
             "pattern": {
              "fillmode": "overlay",
              "size": 10,
              "solidity": 0.2
             }
            },
            "type": "histogram"
           }
          ],
          "histogram2d": [
           {
            "colorbar": {
             "outlinewidth": 0,
             "ticks": ""
            },
            "colorscale": [
             [
              0,
              "#0d0887"
             ],
             [
              0.1111111111111111,
              "#46039f"
             ],
             [
              0.2222222222222222,
              "#7201a8"
             ],
             [
              0.3333333333333333,
              "#9c179e"
             ],
             [
              0.4444444444444444,
              "#bd3786"
             ],
             [
              0.5555555555555556,
              "#d8576b"
             ],
             [
              0.6666666666666666,
              "#ed7953"
             ],
             [
              0.7777777777777778,
              "#fb9f3a"
             ],
             [
              0.8888888888888888,
              "#fdca26"
             ],
             [
              1,
              "#f0f921"
             ]
            ],
            "type": "histogram2d"
           }
          ],
          "histogram2dcontour": [
           {
            "colorbar": {
             "outlinewidth": 0,
             "ticks": ""
            },
            "colorscale": [
             [
              0,
              "#0d0887"
             ],
             [
              0.1111111111111111,
              "#46039f"
             ],
             [
              0.2222222222222222,
              "#7201a8"
             ],
             [
              0.3333333333333333,
              "#9c179e"
             ],
             [
              0.4444444444444444,
              "#bd3786"
             ],
             [
              0.5555555555555556,
              "#d8576b"
             ],
             [
              0.6666666666666666,
              "#ed7953"
             ],
             [
              0.7777777777777778,
              "#fb9f3a"
             ],
             [
              0.8888888888888888,
              "#fdca26"
             ],
             [
              1,
              "#f0f921"
             ]
            ],
            "type": "histogram2dcontour"
           }
          ],
          "mesh3d": [
           {
            "colorbar": {
             "outlinewidth": 0,
             "ticks": ""
            },
            "type": "mesh3d"
           }
          ],
          "parcoords": [
           {
            "line": {
             "colorbar": {
              "outlinewidth": 0,
              "ticks": ""
             }
            },
            "type": "parcoords"
           }
          ],
          "pie": [
           {
            "automargin": true,
            "type": "pie"
           }
          ],
          "scatter": [
           {
            "marker": {
             "line": {
              "color": "#283442"
             }
            },
            "type": "scatter"
           }
          ],
          "scatter3d": [
           {
            "line": {
             "colorbar": {
              "outlinewidth": 0,
              "ticks": ""
             }
            },
            "marker": {
             "colorbar": {
              "outlinewidth": 0,
              "ticks": ""
             }
            },
            "type": "scatter3d"
           }
          ],
          "scattercarpet": [
           {
            "marker": {
             "colorbar": {
              "outlinewidth": 0,
              "ticks": ""
             }
            },
            "type": "scattercarpet"
           }
          ],
          "scattergeo": [
           {
            "marker": {
             "colorbar": {
              "outlinewidth": 0,
              "ticks": ""
             }
            },
            "type": "scattergeo"
           }
          ],
          "scattergl": [
           {
            "marker": {
             "line": {
              "color": "#283442"
             }
            },
            "type": "scattergl"
           }
          ],
          "scattermapbox": [
           {
            "marker": {
             "colorbar": {
              "outlinewidth": 0,
              "ticks": ""
             }
            },
            "type": "scattermapbox"
           }
          ],
          "scatterpolar": [
           {
            "marker": {
             "colorbar": {
              "outlinewidth": 0,
              "ticks": ""
             }
            },
            "type": "scatterpolar"
           }
          ],
          "scatterpolargl": [
           {
            "marker": {
             "colorbar": {
              "outlinewidth": 0,
              "ticks": ""
             }
            },
            "type": "scatterpolargl"
           }
          ],
          "scatterternary": [
           {
            "marker": {
             "colorbar": {
              "outlinewidth": 0,
              "ticks": ""
             }
            },
            "type": "scatterternary"
           }
          ],
          "surface": [
           {
            "colorbar": {
             "outlinewidth": 0,
             "ticks": ""
            },
            "colorscale": [
             [
              0,
              "#0d0887"
             ],
             [
              0.1111111111111111,
              "#46039f"
             ],
             [
              0.2222222222222222,
              "#7201a8"
             ],
             [
              0.3333333333333333,
              "#9c179e"
             ],
             [
              0.4444444444444444,
              "#bd3786"
             ],
             [
              0.5555555555555556,
              "#d8576b"
             ],
             [
              0.6666666666666666,
              "#ed7953"
             ],
             [
              0.7777777777777778,
              "#fb9f3a"
             ],
             [
              0.8888888888888888,
              "#fdca26"
             ],
             [
              1,
              "#f0f921"
             ]
            ],
            "type": "surface"
           }
          ],
          "table": [
           {
            "cells": {
             "fill": {
              "color": "#506784"
             },
             "line": {
              "color": "rgb(17,17,17)"
             }
            },
            "header": {
             "fill": {
              "color": "#2a3f5f"
             },
             "line": {
              "color": "rgb(17,17,17)"
             }
            },
            "type": "table"
           }
          ]
         },
         "layout": {
          "annotationdefaults": {
           "arrowcolor": "#f2f5fa",
           "arrowhead": 0,
           "arrowwidth": 1
          },
          "autotypenumbers": "strict",
          "coloraxis": {
           "colorbar": {
            "outlinewidth": 0,
            "ticks": ""
           }
          },
          "colorscale": {
           "diverging": [
            [
             0,
             "#8e0152"
            ],
            [
             0.1,
             "#c51b7d"
            ],
            [
             0.2,
             "#de77ae"
            ],
            [
             0.3,
             "#f1b6da"
            ],
            [
             0.4,
             "#fde0ef"
            ],
            [
             0.5,
             "#f7f7f7"
            ],
            [
             0.6,
             "#e6f5d0"
            ],
            [
             0.7,
             "#b8e186"
            ],
            [
             0.8,
             "#7fbc41"
            ],
            [
             0.9,
             "#4d9221"
            ],
            [
             1,
             "#276419"
            ]
           ],
           "sequential": [
            [
             0,
             "#0d0887"
            ],
            [
             0.1111111111111111,
             "#46039f"
            ],
            [
             0.2222222222222222,
             "#7201a8"
            ],
            [
             0.3333333333333333,
             "#9c179e"
            ],
            [
             0.4444444444444444,
             "#bd3786"
            ],
            [
             0.5555555555555556,
             "#d8576b"
            ],
            [
             0.6666666666666666,
             "#ed7953"
            ],
            [
             0.7777777777777778,
             "#fb9f3a"
            ],
            [
             0.8888888888888888,
             "#fdca26"
            ],
            [
             1,
             "#f0f921"
            ]
           ],
           "sequentialminus": [
            [
             0,
             "#0d0887"
            ],
            [
             0.1111111111111111,
             "#46039f"
            ],
            [
             0.2222222222222222,
             "#7201a8"
            ],
            [
             0.3333333333333333,
             "#9c179e"
            ],
            [
             0.4444444444444444,
             "#bd3786"
            ],
            [
             0.5555555555555556,
             "#d8576b"
            ],
            [
             0.6666666666666666,
             "#ed7953"
            ],
            [
             0.7777777777777778,
             "#fb9f3a"
            ],
            [
             0.8888888888888888,
             "#fdca26"
            ],
            [
             1,
             "#f0f921"
            ]
           ]
          },
          "colorway": [
           "#636efa",
           "#EF553B",
           "#00cc96",
           "#ab63fa",
           "#FFA15A",
           "#19d3f3",
           "#FF6692",
           "#B6E880",
           "#FF97FF",
           "#FECB52"
          ],
          "font": {
           "color": "#f2f5fa"
          },
          "geo": {
           "bgcolor": "rgb(17,17,17)",
           "lakecolor": "rgb(17,17,17)",
           "landcolor": "rgb(17,17,17)",
           "showlakes": true,
           "showland": true,
           "subunitcolor": "#506784"
          },
          "hoverlabel": {
           "align": "left"
          },
          "hovermode": "closest",
          "mapbox": {
           "style": "dark"
          },
          "paper_bgcolor": "rgb(17,17,17)",
          "plot_bgcolor": "rgb(17,17,17)",
          "polar": {
           "angularaxis": {
            "gridcolor": "#506784",
            "linecolor": "#506784",
            "ticks": ""
           },
           "bgcolor": "rgb(17,17,17)",
           "radialaxis": {
            "gridcolor": "#506784",
            "linecolor": "#506784",
            "ticks": ""
           }
          },
          "scene": {
           "xaxis": {
            "backgroundcolor": "rgb(17,17,17)",
            "gridcolor": "#506784",
            "gridwidth": 2,
            "linecolor": "#506784",
            "showbackground": true,
            "ticks": "",
            "zerolinecolor": "#C8D4E3"
           },
           "yaxis": {
            "backgroundcolor": "rgb(17,17,17)",
            "gridcolor": "#506784",
            "gridwidth": 2,
            "linecolor": "#506784",
            "showbackground": true,
            "ticks": "",
            "zerolinecolor": "#C8D4E3"
           },
           "zaxis": {
            "backgroundcolor": "rgb(17,17,17)",
            "gridcolor": "#506784",
            "gridwidth": 2,
            "linecolor": "#506784",
            "showbackground": true,
            "ticks": "",
            "zerolinecolor": "#C8D4E3"
           }
          },
          "shapedefaults": {
           "line": {
            "color": "#f2f5fa"
           }
          },
          "sliderdefaults": {
           "bgcolor": "#C8D4E3",
           "bordercolor": "rgb(17,17,17)",
           "borderwidth": 1,
           "tickwidth": 0
          },
          "ternary": {
           "aaxis": {
            "gridcolor": "#506784",
            "linecolor": "#506784",
            "ticks": ""
           },
           "baxis": {
            "gridcolor": "#506784",
            "linecolor": "#506784",
            "ticks": ""
           },
           "bgcolor": "rgb(17,17,17)",
           "caxis": {
            "gridcolor": "#506784",
            "linecolor": "#506784",
            "ticks": ""
           }
          },
          "title": {
           "x": 0.05
          },
          "updatemenudefaults": {
           "bgcolor": "#506784",
           "borderwidth": 0
          },
          "xaxis": {
           "automargin": true,
           "gridcolor": "#283442",
           "linecolor": "#506784",
           "ticks": "",
           "title": {
            "standoff": 15
           },
           "zerolinecolor": "#283442",
           "zerolinewidth": 2
          },
          "yaxis": {
           "automargin": true,
           "gridcolor": "#283442",
           "linecolor": "#506784",
           "ticks": "",
           "title": {
            "standoff": 15
           },
           "zerolinecolor": "#283442",
           "zerolinewidth": 2
          }
         }
        },
        "title": {
         "text": "Video Performance (past 30 days)"
        },
        "width": 800,
        "yaxis": {
         "overlaying": "y2",
         "side": "right",
         "title": {
          "text": "Subscribers"
         }
        },
        "yaxis2": {
         "title": {
          "text": "Video views"
         }
        }
       }
      }
     },
     "metadata": {},
     "output_type": "display_data"
    }
   ],
   "source": [
    "trace1 = go.Scatter(x=video_ratio_top_10.index.tolist(),\n",
    "                      y=video[video['name'].isin(video_ratio_top_10.index)].drop_duplicates(subset='name').set_index('name').reindex(video_ratio_top_10.index).sub_count.values,\n",
    "                      name='Subscriber Count',\n",
    "                      yaxis='y1',\n",
    "                      mode='markers',\n",
    "                      marker_color=\"#ffe476\",\n",
    "                      marker_size=8\n",
    "                      )\n",
    "# trace2 = go.Bar(x = video_ratio_top_10.index.tolist(),\n",
    "#                      y=avg_video_view.reindex(video_ratio_top_10.index.tolist()),\n",
    "#                      name='Average views',\n",
    "#                      yaxis='y2',\n",
    "#                      marker_color=\"#64656C\",\n",
    "#                      )\n",
    "boxs = []\n",
    "for name in video_ratio_top_10.index.tolist():\n",
    "    boxs.append(go.Box(\n",
    "                y=video[(video['video_type']=='video') & (video['name']==name)]['view_sub_ratio'],\n",
    "                boxpoints=False,\n",
    "                yaxis='y2',\n",
    "                name=name,\n",
    "                marker_color=\"#7B4173\",\n",
    "                showlegend=False,\n",
    "                ))\n",
    "\n",
    "dummy = go.Box(\n",
    "    x=[None],\n",
    "    y=[None],\n",
    "    name=\"Video Views\",\n",
    "    marker_color=\"#7B4173\"\n",
    ")\n",
    "\n",
    "data = [trace1,*boxs,dummy]\n",
    "layout = go.Layout(title='Video Performance (past 30 days)',\n",
    "                    yaxis=dict(title='Subscribers',\n",
    "                               overlaying='y2',\n",
    "                                side='right'),\n",
    "                    yaxis2=dict(title='Video views',\n",
    "                                ),\n",
    "                    template=\"plotly_dark\")\n",
    "                    \n",
    "fig = go.Figure(data=data,layout=layout,)\n",
    "\n",
    "fig.update_layout(\n",
    "    legend=dict(\n",
    "    y=1.15,\n",
    "    x=1.05),\n",
    "    autosize=False,\n",
    "    width=800,\n",
    "    height=500\n",
    "    )\n",
    "\n",
    "fig.show()"
   ]
  },
  {
   "cell_type": "code",
   "execution_count": 700,
   "metadata": {},
   "outputs": [],
   "source": [
    "fig.write_image('images/view_sub_ratio.png')\n",
    "fig.write_html('images/view_sub_ratio.html')"
   ]
  }
 ],
 "metadata": {
  "kernelspec": {
   "display_name": ".venv",
   "language": "python",
   "name": "python3"
  },
  "language_info": {
   "codemirror_mode": {
    "name": "ipython",
    "version": 3
   },
   "file_extension": ".py",
   "mimetype": "text/x-python",
   "name": "python",
   "nbconvert_exporter": "python",
   "pygments_lexer": "ipython3",
   "version": "3.11.7"
  }
 },
 "nbformat": 4,
 "nbformat_minor": 2
}
