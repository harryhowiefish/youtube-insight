{
 "cells": [
  {
   "cell_type": "code",
   "execution_count": 10,
   "metadata": {},
   "outputs": [],
   "source": [
    "import pandas as pd\n",
    "import plotly.express as px\n",
    "import json\n",
    "import numpy as np\n",
    "from collections import Counter\n",
    "pd.options.mode.copy_on_write = True"
   ]
  },
  {
   "cell_type": "markdown",
   "metadata": {},
   "source": [
    "## Channel Distribution (sub v.s video)"
   ]
  },
  {
   "cell_type": "code",
   "execution_count": 28,
   "metadata": {},
   "outputs": [],
   "source": [
    "# This section of for pulling data directly from db\n",
    "# with open('config/secrets.json') as f:\n",
    "#     config = json.load(f)\n",
    "# db = config['postgres']\n",
    "# con = f\"postgresql://{db['user']}:{db['password']}@{db['host']}/{db['dbname']}\"\n",
    "# pd.options.mode.copy_on_write = True\n",
    "# channel = pd.read_sql('select c.name,c.topic, cl.* from channel_log cl  left join channel c  using(channel_id)',con)\n",
    "\n",
    "# This section of for pulling data from sample_data\n",
    "c = pd.read_csv('../sample_data/channel.csv')\n",
    "cl = pd.read_csv('../sample_data/channel_log.csv')\n",
    "channel = pd.merge(c[['name','topic','channel_id']],cl,how='right',on='channel_id')\n",
    "channel.fillna('NULL',inplace=True)\n",
    "del c,cl"
   ]
  },
  {
   "cell_type": "code",
   "execution_count": 20,
   "metadata": {},
   "outputs": [],
   "source": [
    "channel = channel.drop_duplicates(subset=['name'],keep='last')\n",
    "topic_list = channel.topic.to_list()\n",
    "topic_list = [item.replace(' ','').split(',') for item in topic_list]\n",
    "topic_list = [item for row in topic_list for item in row]"
   ]
  },
  {
   "cell_type": "code",
   "execution_count": 25,
   "metadata": {},
   "outputs": [
    {
     "name": "stdout",
     "output_type": "stream",
     "text": [
      "['Lifestyle_(sociology)', 'Entertainment', 'Food', 'Film', 'Music', 'Music_of_Asia', 'Society']\n",
      "['Lifestyle', 'Entertainment', 'Food', 'Film', 'Music', 'Music', 'Society']\n"
     ]
    }
   ],
   "source": [
    "c = Counter(topic_list)\n",
    "top_topics = [item[0] for item in c.most_common()[:7]]\n",
    "print(top_topics)\n",
    "for idx,item in enumerate(top_topics):\n",
    "    if item == 'Lifestyle_(sociology)':\n",
    "        top_topics[idx] = 'Lifestyle'\n",
    "    elif 'Music' in item:\n",
    "        top_topics[idx] = 'Music'\n",
    "print(top_topics)"
   ]
  },
  {
   "cell_type": "code",
   "execution_count": 21,
   "metadata": {},
   "outputs": [],
   "source": [
    "def check_category(x):\n",
    "    for topic in top_topics:\n",
    "        if topic in x:\n",
    "            return topic\n",
    "    return 'Other'\n",
    "channel['topic'] = channel['topic'].apply(check_category)"
   ]
  },
  {
   "cell_type": "code",
   "execution_count": 26,
   "metadata": {},
   "outputs": [
    {
     "name": "stderr",
     "output_type": "stream",
     "text": [
      "/Users/Harry/Documents/GitHub/top_youtuber_dashboard_tw/.venv/lib/python3.11/site-packages/plotly/express/_core.py:2065: FutureWarning:\n",
      "\n",
      "When grouping with a length-1 list-like, you will need to pass a length-1 tuple to get_group in a future version of pandas. Pass `(name,)` instead of `name` to silence this warning.\n",
      "\n"
     ]
    },
    {
     "data": {
      "application/vnd.plotly.v1+json": {
       "config": {
        "plotlyServerURL": "https://plot.ly"
       },
       "data": [
        {
         "customdata": [
          [
           "Lifestyle"
          ],
          [
           "Lifestyle"
          ],
          [
           "Lifestyle"
          ],
          [
           "Lifestyle"
          ],
          [
           "Lifestyle"
          ],
          [
           "Lifestyle"
          ],
          [
           "Lifestyle"
          ],
          [
           "Lifestyle"
          ],
          [
           "Lifestyle"
          ],
          [
           "Lifestyle"
          ],
          [
           "Lifestyle"
          ],
          [
           "Lifestyle"
          ],
          [
           "Lifestyle"
          ],
          [
           "Lifestyle"
          ],
          [
           "Lifestyle"
          ],
          [
           "Lifestyle"
          ],
          [
           "Lifestyle"
          ],
          [
           "Lifestyle"
          ],
          [
           "Lifestyle"
          ],
          [
           "Lifestyle"
          ],
          [
           "Lifestyle"
          ],
          [
           "Lifestyle"
          ],
          [
           "Lifestyle"
          ],
          [
           "Lifestyle"
          ],
          [
           "Lifestyle"
          ],
          [
           "Lifestyle"
          ],
          [
           "Lifestyle"
          ],
          [
           "Lifestyle"
          ],
          [
           "Lifestyle"
          ],
          [
           "Lifestyle"
          ],
          [
           "Lifestyle"
          ],
          [
           "Lifestyle"
          ],
          [
           "Lifestyle"
          ],
          [
           "Lifestyle"
          ],
          [
           "Lifestyle"
          ],
          [
           "Lifestyle"
          ],
          [
           "Lifestyle"
          ],
          [
           "Lifestyle"
          ],
          [
           "Lifestyle"
          ],
          [
           "Lifestyle"
          ],
          [
           "Lifestyle"
          ],
          [
           "Lifestyle"
          ],
          [
           "Lifestyle"
          ],
          [
           "Lifestyle"
          ]
         ],
         "hovertemplate": "<b>%{hovertext}</b><br><br>Categories=%{customdata[0]}<br>Num of Subscriber=%{y}<br>Num of views=%{marker.size}<extra></extra>",
         "hovertext": [
          "眾量級CROWD",
          "人生肥宅x尊",
          "好棒Bump",
          "Hot Emma",
          "77老大",
          "千千進食中",
          "胡子Huzi",
          "健康2.0",
          "HOOK",
          "Rosalina's Kitchen 蘿潔塔的廚房",
          "三原JAPAN Sanyuan_JAPAN",
          "亮生活 / Bright Side",
          "PAPAYA 電腦教室",
          "Cate Food Travel 凱特食旅",
          "WACKYBOYS 反骨男孩",
          "阿滴英文",
          "喪屍老爸",
          "欸你這週要幹嘛",
          "角落動物TV Top animal world",
          "滴妹",
          "Terry Films",
          "Jay Lee Painting",
          "GQ Taiwan",
          "Pan Piano",
          "台灣達人秀",
          "啾啾鞋",
          "志祺七七 X 圖文不符",
          "安啾咪",
          "白癡公主",
          "木曜4超玩",
          "Roman and Sharon",
          "Joeman",
          "蔡阿嘎",
          "綜藝玩很大 Mr.Player",
          "MASA",
          "凱文羊",
          "Andy & Popo",
          "蔡阿嘎Life",
          "Ku's dream酷的夢-",
          "黃氏兄弟",
          "奇軒Tricking",
          "黃阿瑪的後宮生活",
          "葉式特工Yes Ranger",
          "HowFun"
         ],
         "legendgroup": "Lifestyle",
         "marker": {
          "color": "#636efa",
          "size": [
           823630126,
           369998492,
           179340977,
           394340230,
           186552979,
           358907829,
           370999222,
           707553936,
           372517170,
           187021239,
           561308255,
           401370391,
           114843043,
           831690507,
           902001468,
           360085404,
           960401177,
           415665701,
           884106598,
           275219648,
           1144732112,
           1290156156,
           411902548,
           609690078,
           2138570667,
           314831434,
           840277688,
           249833167,
           284282145,
           832518372,
           4036911476,
           1033915145,
           728606524,
           1133940309,
           198646289,
           16189205,
           1491527762,
           538877305,
           344614933,
           1031199631,
           3297179529,
           551768893,
           2144375213,
           660528612
          ],
          "sizemode": "area",
          "sizeref": 14445856.64,
          "symbol": "circle"
         },
         "mode": "markers",
         "name": "Lifestyle",
         "orientation": "v",
         "showlegend": true,
         "type": "scatter",
         "x": [
          800,
          240,
          141,
          305,
          569,
          416,
          668,
          11981,
          360,
          605,
          2003,
          3840,
          490,
          351,
          1326,
          702,
          1299,
          689,
          16256,
          362,
          449,
          871,
          4944,
          722,
          18477,
          737,
          4184,
          305,
          469,
          1447,
          2373,
          2825,
          1028,
          3082,
          766,
          119,
          331,
          749,
          339,
          1645,
          481,
          625,
          300,
          1078
         ],
         "xaxis": "x",
         "y": [
          2260000,
          1590000,
          1370000,
          1470000,
          1540000,
          1830000,
          1140000,
          1620000,
          1470000,
          1460000,
          1540000,
          1500000,
          1410000,
          1410000,
          1650000,
          2770000,
          1420000,
          1070000,
          1430000,
          1450000,
          2140000,
          5830000,
          1360000,
          3550000,
          1880000,
          1580000,
          1380000,
          1380000,
          1580000,
          2340000,
          6020000,
          2570000,
          2510000,
          1550000,
          1790000,
          180000,
          1420000,
          1600000,
          1730000,
          2230000,
          9630000,
          1570000,
          5190000,
          1500000
         ],
         "yaxis": "y"
        },
        {
         "customdata": [
          [
           "Entertainment"
          ],
          [
           "Entertainment"
          ],
          [
           "Entertainment"
          ],
          [
           "Entertainment"
          ],
          [
           "Entertainment"
          ],
          [
           "Entertainment"
          ],
          [
           "Entertainment"
          ],
          [
           "Entertainment"
          ],
          [
           "Entertainment"
          ],
          [
           "Entertainment"
          ],
          [
           "Entertainment"
          ],
          [
           "Entertainment"
          ],
          [
           "Entertainment"
          ],
          [
           "Entertainment"
          ]
         ],
         "hovertemplate": "<b>%{hovertext}</b><br><br>Categories=%{customdata[0]}<br>Num of Subscriber=%{y}<br>Num of views=%{marker.size}<extra></extra>",
         "hovertext": [
          "這群人TGOP",
          "Howwork X 六指淵",
          "STR Network",
          "瑪莎與熊 Masha and The Bear CH",
          "Namewee",
          "Muse Asia",
          "Muse木棉花-TW",
          "cheap",
          "民視戲劇館 Formosa TV Dramas",
          "YOYOTV",
          "墨鏡哥SG",
          "碰碰狐 鯊魚寶寶 (兒童兒歌・故事)",
          "寶寶巴士 - 中文兒歌童謠 - 卡通動畫",
          "NewShowBiz完全娛樂"
         ],
         "legendgroup": "Entertainment",
         "marker": {
          "color": "#EF553B",
          "size": [
           1153760469,
           321189666,
           624368897,
           1376838011,
           1722008098,
           2088925877,
           1246273030,
           296523933,
           4337230956,
           1723468649,
           512378280,
           1352830107,
           1942942879,
           4045493662
          ],
          "sizemode": "area",
          "sizeref": 14445856.64,
          "symbol": "circle"
         },
         "mode": "markers",
         "name": "Entertainment",
         "orientation": "v",
         "showlegend": true,
         "type": "scatter",
         "x": [
          338,
          580,
          725,
          1214,
          1105,
          9491,
          11962,
          1561,
          33846,
          14699,
          2494,
          2006,
          1824,
          27443
         ],
         "xaxis": "x",
         "y": [
          3570000,
          1410000,
          1780000,
          3510000,
          3600000,
          6680000,
          2050000,
          1420000,
          1650000,
          1580000,
          1360000,
          3150000,
          3040000,
          3040000
         ],
         "yaxis": "y"
        },
        {
         "customdata": [
          [
           "Music"
          ],
          [
           "Music"
          ],
          [
           "Music"
          ],
          [
           "Music"
          ],
          [
           "Music"
          ],
          [
           "Music"
          ],
          [
           "Music"
          ]
         ],
         "hovertemplate": "<b>%{hovertext}</b><br><br>Categories=%{customdata[0]}<br>Num of Subscriber=%{y}<br>Num of views=%{marker.size}<extra></extra>",
         "hovertext": [
          "相信音樂BinMusic",
          "周杰倫 Jay Chou",
          "Ru's Piano Ru味春捲",
          "華研國際",
          "福茂唱片",
          "滾石唱片 ROCK RECORDS",
          "華納音樂 Warner Music Taiwan"
         ],
         "legendgroup": "Music",
         "marker": {
          "color": "#FFA15A",
          "size": [
           3999503375,
           4171577284,
           371030186,
           2558945677,
           2054755840,
           5770741785,
           836299975
          ],
          "sizemode": "area",
          "sizeref": 14445856.64,
          "symbol": "circle"
         },
         "mode": "markers",
         "name": "Music",
         "orientation": "v",
         "showlegend": true,
         "type": "scatter",
         "x": [
          2206,
          27,
          565,
          1568,
          2078,
          5666,
          868
         ],
         "xaxis": "x",
         "y": [
          2750000,
          2940000,
          2550000,
          1540000,
          1780000,
          3530000,
          1580000
         ],
         "yaxis": "y"
        },
        {
         "customdata": [
          [
           "Society"
          ],
          [
           "Society"
          ],
          [
           "Society"
          ],
          [
           "Society"
          ],
          [
           "Society"
          ]
         ],
         "hovertemplate": "<b>%{hovertext}</b><br><br>Categories=%{customdata[0]}<br>Num of Subscriber=%{y}<br>Num of views=%{marker.size}<extra></extra>",
         "hovertext": [
          "中天電視",
          "關鍵時刻",
          "少康戰情室 TVBS Situation Room",
          "中時新聞網",
          "風傳媒 The Storm Media"
         ],
         "legendgroup": "Society",
         "marker": {
          "color": "#19d3f3",
          "size": [
           3299529296,
           4641372772,
           1863713770,
           2098088119,
           625084393
          ],
          "sizemode": "area",
          "sizeref": 14445856.64,
          "symbol": "circle"
         },
         "mode": "markers",
         "name": "Society",
         "orientation": "v",
         "showlegend": true,
         "type": "scatter",
         "x": [
          116137,
          34822,
          35749,
          195281,
          7188
         ],
         "xaxis": "x",
         "y": [
          3280000,
          3120000,
          1440000,
          1550000,
          1610000
         ],
         "yaxis": "y"
        },
        {
         "customdata": [
          [
           "Other"
          ],
          [
           "Other"
          ],
          [
           "Other"
          ],
          [
           "Other"
          ],
          [
           "Other"
          ],
          [
           "Other"
          ],
          [
           "Other"
          ]
         ],
         "hovertemplate": "<b>%{hovertext}</b><br><br>Categories=%{customdata[0]}<br>Num of Subscriber=%{y}<br>Num of views=%{marker.size}<extra></extra>",
         "hovertext": [
          "三立LIVE新聞",
          "DE JuN",
          "TVBS NEWS",
          "三立新聞網SETN",
          "阿神",
          "中天新聞",
          "東森新聞 CH51"
         ],
         "legendgroup": "Other",
         "marker": {
          "color": "#FF6692",
          "size": [
           3847189163,
           1239285781,
           5778342656,
           5266834765,
           2250341879,
           4101962187,
           5374477544
          ],
          "sizemode": "area",
          "sizeref": 14445856.64,
          "symbol": "circle"
         },
         "mode": "markers",
         "name": "Other",
         "orientation": "v",
         "showlegend": true,
         "type": "scatter",
         "x": [
          196477,
          1056,
          432279,
          174555,
          5104,
          272671,
          411145
         ],
         "xaxis": "x",
         "y": [
          1760000,
          1900000,
          2580000,
          2520000,
          3130000,
          2410000,
          2340000
         ],
         "yaxis": "y"
        }
       ],
       "layout": {
        "height": 500,
        "legend": {
         "itemsizing": "constant",
         "title": {
          "text": "Categories"
         },
         "tracegroupgap": 0
        },
        "template": {
         "data": {
          "bar": [
           {
            "error_x": {
             "color": "#f2f5fa"
            },
            "error_y": {
             "color": "#f2f5fa"
            },
            "marker": {
             "line": {
              "color": "rgb(17,17,17)",
              "width": 0.5
             },
             "pattern": {
              "fillmode": "overlay",
              "size": 10,
              "solidity": 0.2
             }
            },
            "type": "bar"
           }
          ],
          "barpolar": [
           {
            "marker": {
             "line": {
              "color": "rgb(17,17,17)",
              "width": 0.5
             },
             "pattern": {
              "fillmode": "overlay",
              "size": 10,
              "solidity": 0.2
             }
            },
            "type": "barpolar"
           }
          ],
          "carpet": [
           {
            "aaxis": {
             "endlinecolor": "#A2B1C6",
             "gridcolor": "#506784",
             "linecolor": "#506784",
             "minorgridcolor": "#506784",
             "startlinecolor": "#A2B1C6"
            },
            "baxis": {
             "endlinecolor": "#A2B1C6",
             "gridcolor": "#506784",
             "linecolor": "#506784",
             "minorgridcolor": "#506784",
             "startlinecolor": "#A2B1C6"
            },
            "type": "carpet"
           }
          ],
          "choropleth": [
           {
            "colorbar": {
             "outlinewidth": 0,
             "ticks": ""
            },
            "type": "choropleth"
           }
          ],
          "contour": [
           {
            "colorbar": {
             "outlinewidth": 0,
             "ticks": ""
            },
            "colorscale": [
             [
              0,
              "#0d0887"
             ],
             [
              0.1111111111111111,
              "#46039f"
             ],
             [
              0.2222222222222222,
              "#7201a8"
             ],
             [
              0.3333333333333333,
              "#9c179e"
             ],
             [
              0.4444444444444444,
              "#bd3786"
             ],
             [
              0.5555555555555556,
              "#d8576b"
             ],
             [
              0.6666666666666666,
              "#ed7953"
             ],
             [
              0.7777777777777778,
              "#fb9f3a"
             ],
             [
              0.8888888888888888,
              "#fdca26"
             ],
             [
              1,
              "#f0f921"
             ]
            ],
            "type": "contour"
           }
          ],
          "contourcarpet": [
           {
            "colorbar": {
             "outlinewidth": 0,
             "ticks": ""
            },
            "type": "contourcarpet"
           }
          ],
          "heatmap": [
           {
            "colorbar": {
             "outlinewidth": 0,
             "ticks": ""
            },
            "colorscale": [
             [
              0,
              "#0d0887"
             ],
             [
              0.1111111111111111,
              "#46039f"
             ],
             [
              0.2222222222222222,
              "#7201a8"
             ],
             [
              0.3333333333333333,
              "#9c179e"
             ],
             [
              0.4444444444444444,
              "#bd3786"
             ],
             [
              0.5555555555555556,
              "#d8576b"
             ],
             [
              0.6666666666666666,
              "#ed7953"
             ],
             [
              0.7777777777777778,
              "#fb9f3a"
             ],
             [
              0.8888888888888888,
              "#fdca26"
             ],
             [
              1,
              "#f0f921"
             ]
            ],
            "type": "heatmap"
           }
          ],
          "heatmapgl": [
           {
            "colorbar": {
             "outlinewidth": 0,
             "ticks": ""
            },
            "colorscale": [
             [
              0,
              "#0d0887"
             ],
             [
              0.1111111111111111,
              "#46039f"
             ],
             [
              0.2222222222222222,
              "#7201a8"
             ],
             [
              0.3333333333333333,
              "#9c179e"
             ],
             [
              0.4444444444444444,
              "#bd3786"
             ],
             [
              0.5555555555555556,
              "#d8576b"
             ],
             [
              0.6666666666666666,
              "#ed7953"
             ],
             [
              0.7777777777777778,
              "#fb9f3a"
             ],
             [
              0.8888888888888888,
              "#fdca26"
             ],
             [
              1,
              "#f0f921"
             ]
            ],
            "type": "heatmapgl"
           }
          ],
          "histogram": [
           {
            "marker": {
             "pattern": {
              "fillmode": "overlay",
              "size": 10,
              "solidity": 0.2
             }
            },
            "type": "histogram"
           }
          ],
          "histogram2d": [
           {
            "colorbar": {
             "outlinewidth": 0,
             "ticks": ""
            },
            "colorscale": [
             [
              0,
              "#0d0887"
             ],
             [
              0.1111111111111111,
              "#46039f"
             ],
             [
              0.2222222222222222,
              "#7201a8"
             ],
             [
              0.3333333333333333,
              "#9c179e"
             ],
             [
              0.4444444444444444,
              "#bd3786"
             ],
             [
              0.5555555555555556,
              "#d8576b"
             ],
             [
              0.6666666666666666,
              "#ed7953"
             ],
             [
              0.7777777777777778,
              "#fb9f3a"
             ],
             [
              0.8888888888888888,
              "#fdca26"
             ],
             [
              1,
              "#f0f921"
             ]
            ],
            "type": "histogram2d"
           }
          ],
          "histogram2dcontour": [
           {
            "colorbar": {
             "outlinewidth": 0,
             "ticks": ""
            },
            "colorscale": [
             [
              0,
              "#0d0887"
             ],
             [
              0.1111111111111111,
              "#46039f"
             ],
             [
              0.2222222222222222,
              "#7201a8"
             ],
             [
              0.3333333333333333,
              "#9c179e"
             ],
             [
              0.4444444444444444,
              "#bd3786"
             ],
             [
              0.5555555555555556,
              "#d8576b"
             ],
             [
              0.6666666666666666,
              "#ed7953"
             ],
             [
              0.7777777777777778,
              "#fb9f3a"
             ],
             [
              0.8888888888888888,
              "#fdca26"
             ],
             [
              1,
              "#f0f921"
             ]
            ],
            "type": "histogram2dcontour"
           }
          ],
          "mesh3d": [
           {
            "colorbar": {
             "outlinewidth": 0,
             "ticks": ""
            },
            "type": "mesh3d"
           }
          ],
          "parcoords": [
           {
            "line": {
             "colorbar": {
              "outlinewidth": 0,
              "ticks": ""
             }
            },
            "type": "parcoords"
           }
          ],
          "pie": [
           {
            "automargin": true,
            "type": "pie"
           }
          ],
          "scatter": [
           {
            "marker": {
             "line": {
              "color": "#283442"
             }
            },
            "type": "scatter"
           }
          ],
          "scatter3d": [
           {
            "line": {
             "colorbar": {
              "outlinewidth": 0,
              "ticks": ""
             }
            },
            "marker": {
             "colorbar": {
              "outlinewidth": 0,
              "ticks": ""
             }
            },
            "type": "scatter3d"
           }
          ],
          "scattercarpet": [
           {
            "marker": {
             "colorbar": {
              "outlinewidth": 0,
              "ticks": ""
             }
            },
            "type": "scattercarpet"
           }
          ],
          "scattergeo": [
           {
            "marker": {
             "colorbar": {
              "outlinewidth": 0,
              "ticks": ""
             }
            },
            "type": "scattergeo"
           }
          ],
          "scattergl": [
           {
            "marker": {
             "line": {
              "color": "#283442"
             }
            },
            "type": "scattergl"
           }
          ],
          "scattermapbox": [
           {
            "marker": {
             "colorbar": {
              "outlinewidth": 0,
              "ticks": ""
             }
            },
            "type": "scattermapbox"
           }
          ],
          "scatterpolar": [
           {
            "marker": {
             "colorbar": {
              "outlinewidth": 0,
              "ticks": ""
             }
            },
            "type": "scatterpolar"
           }
          ],
          "scatterpolargl": [
           {
            "marker": {
             "colorbar": {
              "outlinewidth": 0,
              "ticks": ""
             }
            },
            "type": "scatterpolargl"
           }
          ],
          "scatterternary": [
           {
            "marker": {
             "colorbar": {
              "outlinewidth": 0,
              "ticks": ""
             }
            },
            "type": "scatterternary"
           }
          ],
          "surface": [
           {
            "colorbar": {
             "outlinewidth": 0,
             "ticks": ""
            },
            "colorscale": [
             [
              0,
              "#0d0887"
             ],
             [
              0.1111111111111111,
              "#46039f"
             ],
             [
              0.2222222222222222,
              "#7201a8"
             ],
             [
              0.3333333333333333,
              "#9c179e"
             ],
             [
              0.4444444444444444,
              "#bd3786"
             ],
             [
              0.5555555555555556,
              "#d8576b"
             ],
             [
              0.6666666666666666,
              "#ed7953"
             ],
             [
              0.7777777777777778,
              "#fb9f3a"
             ],
             [
              0.8888888888888888,
              "#fdca26"
             ],
             [
              1,
              "#f0f921"
             ]
            ],
            "type": "surface"
           }
          ],
          "table": [
           {
            "cells": {
             "fill": {
              "color": "#506784"
             },
             "line": {
              "color": "rgb(17,17,17)"
             }
            },
            "header": {
             "fill": {
              "color": "#2a3f5f"
             },
             "line": {
              "color": "rgb(17,17,17)"
             }
            },
            "type": "table"
           }
          ]
         },
         "layout": {
          "annotationdefaults": {
           "arrowcolor": "#f2f5fa",
           "arrowhead": 0,
           "arrowwidth": 1
          },
          "autotypenumbers": "strict",
          "coloraxis": {
           "colorbar": {
            "outlinewidth": 0,
            "ticks": ""
           }
          },
          "colorscale": {
           "diverging": [
            [
             0,
             "#8e0152"
            ],
            [
             0.1,
             "#c51b7d"
            ],
            [
             0.2,
             "#de77ae"
            ],
            [
             0.3,
             "#f1b6da"
            ],
            [
             0.4,
             "#fde0ef"
            ],
            [
             0.5,
             "#f7f7f7"
            ],
            [
             0.6,
             "#e6f5d0"
            ],
            [
             0.7,
             "#b8e186"
            ],
            [
             0.8,
             "#7fbc41"
            ],
            [
             0.9,
             "#4d9221"
            ],
            [
             1,
             "#276419"
            ]
           ],
           "sequential": [
            [
             0,
             "#0d0887"
            ],
            [
             0.1111111111111111,
             "#46039f"
            ],
            [
             0.2222222222222222,
             "#7201a8"
            ],
            [
             0.3333333333333333,
             "#9c179e"
            ],
            [
             0.4444444444444444,
             "#bd3786"
            ],
            [
             0.5555555555555556,
             "#d8576b"
            ],
            [
             0.6666666666666666,
             "#ed7953"
            ],
            [
             0.7777777777777778,
             "#fb9f3a"
            ],
            [
             0.8888888888888888,
             "#fdca26"
            ],
            [
             1,
             "#f0f921"
            ]
           ],
           "sequentialminus": [
            [
             0,
             "#0d0887"
            ],
            [
             0.1111111111111111,
             "#46039f"
            ],
            [
             0.2222222222222222,
             "#7201a8"
            ],
            [
             0.3333333333333333,
             "#9c179e"
            ],
            [
             0.4444444444444444,
             "#bd3786"
            ],
            [
             0.5555555555555556,
             "#d8576b"
            ],
            [
             0.6666666666666666,
             "#ed7953"
            ],
            [
             0.7777777777777778,
             "#fb9f3a"
            ],
            [
             0.8888888888888888,
             "#fdca26"
            ],
            [
             1,
             "#f0f921"
            ]
           ]
          },
          "colorway": [
           "#636efa",
           "#EF553B",
           "#00cc96",
           "#ab63fa",
           "#FFA15A",
           "#19d3f3",
           "#FF6692",
           "#B6E880",
           "#FF97FF",
           "#FECB52"
          ],
          "font": {
           "color": "#f2f5fa"
          },
          "geo": {
           "bgcolor": "rgb(17,17,17)",
           "lakecolor": "rgb(17,17,17)",
           "landcolor": "rgb(17,17,17)",
           "showlakes": true,
           "showland": true,
           "subunitcolor": "#506784"
          },
          "hoverlabel": {
           "align": "left"
          },
          "hovermode": "closest",
          "mapbox": {
           "style": "dark"
          },
          "paper_bgcolor": "rgb(17,17,17)",
          "plot_bgcolor": "rgb(17,17,17)",
          "polar": {
           "angularaxis": {
            "gridcolor": "#506784",
            "linecolor": "#506784",
            "ticks": ""
           },
           "bgcolor": "rgb(17,17,17)",
           "radialaxis": {
            "gridcolor": "#506784",
            "linecolor": "#506784",
            "ticks": ""
           }
          },
          "scene": {
           "xaxis": {
            "backgroundcolor": "rgb(17,17,17)",
            "gridcolor": "#506784",
            "gridwidth": 2,
            "linecolor": "#506784",
            "showbackground": true,
            "ticks": "",
            "zerolinecolor": "#C8D4E3"
           },
           "yaxis": {
            "backgroundcolor": "rgb(17,17,17)",
            "gridcolor": "#506784",
            "gridwidth": 2,
            "linecolor": "#506784",
            "showbackground": true,
            "ticks": "",
            "zerolinecolor": "#C8D4E3"
           },
           "zaxis": {
            "backgroundcolor": "rgb(17,17,17)",
            "gridcolor": "#506784",
            "gridwidth": 2,
            "linecolor": "#506784",
            "showbackground": true,
            "ticks": "",
            "zerolinecolor": "#C8D4E3"
           }
          },
          "shapedefaults": {
           "line": {
            "color": "#f2f5fa"
           }
          },
          "sliderdefaults": {
           "bgcolor": "#C8D4E3",
           "bordercolor": "rgb(17,17,17)",
           "borderwidth": 1,
           "tickwidth": 0
          },
          "ternary": {
           "aaxis": {
            "gridcolor": "#506784",
            "linecolor": "#506784",
            "ticks": ""
           },
           "baxis": {
            "gridcolor": "#506784",
            "linecolor": "#506784",
            "ticks": ""
           },
           "bgcolor": "rgb(17,17,17)",
           "caxis": {
            "gridcolor": "#506784",
            "linecolor": "#506784",
            "ticks": ""
           }
          },
          "title": {
           "x": 0.05
          },
          "updatemenudefaults": {
           "bgcolor": "#506784",
           "borderwidth": 0
          },
          "xaxis": {
           "automargin": true,
           "gridcolor": "#283442",
           "linecolor": "#506784",
           "ticks": "",
           "title": {
            "standoff": 15
           },
           "zerolinecolor": "#283442",
           "zerolinewidth": 2
          },
          "yaxis": {
           "automargin": true,
           "gridcolor": "#283442",
           "linecolor": "#506784",
           "ticks": "",
           "title": {
            "standoff": 15
           },
           "zerolinecolor": "#283442",
           "zerolinewidth": 2
          }
         }
        },
        "title": {
         "text": "Top youtube channels in TW"
        },
        "width": 800,
        "xaxis": {
         "anchor": "y",
         "domain": [
          0,
          1
         ],
         "title": {
          "text": "Num of video (log)"
         },
         "type": "log"
        },
        "yaxis": {
         "anchor": "x",
         "domain": [
          0,
          1
         ],
         "title": {
          "text": "Num of Subscriber"
         }
        }
       }
      }
     },
     "metadata": {},
     "output_type": "display_data"
    }
   ],
   "source": [
    "fig = px.scatter(channel, x=\"video_count\", y=\"sub_count\",color='topic',\n",
    "                 log_x=True,\n",
    "                 size='view_count',\n",
    "                 labels={\n",
    "                     \"sub_count\": \"Num of Subscriber\",\n",
    "                     \"video_count\": \"Num of video (log)\",\n",
    "                     \"name\": \"Channel Name\",\n",
    "                     \"topic\": \"Categories\",\n",
    "                     \"view_count\":\"Num of views\"\n",
    "                 },\n",
    "                 hover_name='name',\n",
    "                 hover_data={\n",
    "                    \"topic\":True,\n",
    "                    \"sub_count\":True,\n",
    "                    \"video_count\":True,\n",
    "                    \"video_count\":False,\n",
    "                },\n",
    "                 category_orders={\n",
    "                              \"topic\": [*top_topics,\"Other\"]},\n",
    "                 title=\"Top youtube channels in TW\",\n",
    "                #  autosize=False,\n",
    "                 width=800,\n",
    "                 height=500,                \n",
    "                 template=\"plotly_dark\"\n",
    "                 )\n",
    "fig.show()"
   ]
  },
  {
   "cell_type": "code",
   "execution_count": 27,
   "metadata": {},
   "outputs": [],
   "source": [
    "fig.write_image('../images/channel_distribution.png')\n",
    "# fig.write_html('../images/channel_distribution.html')"
   ]
  }
 ],
 "metadata": {
  "kernelspec": {
   "display_name": ".venv",
   "language": "python",
   "name": "python3"
  },
  "language_info": {
   "codemirror_mode": {
    "name": "ipython",
    "version": 3
   },
   "file_extension": ".py",
   "mimetype": "text/x-python",
   "name": "python",
   "nbconvert_exporter": "python",
   "pygments_lexer": "ipython3",
   "version": "3.11.8"
  }
 },
 "nbformat": 4,
 "nbformat_minor": 2
}
